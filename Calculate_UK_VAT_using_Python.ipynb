{
  "nbformat": 4,
  "nbformat_minor": 0,
  "metadata": {
    "colab": {
      "name": "Calculate UK VAT using Python.ipynb",
      "provenance": []
    },
    "kernelspec": {
      "name": "python3",
      "display_name": "Python 3"
    },
    "language_info": {
      "name": "python"
    }
  },
  "cells": [
    {
      "cell_type": "markdown",
      "metadata": {
        "id": "R5i4uNtUlwDE"
      },
      "source": [
        "Taken from AAT website:-\n",
        "https://www.aatcomment.org.uk/audience/students/study-tips-how-to-calculate-vat/"
      ]
    },
    {
      "cell_type": "markdown",
      "metadata": {
        "id": "eRerJVmIn-bD"
      },
      "source": [
        "Adding UK VAT to the net sales amount"
      ]
    },
    {
      "cell_type": "code",
      "metadata": {
        "colab": {
          "base_uri": "https://localhost:8080/"
        },
        "id": "RoO7GEQ1lUpr",
        "outputId": "5c6500d2-f5a7-48d1-c676-5cdf5c0fe519"
      },
      "source": [
        "import pandas as pd\n",
        "import numpy as np\n",
        "\n",
        "vat = input(\"Please enter the VAT calculation in float format: \")\n",
        "vat = float(vat)\n",
        "\n",
        "net_sales = input(\"Please enter the value of sales excluding VAT: \")\n",
        "net_sales = float(net_sales)\n",
        "\n",
        "vat_amount = net_sales * vat\n",
        "print(\"VAT amount for the purchase of \", net_sales, \" is \", vat_amount, \".\")\n",
        "\n",
        "gross_amount = net_sales + vat_amount\n",
        "print(\"The gross sale for a net sale of \", net_sales, \" with VAT of \", vat * 100, \"% is \", gross_amount, \".\")"
      ],
      "execution_count": 6,
      "outputs": [
        {
          "output_type": "stream",
          "text": [
            "Please enter the VAT calculation in float format: .20\n",
            "Please enter the value of sales excluding VAT: 80\n",
            "VAT amount for the purchase of  80.0  is  16.0 .\n",
            "The gross sale for a net sale of  80.0  with VAT of  20.0 % is  96.0 .\n"
          ],
          "name": "stdout"
        }
      ]
    },
    {
      "cell_type": "markdown",
      "metadata": {
        "id": "Iy8f4sXGsTal"
      },
      "source": [
        "Extracting VAT from gross sales"
      ]
    },
    {
      "cell_type": "code",
      "metadata": {
        "colab": {
          "base_uri": "https://localhost:8080/"
        },
        "id": "dvHM6SPEshhZ",
        "outputId": "4e4880a5-6ce2-43d4-f715-c72492864ee4"
      },
      "source": [
        "import pandas as pd\n",
        "import numpy as np\n",
        "\n",
        "vat = input(\"Please enter the VAT calculation in float format: \")\n",
        "vat = float(vat)\n",
        "\n",
        "gross_sales = input(\"Please enter the value of the sales including VAT: \")\n",
        "gross_sales = float(gross_sales)\n",
        "\n",
        "net_sales = gross_sales / (1 + vat)\n",
        "print (\"The net amount for gross sales of \", gross_sales, \" is \", net_sales, \".\" )\n",
        "\n",
        "vat_amount = net_sales * vat\n",
        "print(\"The VAT amount of gross sales of \", gross_sales, \" is \", vat_amount, \".\") "
      ],
      "execution_count": 10,
      "outputs": [
        {
          "output_type": "stream",
          "text": [
            "Please enter the VAT calculation in float format: .20\n",
            "Please enter the value of the sales including VAT: 669.60\n",
            "The net amount for gross sales of  669.6  is  558.0 .\n",
            "The VAT amount of gross sales of  669.6  is  111.60000000000001 .\n"
          ],
          "name": "stdout"
        }
      ]
    }
  ]
}