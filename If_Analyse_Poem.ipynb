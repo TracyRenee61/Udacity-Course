{
  "nbformat": 4,
  "nbformat_minor": 0,
  "metadata": {
    "colab": {
      "name": "If Analyse Poem.ipynb",
      "provenance": []
    },
    "kernelspec": {
      "name": "python3",
      "display_name": "Python 3"
    },
    "language_info": {
      "name": "python"
    }
  },
  "cells": [
    {
      "cell_type": "markdown",
      "metadata": {
        "id": "RGyUjMNyqEVJ"
      },
      "source": [
        "If by Rudyard Kipling can be found here:-\n",
        "https://www.poetryfoundation.org/poems/46473/if---"
      ]
    },
    {
      "cell_type": "markdown",
      "metadata": {
        "id": "ThDTWAotqLXx"
      },
      "source": [
        "Import"
      ]
    },
    {
      "cell_type": "code",
      "metadata": {
        "id": "ZIoKpFyEpyEM"
      },
      "source": [
        "import numpy as np\n",
        "import pandas as pd"
      ],
      "execution_count": 65,
      "outputs": []
    },
    {
      "cell_type": "markdown",
      "metadata": {
        "id": "dEcT3BVxqYJb"
      },
      "source": [
        "Read file"
      ]
    },
    {
      "cell_type": "code",
      "metadata": {
        "id": "o2aXne2PqZ5e"
      },
      "source": [
        "file = open(\"/content/drive/MyDrive/If by R Kipling.txt\", \"rt\")\n",
        "data = file.read()"
      ],
      "execution_count": 66,
      "outputs": []
    },
    {
      "cell_type": "markdown",
      "metadata": {
        "id": "IgaDG2pQq1Ro"
      },
      "source": [
        "Print poem"
      ]
    },
    {
      "cell_type": "code",
      "metadata": {
        "colab": {
          "base_uri": "https://localhost:8080/"
        },
        "id": "mzi4ws2Rq3GU",
        "outputId": "3ba3d944-a883-40c3-8582-801b2d44bd77"
      },
      "source": [
        "print(data)"
      ],
      "execution_count": 67,
      "outputs": [
        {
          "output_type": "stream",
          "text": [
            "If \n",
            "by Rudyard Kipling\n",
            "If you can keep your head when all about you\n",
            "Are losing theirs and blaming it on you;\n",
            "If you can trust yourself when all men doubt you,\n",
            "But make allowance for their doubting too:\n",
            "If you can wait and not be tired by waiting,\n",
            "Or, being lied about, don't deal in lies,\n",
            "Or being hated don't give way to hating,\n",
            "And yet don't look too good, nor talk too wise;\n",
            "\n",
            "If you can dream- -and not make dreams your master;\n",
            "If you can think- -and not make thoughts your aim,\n",
            "If you can meet with Triumph and Disaster\n",
            "And treat those two impostors just the same:.\n",
            "If you can bear to hear the truth you've spoken\n",
            "Twisted by knaves to make a trap for fools,\n",
            "Or watch the things you gave your life to, broken,\n",
            "And stoop and build'em up with worn-out tools;\n",
            "\n",
            "If you can make one heap of all your winnings\n",
            "And risk it on one turn of pitch-and-toss,\n",
            "And lose, and start again at your beginnings,\n",
            "And never breathe a word about your loss:\n",
            "If you can force your heart and nerve and sinew\n",
            "To serve your turn long after they are gone,\n",
            "And so hold on when there is nothing in you\n",
            "Except the Will which says to them: 'Hold on! '\n",
            "\n",
            "If you can talk with crowds and keep your virtue,\n",
            "Or walk with Kings- -nor lose the common touch,\n",
            "If neither foes nor loving friends can hurt you,\n",
            "If all men count with you, but none too much:\n",
            "If you can fill the unforgiving minute\n",
            "With sixty seconds' worth of distance run,\n",
            "Yours is the Earth and everything that's in it,\n",
            "And- -which is more- -you'll be a Man, my son!\n",
            "\n"
          ],
          "name": "stdout"
        }
      ]
    },
    {
      "cell_type": "markdown",
      "metadata": {
        "id": "Pf7Q98S2GrHH"
      },
      "source": [
        "Length of data in characters"
      ]
    },
    {
      "cell_type": "code",
      "metadata": {
        "colab": {
          "base_uri": "https://localhost:8080/"
        },
        "id": "-BrnaGTXGtyn",
        "outputId": "97368957-fc33-4c1f-bf6b-6e052c3c4f08"
      },
      "source": [
        "print(len(data))"
      ],
      "execution_count": 68,
      "outputs": [
        {
          "output_type": "stream",
          "text": [
            "1494\n"
          ],
          "name": "stdout"
        }
      ]
    },
    {
      "cell_type": "markdown",
      "metadata": {
        "id": "pxHcJiVarbOc"
      },
      "source": [
        "Split data"
      ]
    },
    {
      "cell_type": "code",
      "metadata": {
        "colab": {
          "base_uri": "https://localhost:8080/"
        },
        "id": "cRIR9t86ref2",
        "outputId": "6ce483ae-1e6b-4610-8c1e-d98a0fa58065"
      },
      "source": [
        "verse = data.split()\n",
        "print(verse)"
      ],
      "execution_count": 69,
      "outputs": [
        {
          "output_type": "stream",
          "text": [
            "['If', 'by', 'Rudyard', 'Kipling', 'If', 'you', 'can', 'keep', 'your', 'head', 'when', 'all', 'about', 'you', 'Are', 'losing', 'theirs', 'and', 'blaming', 'it', 'on', 'you;', 'If', 'you', 'can', 'trust', 'yourself', 'when', 'all', 'men', 'doubt', 'you,', 'But', 'make', 'allowance', 'for', 'their', 'doubting', 'too:', 'If', 'you', 'can', 'wait', 'and', 'not', 'be', 'tired', 'by', 'waiting,', 'Or,', 'being', 'lied', 'about,', \"don't\", 'deal', 'in', 'lies,', 'Or', 'being', 'hated', \"don't\", 'give', 'way', 'to', 'hating,', 'And', 'yet', \"don't\", 'look', 'too', 'good,', 'nor', 'talk', 'too', 'wise;', 'If', 'you', 'can', 'dream-', '-and', 'not', 'make', 'dreams', 'your', 'master;', 'If', 'you', 'can', 'think-', '-and', 'not', 'make', 'thoughts', 'your', 'aim,', 'If', 'you', 'can', 'meet', 'with', 'Triumph', 'and', 'Disaster', 'And', 'treat', 'those', 'two', 'impostors', 'just', 'the', 'same:.', 'If', 'you', 'can', 'bear', 'to', 'hear', 'the', 'truth', \"you've\", 'spoken', 'Twisted', 'by', 'knaves', 'to', 'make', 'a', 'trap', 'for', 'fools,', 'Or', 'watch', 'the', 'things', 'you', 'gave', 'your', 'life', 'to,', 'broken,', 'And', 'stoop', 'and', \"build'em\", 'up', 'with', 'worn-out', 'tools;', 'If', 'you', 'can', 'make', 'one', 'heap', 'of', 'all', 'your', 'winnings', 'And', 'risk', 'it', 'on', 'one', 'turn', 'of', 'pitch-and-toss,', 'And', 'lose,', 'and', 'start', 'again', 'at', 'your', 'beginnings,', 'And', 'never', 'breathe', 'a', 'word', 'about', 'your', 'loss:', 'If', 'you', 'can', 'force', 'your', 'heart', 'and', 'nerve', 'and', 'sinew', 'To', 'serve', 'your', 'turn', 'long', 'after', 'they', 'are', 'gone,', 'And', 'so', 'hold', 'on', 'when', 'there', 'is', 'nothing', 'in', 'you', 'Except', 'the', 'Will', 'which', 'says', 'to', 'them:', \"'Hold\", 'on!', \"'\", 'If', 'you', 'can', 'talk', 'with', 'crowds', 'and', 'keep', 'your', 'virtue,', 'Or', 'walk', 'with', 'Kings-', '-nor', 'lose', 'the', 'common', 'touch,', 'If', 'neither', 'foes', 'nor', 'loving', 'friends', 'can', 'hurt', 'you,', 'If', 'all', 'men', 'count', 'with', 'you,', 'but', 'none', 'too', 'much:', 'If', 'you', 'can', 'fill', 'the', 'unforgiving', 'minute', 'With', 'sixty', \"seconds'\", 'worth', 'of', 'distance', 'run,', 'Yours', 'is', 'the', 'Earth', 'and', 'everything', \"that's\", 'in', 'it,', 'And-', '-which', 'is', 'more-', \"-you'll\", 'be', 'a', 'Man,', 'my', 'son!']\n"
          ],
          "name": "stdout"
        }
      ]
    },
    {
      "cell_type": "markdown",
      "metadata": {
        "id": "-rhQuV7YGnaX"
      },
      "source": [
        "Length of verse in words"
      ]
    },
    {
      "cell_type": "code",
      "metadata": {
        "colab": {
          "base_uri": "https://localhost:8080/"
        },
        "id": "mGeVsO-Gr2Vd",
        "outputId": "ae754c38-e6c2-4099-d854-d76787e06e4a"
      },
      "source": [
        "print(\"The length of If is: \", len(verse))"
      ],
      "execution_count": 70,
      "outputs": [
        {
          "output_type": "stream",
          "text": [
            "The length of If is:  292\n"
          ],
          "name": "stdout"
        }
      ]
    },
    {
      "cell_type": "markdown",
      "metadata": {
        "id": "Rrik5NGosIwl"
      },
      "source": [
        "Find first occurance of and"
      ]
    },
    {
      "cell_type": "code",
      "metadata": {
        "colab": {
          "base_uri": "https://localhost:8080/"
        },
        "id": "rKQQjXM8sMz-",
        "outputId": "106bba09-e3c1-44d4-a93f-a979d98ceb26"
      },
      "source": [
        "count = 0\n",
        "\n",
        "for word in verse:\n",
        "    count = count + 1\n",
        "    if word == 'and':\n",
        "        print(\"The first occurance of the word and: \", count)\n",
        "        break\n",
        "    else: pass"
      ],
      "execution_count": 71,
      "outputs": [
        {
          "output_type": "stream",
          "text": [
            "The first occurance of the word and:  18\n"
          ],
          "name": "stdout"
        }
      ]
    },
    {
      "cell_type": "markdown",
      "metadata": {
        "id": "gznBldVfFnxu"
      },
      "source": [
        "Alternate in characters"
      ]
    },
    {
      "cell_type": "code",
      "metadata": {
        "colab": {
          "base_uri": "https://localhost:8080/"
        },
        "id": "34eXtQkjFqHN",
        "outputId": "53bf210f-fed1-4714-841e-74c00e949755"
      },
      "source": [
        "first_idx = data.find('and')\n",
        "print(\"The first occurance of the word and: \", first_idx)"
      ],
      "execution_count": 72,
      "outputs": [
        {
          "output_type": "stream",
          "text": [
            "The first occurance of the word and:  86\n"
          ],
          "name": "stdout"
        }
      ]
    },
    {
      "cell_type": "markdown",
      "metadata": {
        "id": "ZCIBS_SBsfN8"
      },
      "source": [
        "First occurance of the word you"
      ]
    },
    {
      "cell_type": "code",
      "metadata": {
        "colab": {
          "base_uri": "https://localhost:8080/"
        },
        "id": "hGkA93VosjWi",
        "outputId": "9a425a16-b867-4d3c-cd9d-9607fdf36bb9"
      },
      "source": [
        "for word in reversed(verse):\n",
        "    count = count + 1\n",
        "    if word == 'you':\n",
        "        print(\"The last occurance of the word you: \", (len(verse) + 1)  - count)\n",
        "        break\n",
        "    else: pass"
      ],
      "execution_count": 73,
      "outputs": [
        {
          "output_type": "stream",
          "text": [
            "The last occurance of the word you:  243\n"
          ],
          "name": "stdout"
        }
      ]
    },
    {
      "cell_type": "markdown",
      "metadata": {
        "id": "JDVPclBtGFzH"
      },
      "source": [
        "Alternate in characters"
      ]
    },
    {
      "cell_type": "code",
      "metadata": {
        "colab": {
          "base_uri": "https://localhost:8080/"
        },
        "id": "bwUO6faFGJZt",
        "outputId": "2dfc12a7-01bd-4f38-f8a0-92530d455dea"
      },
      "source": [
        "last_idx = data.rfind('you')\n",
        "print(\"The last occurance of the word you: \", last_idx)"
      ],
      "execution_count": 74,
      "outputs": [
        {
          "output_type": "stream",
          "text": [
            "The last occurance of the word you:  1469\n"
          ],
          "name": "stdout"
        }
      ]
    },
    {
      "cell_type": "markdown",
      "metadata": {
        "id": "Fa2UjXUOtLLZ"
      },
      "source": [
        "Number of occurances of you in words"
      ]
    },
    {
      "cell_type": "code",
      "metadata": {
        "colab": {
          "base_uri": "https://localhost:8080/"
        },
        "id": "aEc6OwurtP5c",
        "outputId": "913591c3-53de-413e-8067-f9a7b558ff26"
      },
      "source": [
        "print(\"The number of occurances of you are: \", verse.count('you'))"
      ],
      "execution_count": 75,
      "outputs": [
        {
          "output_type": "stream",
          "text": [
            "The number of occurances of you are:  14\n"
          ],
          "name": "stdout"
        }
      ]
    },
    {
      "cell_type": "markdown",
      "metadata": {
        "id": "uIelFhm0HIj9"
      },
      "source": [
        "Alternate number of occurances in characters (I think it includes Your)"
      ]
    },
    {
      "cell_type": "code",
      "metadata": {
        "colab": {
          "base_uri": "https://localhost:8080/"
        },
        "id": "9rTVvdsEHOJw",
        "outputId": "e3ecb5b6-a6c2-4251-fdc9-cbcdf43f1c72"
      },
      "source": [
        "print(\"The number of occurances of you are: \", data.count('you'))"
      ],
      "execution_count": 76,
      "outputs": [
        {
          "output_type": "stream",
          "text": [
            "The number of occurances of you are:  31\n"
          ],
          "name": "stdout"
        }
      ]
    }
  ]
}