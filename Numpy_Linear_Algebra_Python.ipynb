{
  "nbformat": 4,
  "nbformat_minor": 0,
  "metadata": {
    "colab": {
      "name": "Numpy Linear Algebra - Python.ipynb",
      "provenance": []
    },
    "kernelspec": {
      "name": "python3",
      "display_name": "Python 3"
    },
    "language_info": {
      "name": "python"
    }
  },
  "cells": [
    {
      "cell_type": "markdown",
      "metadata": {
        "id": "99739_KQXua_"
      },
      "source": [
        "$$f(x) * x*2 + e*X + \\frac(2){3\\sqrt(x)}$$"
      ]
    },
    {
      "cell_type": "markdown",
      "metadata": {
        "id": "HVqVTANVTUJe"
      },
      "source": [
        "Taken from:-\n",
        "https://www.youtube.com/watch?v=kbBi1liIrFg"
      ]
    },
    {
      "cell_type": "markdown",
      "metadata": {
        "id": "eHYDcomUUFbP"
      },
      "source": [
        "Create vector"
      ]
    },
    {
      "cell_type": "code",
      "metadata": {
        "colab": {
          "base_uri": "https://localhost:8080/"
        },
        "id": "wZd5XeThWsLh",
        "outputId": "d5cdd863-18f8-44bc-f03d-a0d78e0900e3"
      },
      "source": [
        "import numpy as np\n",
        "\n",
        "#create numpy array\n",
        "a = np.array(([100, 20, 30, 40, 50]))\n",
        "print(a)"
      ],
      "execution_count": 151,
      "outputs": [
        {
          "output_type": "stream",
          "text": [
            "[100  20  30  40  50]\n"
          ],
          "name": "stdout"
        }
      ]
    },
    {
      "cell_type": "code",
      "metadata": {
        "colab": {
          "base_uri": "https://localhost:8080/"
        },
        "id": "BcuGrvq9Z8aB",
        "outputId": "1bb90afb-15a8-4996-b30c-7e2a1abb04fe"
      },
      "source": [
        "type(a)"
      ],
      "execution_count": 152,
      "outputs": [
        {
          "output_type": "execute_result",
          "data": {
            "text/plain": [
              "numpy.ndarray"
            ]
          },
          "metadata": {
            "tags": []
          },
          "execution_count": 152
        }
      ]
    },
    {
      "cell_type": "code",
      "metadata": {
        "colab": {
          "base_uri": "https://localhost:8080/"
        },
        "id": "qvpkDPZXaduB",
        "outputId": "a890b3c4-6030-48f0-8d73-b92a07bf5382"
      },
      "source": [
        "#indexing elements in numpy array\n",
        "print(a[0])"
      ],
      "execution_count": 153,
      "outputs": [
        {
          "output_type": "stream",
          "text": [
            "100\n"
          ],
          "name": "stdout"
        }
      ]
    },
    {
      "cell_type": "code",
      "metadata": {
        "colab": {
          "base_uri": "https://localhost:8080/"
        },
        "id": "uQR8iCrYbCIt",
        "outputId": "150405ea-93e5-423c-f036-f090721c8f2b"
      },
      "source": [
        "print(a[0:2])"
      ],
      "execution_count": 154,
      "outputs": [
        {
          "output_type": "stream",
          "text": [
            "[100  20]\n"
          ],
          "name": "stdout"
        }
      ]
    },
    {
      "cell_type": "code",
      "metadata": {
        "colab": {
          "base_uri": "https://localhost:8080/"
        },
        "id": "qZ2Vo3POTG87",
        "outputId": "fb5e35e7-d38c-442f-d082-0042e363b0f6"
      },
      "source": [
        "print(a[2:4])"
      ],
      "execution_count": 155,
      "outputs": [
        {
          "output_type": "stream",
          "text": [
            "[30 40]\n"
          ],
          "name": "stdout"
        }
      ]
    },
    {
      "cell_type": "code",
      "metadata": {
        "colab": {
          "base_uri": "https://localhost:8080/"
        },
        "id": "M_kKg3k8Tkie",
        "outputId": "cb61cf61-4f90-4d91-a40f-5aa55e8bac89"
      },
      "source": [
        "#retrieving dimensions of array\n",
        "a.shape"
      ],
      "execution_count": 156,
      "outputs": [
        {
          "output_type": "execute_result",
          "data": {
            "text/plain": [
              "(5,)"
            ]
          },
          "metadata": {
            "tags": []
          },
          "execution_count": 156
        }
      ]
    },
    {
      "cell_type": "code",
      "metadata": {
        "colab": {
          "base_uri": "https://localhost:8080/"
        },
        "id": "8LZ6liDWT077",
        "outputId": "bfabb5ed-2477-4353-e5d7-939ee1dd9271"
      },
      "source": [
        "a.shape[0]"
      ],
      "execution_count": 157,
      "outputs": [
        {
          "output_type": "execute_result",
          "data": {
            "text/plain": [
              "5"
            ]
          },
          "metadata": {
            "tags": []
          },
          "execution_count": 157
        }
      ]
    },
    {
      "cell_type": "markdown",
      "metadata": {
        "id": "SgxewE-gUA0N"
      },
      "source": [
        "Create matrix"
      ]
    },
    {
      "cell_type": "code",
      "metadata": {
        "colab": {
          "base_uri": "https://localhost:8080/"
        },
        "id": "8LswrhQoUJDS",
        "outputId": "73c640e0-583f-4e54-ea5f-d69386fc1d91"
      },
      "source": [
        "A = np.array([[1, 2, 3, 4], [10, 20, 30, 40], [100, 200, 300, 400], [1000, 2000, 3000, 4000]])\n",
        "A"
      ],
      "execution_count": 158,
      "outputs": [
        {
          "output_type": "execute_result",
          "data": {
            "text/plain": [
              "array([[   1,    2,    3,    4],\n",
              "       [  10,   20,   30,   40],\n",
              "       [ 100,  200,  300,  400],\n",
              "       [1000, 2000, 3000, 4000]])"
            ]
          },
          "metadata": {
            "tags": []
          },
          "execution_count": 158
        }
      ]
    },
    {
      "cell_type": "code",
      "metadata": {
        "colab": {
          "base_uri": "https://localhost:8080/"
        },
        "id": "MUCV4arVVV6F",
        "outputId": "cd3c6e5e-a4a9-4c64-f6f4-546be8581480"
      },
      "source": [
        "#find dimensions\n",
        "A.shape"
      ],
      "execution_count": 159,
      "outputs": [
        {
          "output_type": "execute_result",
          "data": {
            "text/plain": [
              "(4, 4)"
            ]
          },
          "metadata": {
            "tags": []
          },
          "execution_count": 159
        }
      ]
    },
    {
      "cell_type": "code",
      "metadata": {
        "colab": {
          "base_uri": "https://localhost:8080/"
        },
        "id": "GGOmVnqnVsWu",
        "outputId": "3a8f342e-8fe7-4c11-9bec-fad02f32660e"
      },
      "source": [
        "A.shape[0]"
      ],
      "execution_count": 160,
      "outputs": [
        {
          "output_type": "execute_result",
          "data": {
            "text/plain": [
              "4"
            ]
          },
          "metadata": {
            "tags": []
          },
          "execution_count": 160
        }
      ]
    },
    {
      "cell_type": "code",
      "metadata": {
        "colab": {
          "base_uri": "https://localhost:8080/"
        },
        "id": "GE_955PDVvjn",
        "outputId": "cac58be3-79c7-475f-9e3e-d65474de3abb"
      },
      "source": [
        "A.shape[1]"
      ],
      "execution_count": 161,
      "outputs": [
        {
          "output_type": "execute_result",
          "data": {
            "text/plain": [
              "4"
            ]
          },
          "metadata": {
            "tags": []
          },
          "execution_count": 161
        }
      ]
    },
    {
      "cell_type": "code",
      "metadata": {
        "colab": {
          "base_uri": "https://localhost:8080/"
        },
        "id": "yxgbWZLjjVLY",
        "outputId": "c3da8c3f-eb0d-4592-bf19-1637c72dfa3a"
      },
      "source": [
        "print(A[2,3])"
      ],
      "execution_count": 162,
      "outputs": [
        {
          "output_type": "stream",
          "text": [
            "400\n"
          ],
          "name": "stdout"
        }
      ]
    },
    {
      "cell_type": "code",
      "metadata": {
        "colab": {
          "base_uri": "https://localhost:8080/"
        },
        "id": "9E-w_0blj6LS",
        "outputId": "9dd1ede5-241e-4022-c88a-426fae6ff259"
      },
      "source": [
        "#extract submatrix\n",
        "B = A[1:3, 1:4]\n",
        "B"
      ],
      "execution_count": 163,
      "outputs": [
        {
          "output_type": "execute_result",
          "data": {
            "text/plain": [
              "array([[ 20,  30,  40],\n",
              "       [200, 300, 400]])"
            ]
          },
          "metadata": {
            "tags": []
          },
          "execution_count": 163
        }
      ]
    },
    {
      "cell_type": "code",
      "metadata": {
        "colab": {
          "base_uri": "https://localhost:8080/"
        },
        "id": "o3GY4P0s3dHM",
        "outputId": "e327b55e-c175-4845-eb3c-a07240f777ab"
      },
      "source": [
        "#modify elements of array\n",
        "A"
      ],
      "execution_count": 164,
      "outputs": [
        {
          "output_type": "execute_result",
          "data": {
            "text/plain": [
              "array([[   1,    2,    3,    4],\n",
              "       [  10,   20,   30,   40],\n",
              "       [ 100,  200,  300,  400],\n",
              "       [1000, 2000, 3000, 4000]])"
            ]
          },
          "metadata": {
            "tags": []
          },
          "execution_count": 164
        }
      ]
    },
    {
      "cell_type": "code",
      "metadata": {
        "colab": {
          "base_uri": "https://localhost:8080/"
        },
        "id": "0R-_oSgt34mi",
        "outputId": "63964ed8-b2c4-4978-f398-48a1b8c7c74d"
      },
      "source": [
        "A[2,1] = 1/3\n",
        "A"
      ],
      "execution_count": 165,
      "outputs": [
        {
          "output_type": "execute_result",
          "data": {
            "text/plain": [
              "array([[   1,    2,    3,    4],\n",
              "       [  10,   20,   30,   40],\n",
              "       [ 100,    0,  300,  400],\n",
              "       [1000, 2000, 3000, 4000]])"
            ]
          },
          "metadata": {
            "tags": []
          },
          "execution_count": 165
        }
      ]
    },
    {
      "cell_type": "markdown",
      "metadata": {
        "id": "5yYkVUVn4jQU"
      },
      "source": [
        "Create special matrices"
      ]
    },
    {
      "cell_type": "code",
      "metadata": {
        "colab": {
          "base_uri": "https://localhost:8080/"
        },
        "id": "nPCV3wXL4vom",
        "outputId": "43622c43-2624-49d1-c628-794d92a97ec5"
      },
      "source": [
        "I = np.eye(10)\n",
        "I"
      ],
      "execution_count": 166,
      "outputs": [
        {
          "output_type": "execute_result",
          "data": {
            "text/plain": [
              "array([[1., 0., 0., 0., 0., 0., 0., 0., 0., 0.],\n",
              "       [0., 1., 0., 0., 0., 0., 0., 0., 0., 0.],\n",
              "       [0., 0., 1., 0., 0., 0., 0., 0., 0., 0.],\n",
              "       [0., 0., 0., 1., 0., 0., 0., 0., 0., 0.],\n",
              "       [0., 0., 0., 0., 1., 0., 0., 0., 0., 0.],\n",
              "       [0., 0., 0., 0., 0., 1., 0., 0., 0., 0.],\n",
              "       [0., 0., 0., 0., 0., 0., 1., 0., 0., 0.],\n",
              "       [0., 0., 0., 0., 0., 0., 0., 1., 0., 0.],\n",
              "       [0., 0., 0., 0., 0., 0., 0., 0., 1., 0.],\n",
              "       [0., 0., 0., 0., 0., 0., 0., 0., 0., 1.]])"
            ]
          },
          "metadata": {
            "tags": []
          },
          "execution_count": 166
        }
      ]
    },
    {
      "cell_type": "code",
      "metadata": {
        "colab": {
          "base_uri": "https://localhost:8080/"
        },
        "id": "oXUv8rkv5G4T",
        "outputId": "71332e02-ceb1-4ec3-af17-599f0093f8b5"
      },
      "source": [
        "#create all 0's from identity matrix\n",
        "0*I"
      ],
      "execution_count": 167,
      "outputs": [
        {
          "output_type": "execute_result",
          "data": {
            "text/plain": [
              "array([[0., 0., 0., 0., 0., 0., 0., 0., 0., 0.],\n",
              "       [0., 0., 0., 0., 0., 0., 0., 0., 0., 0.],\n",
              "       [0., 0., 0., 0., 0., 0., 0., 0., 0., 0.],\n",
              "       [0., 0., 0., 0., 0., 0., 0., 0., 0., 0.],\n",
              "       [0., 0., 0., 0., 0., 0., 0., 0., 0., 0.],\n",
              "       [0., 0., 0., 0., 0., 0., 0., 0., 0., 0.],\n",
              "       [0., 0., 0., 0., 0., 0., 0., 0., 0., 0.],\n",
              "       [0., 0., 0., 0., 0., 0., 0., 0., 0., 0.],\n",
              "       [0., 0., 0., 0., 0., 0., 0., 0., 0., 0.],\n",
              "       [0., 0., 0., 0., 0., 0., 0., 0., 0., 0.]])"
            ]
          },
          "metadata": {
            "tags": []
          },
          "execution_count": 167
        }
      ]
    },
    {
      "cell_type": "code",
      "metadata": {
        "colab": {
          "base_uri": "https://localhost:8080/"
        },
        "id": "3bxAAvr75WAr",
        "outputId": "ddcf7ded-13c5-4c01-a553-f5ac3cf51068"
      },
      "source": [
        "#create matrix of all zeros\n",
        "np.zeros([5, 5])"
      ],
      "execution_count": 168,
      "outputs": [
        {
          "output_type": "execute_result",
          "data": {
            "text/plain": [
              "array([[0., 0., 0., 0., 0.],\n",
              "       [0., 0., 0., 0., 0.],\n",
              "       [0., 0., 0., 0., 0.],\n",
              "       [0., 0., 0., 0., 0.],\n",
              "       [0., 0., 0., 0., 0.]])"
            ]
          },
          "metadata": {
            "tags": []
          },
          "execution_count": 168
        }
      ]
    },
    {
      "cell_type": "code",
      "metadata": {
        "colab": {
          "base_uri": "https://localhost:8080/"
        },
        "id": "39KwrfEP6MnZ",
        "outputId": "8b4393df-79ef-4b82-dc8e-1e0d34e4ce79"
      },
      "source": [
        "#create matrix of all ones\n",
        "np.ones([6,4])"
      ],
      "execution_count": 169,
      "outputs": [
        {
          "output_type": "execute_result",
          "data": {
            "text/plain": [
              "array([[1., 1., 1., 1.],\n",
              "       [1., 1., 1., 1.],\n",
              "       [1., 1., 1., 1.],\n",
              "       [1., 1., 1., 1.],\n",
              "       [1., 1., 1., 1.],\n",
              "       [1., 1., 1., 1.]])"
            ]
          },
          "metadata": {
            "tags": []
          },
          "execution_count": 169
        }
      ]
    },
    {
      "cell_type": "code",
      "metadata": {
        "colab": {
          "base_uri": "https://localhost:8080/"
        },
        "id": "t5baVgmL6jmr",
        "outputId": "7c9b98b4-a6b8-4518-9843-ae178990ee67"
      },
      "source": [
        "#constant matrix\n",
        "C = np.full([4, 5], 10)\n",
        "C"
      ],
      "execution_count": 170,
      "outputs": [
        {
          "output_type": "execute_result",
          "data": {
            "text/plain": [
              "array([[10, 10, 10, 10, 10],\n",
              "       [10, 10, 10, 10, 10],\n",
              "       [10, 10, 10, 10, 10],\n",
              "       [10, 10, 10, 10, 10]])"
            ]
          },
          "metadata": {
            "tags": []
          },
          "execution_count": 170
        }
      ]
    },
    {
      "cell_type": "code",
      "metadata": {
        "colab": {
          "base_uri": "https://localhost:8080/"
        },
        "id": "ynEumJGK7Xar",
        "outputId": "3c1fb029-9c9d-4213-ab09-c34caf848b7d"
      },
      "source": [
        "10 * np.ones([4,5])"
      ],
      "execution_count": 171,
      "outputs": [
        {
          "output_type": "execute_result",
          "data": {
            "text/plain": [
              "array([[10., 10., 10., 10., 10.],\n",
              "       [10., 10., 10., 10., 10.],\n",
              "       [10., 10., 10., 10., 10.],\n",
              "       [10., 10., 10., 10., 10.]])"
            ]
          },
          "metadata": {
            "tags": []
          },
          "execution_count": 171
        }
      ]
    },
    {
      "cell_type": "code",
      "metadata": {
        "colab": {
          "base_uri": "https://localhost:8080/"
        },
        "id": "-rH-0at_773I",
        "outputId": "582d0b26-f463-42a3-84a0-aac94de21192"
      },
      "source": [
        "#create random matrix\n",
        "X = np.random.random([2,2])\n",
        "X"
      ],
      "execution_count": 172,
      "outputs": [
        {
          "output_type": "execute_result",
          "data": {
            "text/plain": [
              "array([[0.16277783, 0.81784751],\n",
              "       [0.93878266, 0.79944714]])"
            ]
          },
          "metadata": {
            "tags": []
          },
          "execution_count": 172
        }
      ]
    },
    {
      "cell_type": "code",
      "metadata": {
        "colab": {
          "base_uri": "https://localhost:8080/"
        },
        "id": "_G-RaaF_8sY-",
        "outputId": "1b8c2580-bd4d-4354-cc98-c6126ac892d1"
      },
      "source": [
        "#return random number\n",
        "Z = np.random.random()\n",
        "Z"
      ],
      "execution_count": 173,
      "outputs": [
        {
          "output_type": "execute_result",
          "data": {
            "text/plain": [
              "0.27936269530464286"
            ]
          },
          "metadata": {
            "tags": []
          },
          "execution_count": 173
        }
      ]
    },
    {
      "cell_type": "code",
      "metadata": {
        "colab": {
          "base_uri": "https://localhost:8080/"
        },
        "id": "54Bkqk9X9O3T",
        "outputId": "2ac8128a-f53d-4f27-b632-850675865c28"
      },
      "source": [
        "#create large matric\n",
        "X = np.random.random([10000,2])\n",
        "X"
      ],
      "execution_count": 174,
      "outputs": [
        {
          "output_type": "execute_result",
          "data": {
            "text/plain": [
              "array([[0.57853189, 0.94155025],\n",
              "       [0.62698483, 0.28471945],\n",
              "       [0.35540204, 0.51833522],\n",
              "       ...,\n",
              "       [0.17099836, 0.24029979],\n",
              "       [0.13553773, 0.53952184],\n",
              "       [0.28615806, 0.20635535]])"
            ]
          },
          "metadata": {
            "tags": []
          },
          "execution_count": 174
        }
      ]
    },
    {
      "cell_type": "code",
      "metadata": {
        "colab": {
          "base_uri": "https://localhost:8080/"
        },
        "id": "CUHZPZYb9mcM",
        "outputId": "31472c7e-f5ca-47c2-af18-997503f27c3f"
      },
      "source": [
        "#compute mean\n",
        "np.mean(X)"
      ],
      "execution_count": 175,
      "outputs": [
        {
          "output_type": "execute_result",
          "data": {
            "text/plain": [
              "0.498613155980095"
            ]
          },
          "metadata": {
            "tags": []
          },
          "execution_count": 175
        }
      ]
    },
    {
      "cell_type": "code",
      "metadata": {
        "colab": {
          "base_uri": "https://localhost:8080/"
        },
        "id": "D8TDucj3-G7J",
        "outputId": "2bedb1da-1aaa-496f-8260-0700ef93989c"
      },
      "source": [
        "#compute standard deviation\n",
        "np.std(X)"
      ],
      "execution_count": 176,
      "outputs": [
        {
          "output_type": "execute_result",
          "data": {
            "text/plain": [
              "0.2883376648264258"
            ]
          },
          "metadata": {
            "tags": []
          },
          "execution_count": 176
        }
      ]
    },
    {
      "cell_type": "markdown",
      "metadata": {
        "id": "O6dYr-nr-vIp"
      },
      "source": [
        "$$Var(X) = E(X^2) - E^2(X) = \\int{0}^1 x^2\\ dx - \\frac{1}{4} = \\frac{1}{3} - \\frac{1}{4} = \\frac{1}{12}$$"
      ]
    },
    {
      "cell_type": "code",
      "metadata": {
        "colab": {
          "base_uri": "https://localhost:8080/"
        },
        "id": "78nJqwktdRVf",
        "outputId": "7366fc43-5b8d-4345-8687-9a8a0c653f90"
      },
      "source": [
        "np.std(X)**2"
      ],
      "execution_count": 177,
      "outputs": [
        {
          "output_type": "execute_result",
          "data": {
            "text/plain": [
              "0.08313860895755627"
            ]
          },
          "metadata": {
            "tags": []
          },
          "execution_count": 177
        }
      ]
    },
    {
      "cell_type": "code",
      "metadata": {
        "colab": {
          "base_uri": "https://localhost:8080/"
        },
        "id": "-Vfp8SCWdw6y",
        "outputId": "4a219101-077b-43d9-be68-550155d4fd29"
      },
      "source": [
        "1/12"
      ],
      "execution_count": 178,
      "outputs": [
        {
          "output_type": "execute_result",
          "data": {
            "text/plain": [
              "0.08333333333333333"
            ]
          },
          "metadata": {
            "tags": []
          },
          "execution_count": 178
        }
      ]
    },
    {
      "cell_type": "code",
      "metadata": {
        "id": "uztP34HBfAbA"
      },
      "source": [
        "x = .1\n",
        "y = 1\n",
        "z = 'numpy'"
      ],
      "execution_count": 179,
      "outputs": []
    },
    {
      "cell_type": "code",
      "metadata": {
        "colab": {
          "base_uri": "https://localhost:8080/"
        },
        "id": "qVrMbw1LfTEc",
        "outputId": "f303cbe2-ba3f-4245-d132-87922e25528e"
      },
      "source": [
        "print(type(x)), print(\" \"), print(type(y)), print(\" \"), print(type(z))"
      ],
      "execution_count": 180,
      "outputs": [
        {
          "output_type": "stream",
          "text": [
            "<class 'float'>\n",
            " \n",
            "<class 'int'>\n",
            " \n",
            "<class 'str'>\n"
          ],
          "name": "stdout"
        },
        {
          "output_type": "execute_result",
          "data": {
            "text/plain": [
              "(None, None, None, None, None)"
            ]
          },
          "metadata": {
            "tags": []
          },
          "execution_count": 180
        }
      ]
    },
    {
      "cell_type": "code",
      "metadata": {
        "colab": {
          "base_uri": "https://localhost:8080/"
        },
        "id": "SPhJYPILfzhA",
        "outputId": "e3c23f8d-7c75-4ed6-af11-57544ad9658f"
      },
      "source": [
        "A"
      ],
      "execution_count": 181,
      "outputs": [
        {
          "output_type": "execute_result",
          "data": {
            "text/plain": [
              "array([[   1,    2,    3,    4],\n",
              "       [  10,   20,   30,   40],\n",
              "       [ 100,    0,  300,  400],\n",
              "       [1000, 2000, 3000, 4000]])"
            ]
          },
          "metadata": {
            "tags": []
          },
          "execution_count": 181
        }
      ]
    },
    {
      "cell_type": "code",
      "metadata": {
        "colab": {
          "base_uri": "https://localhost:8080/"
        },
        "id": "qgX6LOCrf2SE",
        "outputId": "ab69ad98-f0d1-4a4d-d10c-13f8076aa97d"
      },
      "source": [
        "print(type(A))"
      ],
      "execution_count": 182,
      "outputs": [
        {
          "output_type": "stream",
          "text": [
            "<class 'numpy.ndarray'>\n"
          ],
          "name": "stdout"
        }
      ]
    },
    {
      "cell_type": "code",
      "metadata": {
        "colab": {
          "base_uri": "https://localhost:8080/"
        },
        "id": "bIvjASVKgDnm",
        "outputId": "3b24e45e-a936-4fcf-9df5-05687751db24"
      },
      "source": [
        "print(A.dtype)"
      ],
      "execution_count": 183,
      "outputs": [
        {
          "output_type": "stream",
          "text": [
            "int64\n"
          ],
          "name": "stdout"
        }
      ]
    },
    {
      "cell_type": "markdown",
      "metadata": {
        "id": "vVjxTjMUgetm"
      },
      "source": [
        "Matrix operations"
      ]
    },
    {
      "cell_type": "code",
      "metadata": {
        "id": "ZaJYvbAAhrt-"
      },
      "source": [
        "#martix addition\n",
        "A = np.array([[1, 5, 6], [1, 8, 9], [0, -1, 6]])\n",
        "B = np.array([[4, 8, 4], [1, 0, 5], [6, -8, 4]])"
      ],
      "execution_count": 184,
      "outputs": []
    },
    {
      "cell_type": "code",
      "metadata": {
        "colab": {
          "base_uri": "https://localhost:8080/"
        },
        "id": "03FFMfHhiU1i",
        "outputId": "83e6ab2c-e02a-4b91-9446-06d31289b2f1"
      },
      "source": [
        "A"
      ],
      "execution_count": 185,
      "outputs": [
        {
          "output_type": "execute_result",
          "data": {
            "text/plain": [
              "array([[ 1,  5,  6],\n",
              "       [ 1,  8,  9],\n",
              "       [ 0, -1,  6]])"
            ]
          },
          "metadata": {
            "tags": []
          },
          "execution_count": 185
        }
      ]
    },
    {
      "cell_type": "code",
      "metadata": {
        "colab": {
          "base_uri": "https://localhost:8080/"
        },
        "id": "RgOTWOdaimWt",
        "outputId": "a69e5e8c-8324-48b4-fe07-db4698c24f0e"
      },
      "source": [
        "B"
      ],
      "execution_count": 186,
      "outputs": [
        {
          "output_type": "execute_result",
          "data": {
            "text/plain": [
              "array([[ 4,  8,  4],\n",
              "       [ 1,  0,  5],\n",
              "       [ 6, -8,  4]])"
            ]
          },
          "metadata": {
            "tags": []
          },
          "execution_count": 186
        }
      ]
    },
    {
      "cell_type": "code",
      "metadata": {
        "id": "gL3tAn8BixdQ"
      },
      "source": [
        "#add matrix"
      ],
      "execution_count": 187,
      "outputs": []
    },
    {
      "cell_type": "code",
      "metadata": {
        "colab": {
          "base_uri": "https://localhost:8080/"
        },
        "id": "h5iQe5Z9izot",
        "outputId": "fcf615f5-aba2-4a89-f1d4-193c7494a2cf"
      },
      "source": [
        "C = A + B\n",
        "C"
      ],
      "execution_count": 188,
      "outputs": [
        {
          "output_type": "execute_result",
          "data": {
            "text/plain": [
              "array([[ 5, 13, 10],\n",
              "       [ 2,  8, 14],\n",
              "       [ 6, -9, 10]])"
            ]
          },
          "metadata": {
            "tags": []
          },
          "execution_count": 188
        }
      ]
    },
    {
      "cell_type": "code",
      "metadata": {
        "colab": {
          "base_uri": "https://localhost:8080/"
        },
        "id": "qQ0PuuBNi9Cq",
        "outputId": "e3b41a25-ceca-4dcf-ffe9-f1afb5db72ce"
      },
      "source": [
        "#another way to add matrices\n",
        "np.add(A,B, dtype=np.float)"
      ],
      "execution_count": 189,
      "outputs": [
        {
          "output_type": "execute_result",
          "data": {
            "text/plain": [
              "array([[ 5., 13., 10.],\n",
              "       [ 2.,  8., 14.],\n",
              "       [ 6., -9., 10.]])"
            ]
          },
          "metadata": {
            "tags": []
          },
          "execution_count": 189
        }
      ]
    },
    {
      "cell_type": "code",
      "metadata": {
        "colab": {
          "base_uri": "https://localhost:8080/"
        },
        "id": "GEK4aRexjqtz",
        "outputId": "ddf46322-fd24-4bf7-ddcb-4d4ffa34c6d4"
      },
      "source": [
        "#matrix subtraction\n",
        "C = A-B\n",
        "print(C)"
      ],
      "execution_count": 190,
      "outputs": [
        {
          "output_type": "stream",
          "text": [
            "[[-3 -3  2]\n",
            " [ 0  8  4]\n",
            " [-6  7  2]]\n"
          ],
          "name": "stdout"
        }
      ]
    },
    {
      "cell_type": "code",
      "metadata": {
        "colab": {
          "base_uri": "https://localhost:8080/"
        },
        "id": "U5C8R_IAj-pa",
        "outputId": "13fba726-8571-4c17-bbed-3ab0d06ad643"
      },
      "source": [
        "#another way to subtract matrix\n",
        "np.subtract(A, B, dtype=float)"
      ],
      "execution_count": 191,
      "outputs": [
        {
          "output_type": "execute_result",
          "data": {
            "text/plain": [
              "array([[-3., -3.,  2.],\n",
              "       [ 0.,  8.,  4.],\n",
              "       [-6.,  7.,  2.]])"
            ]
          },
          "metadata": {
            "tags": []
          },
          "execution_count": 191
        }
      ]
    },
    {
      "cell_type": "code",
      "metadata": {
        "colab": {
          "base_uri": "https://localhost:8080/"
        },
        "id": "JEcuV16TkQVV",
        "outputId": "e047f4c2-f8dc-405b-fa54-5624eb78deb7"
      },
      "source": [
        "#matrix multiplication\n",
        "#pointwise multiplication\n",
        "C = A * B\n",
        "C"
      ],
      "execution_count": 192,
      "outputs": [
        {
          "output_type": "execute_result",
          "data": {
            "text/plain": [
              "array([[ 4, 40, 24],\n",
              "       [ 1,  0, 45],\n",
              "       [ 0,  8, 24]])"
            ]
          },
          "metadata": {
            "tags": []
          },
          "execution_count": 192
        }
      ]
    },
    {
      "cell_type": "code",
      "metadata": {
        "colab": {
          "base_uri": "https://localhost:8080/"
        },
        "id": "Lg7RE0YImCIi",
        "outputId": "baa395a3-85bd-495c-8b6c-953e5194cafb"
      },
      "source": [
        "#another way to multiply\n",
        "C = np.multiply(A, B, dtype=float)\n",
        "C"
      ],
      "execution_count": 193,
      "outputs": [
        {
          "output_type": "execute_result",
          "data": {
            "text/plain": [
              "array([[ 4., 40., 24.],\n",
              "       [ 1.,  0., 45.],\n",
              "       [ 0.,  8., 24.]])"
            ]
          },
          "metadata": {
            "tags": []
          },
          "execution_count": 193
        }
      ]
    },
    {
      "cell_type": "code",
      "metadata": {
        "colab": {
          "base_uri": "https://localhost:8080/"
        },
        "id": "3OTwHEjdmbfK",
        "outputId": "37ef8b48-0a0e-4359-a20c-4aa57603abb6"
      },
      "source": [
        "#matrix division\n",
        "#pointwise\n",
        "C = A / B\n",
        "print(C)"
      ],
      "execution_count": 194,
      "outputs": [
        {
          "output_type": "stream",
          "text": [
            "[[0.25  0.625 1.5  ]\n",
            " [1.      inf 1.8  ]\n",
            " [0.    0.125 1.5  ]]\n"
          ],
          "name": "stdout"
        },
        {
          "output_type": "stream",
          "text": [
            "/usr/local/lib/python3.7/dist-packages/ipykernel_launcher.py:3: RuntimeWarning: divide by zero encountered in true_divide\n",
            "  This is separate from the ipykernel package so we can avoid doing imports until\n"
          ],
          "name": "stderr"
        }
      ]
    },
    {
      "cell_type": "code",
      "metadata": {
        "colab": {
          "base_uri": "https://localhost:8080/"
        },
        "id": "i0IpP-SCmxiR",
        "outputId": "7ce3efa2-044f-41eb-b998-1682c0ec2e26"
      },
      "source": [
        "#another way to divide matrices\n",
        "np.divide(A, B, dtype=float)"
      ],
      "execution_count": 195,
      "outputs": [
        {
          "output_type": "stream",
          "text": [
            "/usr/local/lib/python3.7/dist-packages/ipykernel_launcher.py:2: RuntimeWarning: divide by zero encountered in true_divide\n",
            "  \n"
          ],
          "name": "stderr"
        },
        {
          "output_type": "execute_result",
          "data": {
            "text/plain": [
              "array([[0.25 , 0.625, 1.5  ],\n",
              "       [1.   ,   inf, 1.8  ],\n",
              "       [0.   , 0.125, 1.5  ]])"
            ]
          },
          "metadata": {
            "tags": []
          },
          "execution_count": 195
        }
      ]
    },
    {
      "cell_type": "code",
      "metadata": {
        "colab": {
          "base_uri": "https://localhost:8080/"
        },
        "id": "CvmN7b8pnuMQ",
        "outputId": "dc0f6234-d190-458e-b9cf-2f2a189f1528"
      },
      "source": [
        "#cast as an integar\n",
        "np.int16(C)"
      ],
      "execution_count": 196,
      "outputs": [
        {
          "output_type": "execute_result",
          "data": {
            "text/plain": [
              "array([[0, 0, 1],\n",
              "       [1, 0, 1],\n",
              "       [0, 0, 1]], dtype=int16)"
            ]
          },
          "metadata": {
            "tags": []
          },
          "execution_count": 196
        }
      ]
    },
    {
      "cell_type": "markdown",
      "metadata": {
        "id": "zZlXwDkVtAVA"
      },
      "source": [
        "Matrix products"
      ]
    },
    {
      "cell_type": "code",
      "metadata": {
        "colab": {
          "base_uri": "https://localhost:8080/"
        },
        "id": "5Mc-pM7GtDK_",
        "outputId": "c5fb16d3-a2e4-4f3b-e35a-8cf177032ac7"
      },
      "source": [
        "np.matmul(A, B)"
      ],
      "execution_count": 197,
      "outputs": [
        {
          "output_type": "execute_result",
          "data": {
            "text/plain": [
              "array([[ 45, -40,  53],\n",
              "       [ 66, -64,  80],\n",
              "       [ 35, -48,  19]])"
            ]
          },
          "metadata": {
            "tags": []
          },
          "execution_count": 197
        }
      ]
    },
    {
      "cell_type": "markdown",
      "metadata": {
        "id": "rl_rFEYYtwJv"
      },
      "source": [
        "$$C = AB$$"
      ]
    },
    {
      "cell_type": "markdown",
      "metadata": {
        "id": "6bNYkDZbuPVF"
      },
      "source": [
        "$$C_{ij} = \\sum_{k=l}^N A_{ik}B_{kj}$$"
      ]
    },
    {
      "cell_type": "code",
      "metadata": {
        "colab": {
          "base_uri": "https://localhost:8080/"
        },
        "id": "pN_kvN6Yu8Vf",
        "outputId": "5a199f55-3712-43e8-fee3-4f81119305eb"
      },
      "source": [
        "A"
      ],
      "execution_count": 198,
      "outputs": [
        {
          "output_type": "execute_result",
          "data": {
            "text/plain": [
              "array([[ 1,  5,  6],\n",
              "       [ 1,  8,  9],\n",
              "       [ 0, -1,  6]])"
            ]
          },
          "metadata": {
            "tags": []
          },
          "execution_count": 198
        }
      ]
    },
    {
      "cell_type": "code",
      "metadata": {
        "colab": {
          "base_uri": "https://localhost:8080/"
        },
        "id": "E2HHSzvFvJAB",
        "outputId": "c4d69b5c-dc17-4b1c-ed2c-cb28f5338632"
      },
      "source": [
        "B"
      ],
      "execution_count": 199,
      "outputs": [
        {
          "output_type": "execute_result",
          "data": {
            "text/plain": [
              "array([[ 4,  8,  4],\n",
              "       [ 1,  0,  5],\n",
              "       [ 6, -8,  4]])"
            ]
          },
          "metadata": {
            "tags": []
          },
          "execution_count": 199
        }
      ]
    },
    {
      "cell_type": "code",
      "metadata": {
        "colab": {
          "base_uri": "https://localhost:8080/"
        },
        "id": "TQ9VwLYRvb2X",
        "outputId": "6432d109-ce3b-4880-d510-2bd04e17baf3"
      },
      "source": [
        "#rectangular array\n",
        "R = np.array([[1, 2, 3, 4], [2, 5, 6, 8], [1, 2, 4, 10]])\n",
        "R"
      ],
      "execution_count": 200,
      "outputs": [
        {
          "output_type": "execute_result",
          "data": {
            "text/plain": [
              "array([[ 1,  2,  3,  4],\n",
              "       [ 2,  5,  6,  8],\n",
              "       [ 1,  2,  4, 10]])"
            ]
          },
          "metadata": {
            "tags": []
          },
          "execution_count": 200
        }
      ]
    },
    {
      "cell_type": "code",
      "metadata": {
        "colab": {
          "base_uri": "https://localhost:8080/"
        },
        "id": "xHLGk9FAwHmD",
        "outputId": "63202c0f-1474-402e-bb5c-43fd7ca41e9d"
      },
      "source": [
        "#it does not work to multiply R * A\n",
        "np.matmul(A, R)"
      ],
      "execution_count": 201,
      "outputs": [
        {
          "output_type": "execute_result",
          "data": {
            "text/plain": [
              "array([[ 17,  39,  57, 104],\n",
              "       [ 26,  60,  87, 158],\n",
              "       [  4,   7,  18,  52]])"
            ]
          },
          "metadata": {
            "tags": []
          },
          "execution_count": 201
        }
      ]
    },
    {
      "cell_type": "code",
      "metadata": {
        "colab": {
          "base_uri": "https://localhost:8080/"
        },
        "id": "GO5G-GaKwbk1",
        "outputId": "a5a38f57-f094-49eb-bb2f-eb04173f39a5"
      },
      "source": [
        "np.matmul(R.transpose(), A)"
      ],
      "execution_count": 202,
      "outputs": [
        {
          "output_type": "execute_result",
          "data": {
            "text/plain": [
              "array([[  3,  20,  30],\n",
              "       [  7,  48,  69],\n",
              "       [  9,  59,  96],\n",
              "       [ 12,  74, 156]])"
            ]
          },
          "metadata": {
            "tags": []
          },
          "execution_count": 202
        }
      ]
    },
    {
      "cell_type": "code",
      "metadata": {
        "colab": {
          "base_uri": "https://localhost:8080/"
        },
        "id": "GsEoxDba6_gs",
        "outputId": "9c06c779-75c3-48ee-8ca4-79171a6ad55f"
      },
      "source": [
        "a = A[:, 0]\n",
        "a"
      ],
      "execution_count": 203,
      "outputs": [
        {
          "output_type": "execute_result",
          "data": {
            "text/plain": [
              "array([1, 1, 0])"
            ]
          },
          "metadata": {
            "tags": []
          },
          "execution_count": 203
        }
      ]
    },
    {
      "cell_type": "code",
      "metadata": {
        "colab": {
          "base_uri": "https://localhost:8080/"
        },
        "id": "zMAW8Xg97KGR",
        "outputId": "18a79077-8acd-4bc0-f2f5-0d86132b728f"
      },
      "source": [
        "A"
      ],
      "execution_count": 204,
      "outputs": [
        {
          "output_type": "execute_result",
          "data": {
            "text/plain": [
              "array([[ 1,  5,  6],\n",
              "       [ 1,  8,  9],\n",
              "       [ 0, -1,  6]])"
            ]
          },
          "metadata": {
            "tags": []
          },
          "execution_count": 204
        }
      ]
    },
    {
      "cell_type": "code",
      "metadata": {
        "colab": {
          "base_uri": "https://localhost:8080/"
        },
        "id": "5OYPGIjX7SFC",
        "outputId": "9a1a5016-b0e8-4b0d-faec-eaf2c93c0114"
      },
      "source": [
        "b = B[:, 0]\n",
        "b"
      ],
      "execution_count": 205,
      "outputs": [
        {
          "output_type": "execute_result",
          "data": {
            "text/plain": [
              "array([4, 1, 6])"
            ]
          },
          "metadata": {
            "tags": []
          },
          "execution_count": 205
        }
      ]
    },
    {
      "cell_type": "code",
      "metadata": {
        "colab": {
          "base_uri": "https://localhost:8080/"
        },
        "id": "CNQlIUUh7l_0",
        "outputId": "4f3692d1-f14e-4235-d787-c5fe0e873990"
      },
      "source": [
        "np.matmul(a, b)"
      ],
      "execution_count": 206,
      "outputs": [
        {
          "output_type": "execute_result",
          "data": {
            "text/plain": [
              "5"
            ]
          },
          "metadata": {
            "tags": []
          },
          "execution_count": 206
        }
      ]
    },
    {
      "cell_type": "code",
      "metadata": {
        "colab": {
          "base_uri": "https://localhost:8080/"
        },
        "id": "y7mks2P_7vQ9",
        "outputId": "22143e94-a07b-4c3b-fbcf-e665183129e5"
      },
      "source": [
        "np.dot(a, b)"
      ],
      "execution_count": 207,
      "outputs": [
        {
          "output_type": "execute_result",
          "data": {
            "text/plain": [
              "5"
            ]
          },
          "metadata": {
            "tags": []
          },
          "execution_count": 207
        }
      ]
    },
    {
      "cell_type": "markdown",
      "metadata": {
        "id": "tfy8s7px8gg2"
      },
      "source": [
        "$$<a,b = a^T b = \\sum_{i=1} ^n a_i b_i$$"
      ]
    },
    {
      "cell_type": "code",
      "metadata": {
        "colab": {
          "base_uri": "https://localhost:8080/"
        },
        "id": "5teEhzNh74xH",
        "outputId": "8815cd20-8b56-496a-bbcc-448d9a63796d"
      },
      "source": [
        "#obtain the inner product of two matrices\n",
        "np.inner(a, b)"
      ],
      "execution_count": 208,
      "outputs": [
        {
          "output_type": "execute_result",
          "data": {
            "text/plain": [
              "5"
            ]
          },
          "metadata": {
            "tags": []
          },
          "execution_count": 208
        }
      ]
    },
    {
      "cell_type": "code",
      "metadata": {
        "colab": {
          "base_uri": "https://localhost:8080/"
        },
        "id": "UrQjl2Yd8dLH",
        "outputId": "6dc23f86-bc92-4f81-d0a5-706c251179e4"
      },
      "source": [
        "#working with tensors\n",
        "C = np.tensordot(A, B)\n",
        "C"
      ],
      "execution_count": 209,
      "outputs": [
        {
          "output_type": "execute_result",
          "data": {
            "text/plain": [
              "array(146)"
            ]
          },
          "metadata": {
            "tags": []
          },
          "execution_count": 209
        }
      ]
    },
    {
      "cell_type": "code",
      "metadata": {
        "id": "syYadN-8-Vu-"
      },
      "source": [
        "a = np.arange(60.).reshape(3, 4, 5)\n",
        "b = np.arange(24.).reshape(4, 3, 2)"
      ],
      "execution_count": 210,
      "outputs": []
    },
    {
      "cell_type": "code",
      "metadata": {
        "colab": {
          "base_uri": "https://localhost:8080/"
        },
        "id": "0M1Q3H2T_pxa",
        "outputId": "a6b62c11-6c0f-4834-c034-2f5eca1e0a86"
      },
      "source": [
        "np.tensordot(a, b, axes = ([1, 0], [0, 1]))"
      ],
      "execution_count": 211,
      "outputs": [
        {
          "output_type": "execute_result",
          "data": {
            "text/plain": [
              "array([[4400., 4730.],\n",
              "       [4532., 4874.],\n",
              "       [4664., 5018.],\n",
              "       [4796., 5162.],\n",
              "       [4928., 5306.]])"
            ]
          },
          "metadata": {
            "tags": []
          },
          "execution_count": 211
        }
      ]
    },
    {
      "cell_type": "code",
      "metadata": {
        "colab": {
          "base_uri": "https://localhost:8080/"
        },
        "id": "7thFLXkQA4RF",
        "outputId": "de99a498-a085-48b1-99ec-cf1cbe4c7412"
      },
      "source": [
        "np.linalg.matrix_power(A, 2)"
      ],
      "execution_count": 212,
      "outputs": [
        {
          "output_type": "execute_result",
          "data": {
            "text/plain": [
              "array([[  6,  39,  87],\n",
              "       [  9,  60, 132],\n",
              "       [ -1, -14,  27]])"
            ]
          },
          "metadata": {
            "tags": []
          },
          "execution_count": 212
        }
      ]
    },
    {
      "cell_type": "code",
      "metadata": {
        "colab": {
          "base_uri": "https://localhost:8080/"
        },
        "id": "uq2A3LfyBL1F",
        "outputId": "da90a942-0b14-4c14-bd70-b1d8e87414f6"
      },
      "source": [
        "np.matmul(A, A)"
      ],
      "execution_count": 213,
      "outputs": [
        {
          "output_type": "execute_result",
          "data": {
            "text/plain": [
              "array([[  6,  39,  87],\n",
              "       [  9,  60, 132],\n",
              "       [ -1, -14,  27]])"
            ]
          },
          "metadata": {
            "tags": []
          },
          "execution_count": 213
        }
      ]
    },
    {
      "cell_type": "markdown",
      "metadata": {
        "id": "NZCPC99tBdPK"
      },
      "source": [
        "$$C = A \\otimes B$$"
      ]
    },
    {
      "cell_type": "code",
      "metadata": {
        "colab": {
          "base_uri": "https://localhost:8080/"
        },
        "id": "SvYe4xmBCKx7",
        "outputId": "b20e131b-bf33-4972-e6bf-423d1eb4e2df"
      },
      "source": [
        "#chronicle product\n",
        "np.kron(A, B)"
      ],
      "execution_count": 214,
      "outputs": [
        {
          "output_type": "execute_result",
          "data": {
            "text/plain": [
              "array([[  4,   8,   4,  20,  40,  20,  24,  48,  24],\n",
              "       [  1,   0,   5,   5,   0,  25,   6,   0,  30],\n",
              "       [  6,  -8,   4,  30, -40,  20,  36, -48,  24],\n",
              "       [  4,   8,   4,  32,  64,  32,  36,  72,  36],\n",
              "       [  1,   0,   5,   8,   0,  40,   9,   0,  45],\n",
              "       [  6,  -8,   4,  48, -64,  32,  54, -72,  36],\n",
              "       [  0,   0,   0,  -4,  -8,  -4,  24,  48,  24],\n",
              "       [  0,   0,   0,  -1,   0,  -5,   6,   0,  30],\n",
              "       [  0,   0,   0,  -6,   8,  -4,  36, -48,  24]])"
            ]
          },
          "metadata": {
            "tags": []
          },
          "execution_count": 214
        }
      ]
    },
    {
      "cell_type": "markdown",
      "metadata": {
        "id": "CSE65oauCwV9"
      },
      "source": [
        "Matrix Decompositions"
      ]
    },
    {
      "cell_type": "markdown",
      "metadata": {
        "id": "3yR4E75qDF_G"
      },
      "source": [
        "Cholesky decomposition"
      ]
    },
    {
      "cell_type": "markdown",
      "metadata": {
        "id": "kVvNlNwADNds"
      },
      "source": [
        "$$A = UU^H$$"
      ]
    },
    {
      "cell_type": "code",
      "metadata": {
        "colab": {
          "base_uri": "https://localhost:8080/"
        },
        "id": "5rJOmWn0Dd2f",
        "outputId": "7e9e47bb-50cf-4da1-8fb9-a9b4e082c309"
      },
      "source": [
        "A"
      ],
      "execution_count": 215,
      "outputs": [
        {
          "output_type": "execute_result",
          "data": {
            "text/plain": [
              "array([[ 1,  5,  6],\n",
              "       [ 1,  8,  9],\n",
              "       [ 0, -1,  6]])"
            ]
          },
          "metadata": {
            "tags": []
          },
          "execution_count": 215
        }
      ]
    },
    {
      "cell_type": "code",
      "metadata": {
        "colab": {
          "base_uri": "https://localhost:8080/"
        },
        "id": "_zz1SZlxDpDG",
        "outputId": "084b0ab1-74cb-4068-8b0b-6e1c000b42d4"
      },
      "source": [
        "U = np.linalg.cholesky(A)\n",
        "U"
      ],
      "execution_count": 216,
      "outputs": [
        {
          "output_type": "execute_result",
          "data": {
            "text/plain": [
              "array([[ 1.        ,  0.        ,  0.        ],\n",
              "       [ 1.        ,  2.64575131,  0.        ],\n",
              "       [ 0.        , -0.37796447,  2.42015348]])"
            ]
          },
          "metadata": {
            "tags": []
          },
          "execution_count": 216
        }
      ]
    },
    {
      "cell_type": "code",
      "metadata": {
        "colab": {
          "base_uri": "https://localhost:8080/"
        },
        "id": "Aed6x86JD8S7",
        "outputId": "fe42e812-dc70-409b-ccab-e744e7800cf6"
      },
      "source": [
        "np.matmul(U, U.transpose().conj())"
      ],
      "execution_count": 217,
      "outputs": [
        {
          "output_type": "execute_result",
          "data": {
            "text/plain": [
              "array([[ 1.,  1.,  0.],\n",
              "       [ 1.,  8., -1.],\n",
              "       [ 0., -1.,  6.]])"
            ]
          },
          "metadata": {
            "tags": []
          },
          "execution_count": 217
        }
      ]
    },
    {
      "cell_type": "code",
      "metadata": {
        "colab": {
          "base_uri": "https://localhost:8080/"
        },
        "id": "k55BLgweEvjh",
        "outputId": "455cb888-f6a3-439c-a8de-bf9fbc7dc71e"
      },
      "source": [
        "D = np.array([[1, -2j], [2j, 5]])\n",
        "D"
      ],
      "execution_count": 218,
      "outputs": [
        {
          "output_type": "execute_result",
          "data": {
            "text/plain": [
              "array([[ 1.+0.j, -0.-2.j],\n",
              "       [ 0.+2.j,  5.+0.j]])"
            ]
          },
          "metadata": {
            "tags": []
          },
          "execution_count": 218
        }
      ]
    },
    {
      "cell_type": "code",
      "metadata": {
        "colab": {
          "base_uri": "https://localhost:8080/"
        },
        "id": "T5eXtrrvFImb",
        "outputId": "671ecdd6-1ed0-4cb7-b6a0-9f61e6fb7c3a"
      },
      "source": [
        "U = np.linalg.cholesky(D)\n",
        "U"
      ],
      "execution_count": 219,
      "outputs": [
        {
          "output_type": "execute_result",
          "data": {
            "text/plain": [
              "array([[1.+0.j, 0.+0.j],\n",
              "       [0.+2.j, 1.+0.j]])"
            ]
          },
          "metadata": {
            "tags": []
          },
          "execution_count": 219
        }
      ]
    },
    {
      "cell_type": "code",
      "metadata": {
        "colab": {
          "base_uri": "https://localhost:8080/"
        },
        "id": "sQ2UUfTIFX4e",
        "outputId": "57831d0d-fd9c-4ed5-84d8-dabc4ceff53e"
      },
      "source": [
        "np.matmul(U, U.T.conj())"
      ],
      "execution_count": 220,
      "outputs": [
        {
          "output_type": "execute_result",
          "data": {
            "text/plain": [
              "array([[1.+0.j, 0.-2.j],\n",
              "       [0.+2.j, 5.+0.j]])"
            ]
          },
          "metadata": {
            "tags": []
          },
          "execution_count": 220
        }
      ]
    },
    {
      "cell_type": "code",
      "metadata": {
        "colab": {
          "base_uri": "https://localhost:8080/"
        },
        "id": "CMjILvkXFz0g",
        "outputId": "b8787593-2603-415a-ea36-9dae7530da54"
      },
      "source": [
        "A"
      ],
      "execution_count": 221,
      "outputs": [
        {
          "output_type": "execute_result",
          "data": {
            "text/plain": [
              "array([[ 1,  5,  6],\n",
              "       [ 1,  8,  9],\n",
              "       [ 0, -1,  6]])"
            ]
          },
          "metadata": {
            "tags": []
          },
          "execution_count": 221
        }
      ]
    },
    {
      "cell_type": "code",
      "metadata": {
        "colab": {
          "base_uri": "https://localhost:8080/"
        },
        "id": "mTKl-qpPF3D5",
        "outputId": "9e5c81b2-9317-4b78-815f-122b015dd628"
      },
      "source": [
        "A.T"
      ],
      "execution_count": 222,
      "outputs": [
        {
          "output_type": "execute_result",
          "data": {
            "text/plain": [
              "array([[ 1,  1,  0],\n",
              "       [ 5,  8, -1],\n",
              "       [ 6,  9,  6]])"
            ]
          },
          "metadata": {
            "tags": []
          },
          "execution_count": 222
        }
      ]
    },
    {
      "cell_type": "markdown",
      "metadata": {
        "id": "7CCGCeevF-nJ"
      },
      "source": [
        "QR Decomposition"
      ]
    },
    {
      "cell_type": "markdown",
      "metadata": {
        "id": "LWwzxuOKGCBi"
      },
      "source": [
        "$$A = QR$$"
      ]
    },
    {
      "cell_type": "code",
      "metadata": {
        "colab": {
          "base_uri": "https://localhost:8080/"
        },
        "id": "R5OdxC8IGSbf",
        "outputId": "73468c8f-1ed2-4952-bf56-f6e66205e4d6"
      },
      "source": [
        "A"
      ],
      "execution_count": 223,
      "outputs": [
        {
          "output_type": "execute_result",
          "data": {
            "text/plain": [
              "array([[ 1,  5,  6],\n",
              "       [ 1,  8,  9],\n",
              "       [ 0, -1,  6]])"
            ]
          },
          "metadata": {
            "tags": []
          },
          "execution_count": 223
        }
      ]
    },
    {
      "cell_type": "code",
      "metadata": {
        "colab": {
          "base_uri": "https://localhost:8080/"
        },
        "id": "3B-QqSPkH4L3",
        "outputId": "9b4d1421-4aa4-460c-c4ee-95efabf38645"
      },
      "source": [
        "np.linalg.qr(A)"
      ],
      "execution_count": 224,
      "outputs": [
        {
          "output_type": "execute_result",
          "data": {
            "text/plain": [
              "(array([[-0.70710678,  0.63960215, -0.30151134],\n",
              "        [-0.70710678, -0.63960215,  0.30151134],\n",
              "        [-0.        ,  0.42640143,  0.90453403]]),\n",
              " array([[ -1.41421356,  -9.19238816, -10.60660172],\n",
              "        [  0.        ,  -2.34520788,   0.63960215],\n",
              "        [  0.        ,   0.        ,   6.33173824]]))"
            ]
          },
          "metadata": {
            "tags": []
          },
          "execution_count": 224
        }
      ]
    },
    {
      "cell_type": "code",
      "metadata": {
        "colab": {
          "base_uri": "https://localhost:8080/"
        },
        "id": "HLCEsWyXIKR0",
        "outputId": "2af9de04-9db2-4f8e-b607-8dd0339b6f82"
      },
      "source": [
        "#extract q matrix\n",
        "Q = np.linalg.qr(A)[0]\n",
        "Q"
      ],
      "execution_count": 225,
      "outputs": [
        {
          "output_type": "execute_result",
          "data": {
            "text/plain": [
              "array([[-0.70710678,  0.63960215, -0.30151134],\n",
              "       [-0.70710678, -0.63960215,  0.30151134],\n",
              "       [-0.        ,  0.42640143,  0.90453403]])"
            ]
          },
          "metadata": {
            "tags": []
          },
          "execution_count": 225
        }
      ]
    },
    {
      "cell_type": "code",
      "metadata": {
        "colab": {
          "base_uri": "https://localhost:8080/"
        },
        "id": "ShJzpB9VIUII",
        "outputId": "070ab511-bc5a-4fc3-b5ce-8d3268a5841f"
      },
      "source": [
        "#extract r matrix\n",
        "R = np.linalg.qr(A)[1]\n",
        "R"
      ],
      "execution_count": 226,
      "outputs": [
        {
          "output_type": "execute_result",
          "data": {
            "text/plain": [
              "array([[ -1.41421356,  -9.19238816, -10.60660172],\n",
              "       [  0.        ,  -2.34520788,   0.63960215],\n",
              "       [  0.        ,   0.        ,   6.33173824]])"
            ]
          },
          "metadata": {
            "tags": []
          },
          "execution_count": 226
        }
      ]
    },
    {
      "cell_type": "code",
      "metadata": {
        "colab": {
          "base_uri": "https://localhost:8080/"
        },
        "id": "NqN-qEinIr9Q",
        "outputId": "1a75808a-fc4b-4437-f283-b59df489dece"
      },
      "source": [
        "np.matmul(Q, R)"
      ],
      "execution_count": 227,
      "outputs": [
        {
          "output_type": "execute_result",
          "data": {
            "text/plain": [
              "array([[ 1.,  5.,  6.],\n",
              "       [ 1.,  8.,  9.],\n",
              "       [ 0., -1.,  6.]])"
            ]
          },
          "metadata": {
            "tags": []
          },
          "execution_count": 227
        }
      ]
    },
    {
      "cell_type": "markdown",
      "metadata": {
        "id": "pOXyXBJbI23I"
      },
      "source": [
        "Eigenvalue decomposition (EVD)"
      ]
    },
    {
      "cell_type": "markdown",
      "metadata": {
        "id": "_TkNMg2XJW9m"
      },
      "source": [
        "$$A = PDP^{-1}$$"
      ]
    },
    {
      "cell_type": "code",
      "metadata": {
        "colab": {
          "base_uri": "https://localhost:8080/"
        },
        "id": "W6oBUzBEJG7u",
        "outputId": "87c2f496-cb74-4afc-fe3b-195293fb3039"
      },
      "source": [
        "np.linalg.eig(A)"
      ],
      "execution_count": 228,
      "outputs": [
        {
          "output_type": "execute_result",
          "data": {
            "text/plain": [
              "(array([0.34454138+0.j        , 7.32772931+2.69350537j,\n",
              "        7.32772931-2.69350537j]),\n",
              " array([[ 0.9940235 +0.j        ,  0.52656174+0.00429702j,\n",
              "          0.52656174-0.00429702j],\n",
              "        [-0.10749871+0.j        ,  0.80658014+0.j        ,\n",
              "          0.80658014-0.j        ],\n",
              "        [-0.01900796+0.j        , -0.11875577+0.24091455j,\n",
              "         -0.11875577-0.24091455j]]))"
            ]
          },
          "metadata": {
            "tags": []
          },
          "execution_count": 228
        }
      ]
    },
    {
      "cell_type": "code",
      "metadata": {
        "colab": {
          "base_uri": "https://localhost:8080/"
        },
        "id": "qXMk1EZQI6Jx",
        "outputId": "dcc91408-4db9-4e08-913c-7918d6900579"
      },
      "source": [
        "(d, P) = np.linalg.eig(A)\n",
        "D = np.diag(d)\n",
        "D"
      ],
      "execution_count": 229,
      "outputs": [
        {
          "output_type": "execute_result",
          "data": {
            "text/plain": [
              "array([[0.34454138+0.j        , 0.        +0.j        ,\n",
              "        0.        +0.j        ],\n",
              "       [0.        +0.j        , 7.32772931+2.69350537j,\n",
              "        0.        +0.j        ],\n",
              "       [0.        +0.j        , 0.        +0.j        ,\n",
              "        7.32772931-2.69350537j]])"
            ]
          },
          "metadata": {
            "tags": []
          },
          "execution_count": 229
        }
      ]
    },
    {
      "cell_type": "code",
      "metadata": {
        "colab": {
          "base_uri": "https://localhost:8080/"
        },
        "id": "-VgQIMjoK07s",
        "outputId": "06376cb1-3fa1-473a-8232-332235684d65"
      },
      "source": [
        "P"
      ],
      "execution_count": 230,
      "outputs": [
        {
          "output_type": "execute_result",
          "data": {
            "text/plain": [
              "array([[ 0.9940235 +0.j        ,  0.52656174+0.00429702j,\n",
              "         0.52656174-0.00429702j],\n",
              "       [-0.10749871+0.j        ,  0.80658014+0.j        ,\n",
              "         0.80658014-0.j        ],\n",
              "       [-0.01900796+0.j        , -0.11875577+0.24091455j,\n",
              "        -0.11875577-0.24091455j]])"
            ]
          },
          "metadata": {
            "tags": []
          },
          "execution_count": 230
        }
      ]
    },
    {
      "cell_type": "code",
      "metadata": {
        "colab": {
          "base_uri": "https://localhost:8080/"
        },
        "id": "cAWjjvzTLbpO",
        "outputId": "78cdf400-7460-4cae-e764-bcc95a758f69"
      },
      "source": [
        "np.real(np.matmul(np.matmul(P, D), np.linalg.inv(P)))"
      ],
      "execution_count": 231,
      "outputs": [
        {
          "output_type": "execute_result",
          "data": {
            "text/plain": [
              "array([[ 1.00000000e+00,  5.00000000e+00,  6.00000000e+00],\n",
              "       [ 1.00000000e+00,  8.00000000e+00,  9.00000000e+00],\n",
              "       [-5.55111512e-17, -1.00000000e+00,  6.00000000e+00]])"
            ]
          },
          "metadata": {
            "tags": []
          },
          "execution_count": 231
        }
      ]
    },
    {
      "cell_type": "code",
      "metadata": {
        "colab": {
          "base_uri": "https://localhost:8080/"
        },
        "id": "rhi5Ql-PMP23",
        "outputId": "4a077bf3-ed91-4364-faf5-70cf5bf6b756"
      },
      "source": [
        "np.linalg.eigvals(A)"
      ],
      "execution_count": 232,
      "outputs": [
        {
          "output_type": "execute_result",
          "data": {
            "text/plain": [
              "array([0.34454138+0.j        , 7.32772931+2.69350537j,\n",
              "       7.32772931-2.69350537j])"
            ]
          },
          "metadata": {
            "tags": []
          },
          "execution_count": 232
        }
      ]
    },
    {
      "cell_type": "markdown",
      "metadata": {
        "id": "zf871SUoMlkj"
      },
      "source": [
        "Singular Value Decomposition (SVD)"
      ]
    },
    {
      "cell_type": "markdown",
      "metadata": {
        "id": "WFNTw96OMuO9"
      },
      "source": [
        "$$A = U S V^T$$"
      ]
    },
    {
      "cell_type": "code",
      "metadata": {
        "colab": {
          "base_uri": "https://localhost:8080/"
        },
        "id": "sGqzwObHM_1F",
        "outputId": "8da3a5c3-0779-43ea-c38d-2172ff5ee215"
      },
      "source": [
        "np.linalg.svd(A)"
      ],
      "execution_count": 233,
      "outputs": [
        {
          "output_type": "execute_result",
          "data": {
            "text/plain": [
              "(array([[ 0.52419682, -0.12063215,  0.84300983],\n",
              "        [ 0.80286468, -0.26006138, -0.53644792],\n",
              "        [ 0.28394717,  0.95802712, -0.03947205]]),\n",
              " array([14.9764806 ,  4.53978289,  0.30886909]),\n",
              " array([[ 0.0886097 ,  0.58491408,  0.80624056],\n",
              "        [-0.08385721, -0.80217028,  0.59117747],\n",
              "        [ 0.99253025, -0.11999315, -0.02203081]]))"
            ]
          },
          "metadata": {
            "tags": []
          },
          "execution_count": 233
        }
      ]
    },
    {
      "cell_type": "code",
      "metadata": {
        "colab": {
          "base_uri": "https://localhost:8080/"
        },
        "id": "1u4w4wKjMqLL",
        "outputId": "78993a0f-dd5e-4c9d-a2bb-58c73147d6c7"
      },
      "source": [
        "(U, s, V) = np.linalg.svd(A)\n",
        "U"
      ],
      "execution_count": 234,
      "outputs": [
        {
          "output_type": "execute_result",
          "data": {
            "text/plain": [
              "array([[ 0.52419682, -0.12063215,  0.84300983],\n",
              "       [ 0.80286468, -0.26006138, -0.53644792],\n",
              "       [ 0.28394717,  0.95802712, -0.03947205]])"
            ]
          },
          "metadata": {
            "tags": []
          },
          "execution_count": 234
        }
      ]
    },
    {
      "cell_type": "code",
      "metadata": {
        "colab": {
          "base_uri": "https://localhost:8080/"
        },
        "id": "FYTwuRz9Nq14",
        "outputId": "fc98fd2c-ca51-4a39-e338-5728108d4a4d"
      },
      "source": [
        "s"
      ],
      "execution_count": 235,
      "outputs": [
        {
          "output_type": "execute_result",
          "data": {
            "text/plain": [
              "array([14.9764806 ,  4.53978289,  0.30886909])"
            ]
          },
          "metadata": {
            "tags": []
          },
          "execution_count": 235
        }
      ]
    },
    {
      "cell_type": "code",
      "metadata": {
        "colab": {
          "base_uri": "https://localhost:8080/"
        },
        "id": "LzFdeWWJNs2h",
        "outputId": "8d874a01-e047-4aa0-c87e-8dc7e269a7a9"
      },
      "source": [
        "V"
      ],
      "execution_count": 236,
      "outputs": [
        {
          "output_type": "execute_result",
          "data": {
            "text/plain": [
              "array([[ 0.0886097 ,  0.58491408,  0.80624056],\n",
              "       [-0.08385721, -0.80217028,  0.59117747],\n",
              "       [ 0.99253025, -0.11999315, -0.02203081]])"
            ]
          },
          "metadata": {
            "tags": []
          },
          "execution_count": 236
        }
      ]
    },
    {
      "cell_type": "markdown",
      "metadata": {
        "id": "ABEkBpiDOjHd"
      },
      "source": [
        "Matrix Norms"
      ]
    },
    {
      "cell_type": "code",
      "metadata": {
        "colab": {
          "base_uri": "https://localhost:8080/"
        },
        "id": "0w4zAnx6OtyJ",
        "outputId": "f326117a-01c7-4b09-e389-70cff5369657"
      },
      "source": [
        "np.linalg.norm(A)"
      ],
      "execution_count": 237,
      "outputs": [
        {
          "output_type": "execute_result",
          "data": {
            "text/plain": [
              "15.652475842498529"
            ]
          },
          "metadata": {
            "tags": []
          },
          "execution_count": 237
        }
      ]
    },
    {
      "cell_type": "code",
      "metadata": {
        "colab": {
          "base_uri": "https://localhost:8080/"
        },
        "id": "37ChbgTGPNIP",
        "outputId": "c402b947-4a01-4e17-8686-6c7da08c60be"
      },
      "source": [
        "np.linalg.cond(A)"
      ],
      "execution_count": 238,
      "outputs": [
        {
          "output_type": "execute_result",
          "data": {
            "text/plain": [
              "48.48811774406207"
            ]
          },
          "metadata": {
            "tags": []
          },
          "execution_count": 238
        }
      ]
    },
    {
      "cell_type": "code",
      "metadata": {
        "colab": {
          "base_uri": "https://localhost:8080/"
        },
        "id": "iM-EPVicPXxn",
        "outputId": "6b09342f-f558-4287-e19c-0dde35d28793"
      },
      "source": [
        "np.linalg.cond(B)"
      ],
      "execution_count": 239,
      "outputs": [
        {
          "output_type": "execute_result",
          "data": {
            "text/plain": [
              "3.880342782834484"
            ]
          },
          "metadata": {
            "tags": []
          },
          "execution_count": 239
        }
      ]
    },
    {
      "cell_type": "code",
      "metadata": {
        "colab": {
          "base_uri": "https://localhost:8080/"
        },
        "id": "yHR5APwCPjKl",
        "outputId": "6aae1d4d-a8f3-4daf-89cb-a2131605695b"
      },
      "source": [
        "np.linalg.det(A)"
      ],
      "execution_count": 240,
      "outputs": [
        {
          "output_type": "execute_result",
          "data": {
            "text/plain": [
              "21.0"
            ]
          },
          "metadata": {
            "tags": []
          },
          "execution_count": 240
        }
      ]
    },
    {
      "cell_type": "code",
      "metadata": {
        "colab": {
          "base_uri": "https://localhost:8080/"
        },
        "id": "tWzwLt-MPpkM",
        "outputId": "165db822-d4ab-4e74-99b9-023bdc7d4eff"
      },
      "source": [
        "np.linalg.det(B)"
      ],
      "execution_count": 241,
      "outputs": [
        {
          "output_type": "execute_result",
          "data": {
            "text/plain": [
              "336.0"
            ]
          },
          "metadata": {
            "tags": []
          },
          "execution_count": 241
        }
      ]
    },
    {
      "cell_type": "code",
      "metadata": {
        "colab": {
          "base_uri": "https://localhost:8080/"
        },
        "id": "_zov0G3qQhmQ",
        "outputId": "0fffc651-6ae6-416c-ba30-a6bc6221215f"
      },
      "source": [
        "np.linalg.matrix_rank(A)"
      ],
      "execution_count": 242,
      "outputs": [
        {
          "output_type": "execute_result",
          "data": {
            "text/plain": [
              "3"
            ]
          },
          "metadata": {
            "tags": []
          },
          "execution_count": 242
        }
      ]
    },
    {
      "cell_type": "code",
      "metadata": {
        "colab": {
          "base_uri": "https://localhost:8080/"
        },
        "id": "YpQuKV1dQgcm",
        "outputId": "58aa78a4-2ed5-45bf-985b-7737256e587f"
      },
      "source": [
        "np.linalg.matrix_rank(B)"
      ],
      "execution_count": 243,
      "outputs": [
        {
          "output_type": "execute_result",
          "data": {
            "text/plain": [
              "3"
            ]
          },
          "metadata": {
            "tags": []
          },
          "execution_count": 243
        }
      ]
    },
    {
      "cell_type": "code",
      "metadata": {
        "colab": {
          "base_uri": "https://localhost:8080/"
        },
        "id": "VbdcwDm3Q01O",
        "outputId": "11eeb698-e28c-4b91-c3f8-a7a51b2530fb"
      },
      "source": [
        "np.linalg.matrix_rank(R)"
      ],
      "execution_count": 150,
      "outputs": [
        {
          "output_type": "execute_result",
          "data": {
            "text/plain": [
              "3"
            ]
          },
          "metadata": {
            "tags": []
          },
          "execution_count": 150
        }
      ]
    },
    {
      "cell_type": "code",
      "metadata": {
        "colab": {
          "base_uri": "https://localhost:8080/"
        },
        "id": "kVeMZTZ4RMyl",
        "outputId": "ea015121-f16d-4fc2-ce6a-ada7e8df627f"
      },
      "source": [
        "np.linalg.matrix_rank(U)"
      ],
      "execution_count": 244,
      "outputs": [
        {
          "output_type": "execute_result",
          "data": {
            "text/plain": [
              "3"
            ]
          },
          "metadata": {
            "tags": []
          },
          "execution_count": 244
        }
      ]
    },
    {
      "cell_type": "code",
      "metadata": {
        "colab": {
          "base_uri": "https://localhost:8080/"
        },
        "id": "y7S116sHRZ5E",
        "outputId": "00676de2-4022-4658-f0c0-ab0fef57822a"
      },
      "source": [
        "np.trace(A)"
      ],
      "execution_count": 245,
      "outputs": [
        {
          "output_type": "execute_result",
          "data": {
            "text/plain": [
              "15"
            ]
          },
          "metadata": {
            "tags": []
          },
          "execution_count": 245
        }
      ]
    },
    {
      "cell_type": "code",
      "metadata": {
        "colab": {
          "base_uri": "https://localhost:8080/"
        },
        "id": "ehCks3IORjse",
        "outputId": "b2c6892d-a3d5-43d3-952a-2772c6943273"
      },
      "source": [
        "np.trace(R)"
      ],
      "execution_count": 246,
      "outputs": [
        {
          "output_type": "execute_result",
          "data": {
            "text/plain": [
              "2.572316793848227"
            ]
          },
          "metadata": {
            "tags": []
          },
          "execution_count": 246
        }
      ]
    },
    {
      "cell_type": "code",
      "metadata": {
        "colab": {
          "base_uri": "https://localhost:8080/"
        },
        "id": "IqBPgdKsRn7q",
        "outputId": "9d8d0dd9-894a-44b0-a50b-52bc7be1985b"
      },
      "source": [
        "np.trace(D)"
      ],
      "execution_count": 248,
      "outputs": [
        {
          "output_type": "execute_result",
          "data": {
            "text/plain": [
              "(15.000000000000004+0j)"
            ]
          },
          "metadata": {
            "tags": []
          },
          "execution_count": 248
        }
      ]
    },
    {
      "cell_type": "code",
      "metadata": {
        "colab": {
          "base_uri": "https://localhost:8080/"
        },
        "id": "YKyqKigVR0ss",
        "outputId": "fb62e4dc-190c-43bd-8988-646a1350f858"
      },
      "source": [
        "R = np.random.random((3,4))\n",
        "R"
      ],
      "execution_count": 250,
      "outputs": [
        {
          "output_type": "execute_result",
          "data": {
            "text/plain": [
              "array([[0.49954913, 0.28967913, 0.82519611, 0.88899509],\n",
              "       [0.55400923, 0.67370027, 0.48992106, 0.55508578],\n",
              "       [0.68017021, 0.08942287, 0.3775572 , 0.27334842]])"
            ]
          },
          "metadata": {
            "tags": []
          },
          "execution_count": 250
        }
      ]
    },
    {
      "cell_type": "code",
      "metadata": {
        "colab": {
          "base_uri": "https://localhost:8080/"
        },
        "id": "ouszrwTPSArT",
        "outputId": "6873ceea-43fa-40b3-d442-82c36bacef8b"
      },
      "source": [
        "np.trace(R)"
      ],
      "execution_count": 251,
      "outputs": [
        {
          "output_type": "execute_result",
          "data": {
            "text/plain": [
              "1.5508066013901436"
            ]
          },
          "metadata": {
            "tags": []
          },
          "execution_count": 251
        }
      ]
    },
    {
      "cell_type": "markdown",
      "metadata": {
        "id": "kJd7_sHVSR_g"
      },
      "source": [
        "Solving Equations"
      ]
    },
    {
      "cell_type": "markdown",
      "metadata": {
        "id": "AZUzGro0SdKF"
      },
      "source": [
        "$$Ax = B$$"
      ]
    },
    {
      "cell_type": "code",
      "metadata": {
        "colab": {
          "base_uri": "https://localhost:8080/"
        },
        "id": "8epFE8G8SU_J",
        "outputId": "8fcb5dbe-0a52-4eff-ad82-723a779eab26"
      },
      "source": [
        "A"
      ],
      "execution_count": 252,
      "outputs": [
        {
          "output_type": "execute_result",
          "data": {
            "text/plain": [
              "array([[ 1,  5,  6],\n",
              "       [ 1,  8,  9],\n",
              "       [ 0, -1,  6]])"
            ]
          },
          "metadata": {
            "tags": []
          },
          "execution_count": 252
        }
      ]
    },
    {
      "cell_type": "code",
      "metadata": {
        "colab": {
          "base_uri": "https://localhost:8080/"
        },
        "id": "497RRbC3SnFg",
        "outputId": "103af64f-c17e-4db8-e1ef-9c1c198951b3"
      },
      "source": [
        "b = np.random.random((3, 1))\n",
        "b"
      ],
      "execution_count": 253,
      "outputs": [
        {
          "output_type": "execute_result",
          "data": {
            "text/plain": [
              "array([[0.49341765],\n",
              "       [0.63038075],\n",
              "       [0.33984604]])"
            ]
          },
          "metadata": {
            "tags": []
          },
          "execution_count": 253
        }
      ]
    },
    {
      "cell_type": "code",
      "metadata": {
        "colab": {
          "base_uri": "https://localhost:8080/"
        },
        "id": "0OrDgD7jTGVV",
        "outputId": "941fd857-76a9-4467-c4de-6baed54e18db"
      },
      "source": [
        "x1 = np.matmul(np.linalg.inv(A), b)\n",
        "x1"
      ],
      "execution_count": 254,
      "outputs": [
        {
          "output_type": "execute_result",
          "data": {
            "text/plain": [
              "array([[ 0.21007435],\n",
              "       [-0.00941712],\n",
              "       [ 0.05507149]])"
            ]
          },
          "metadata": {
            "tags": []
          },
          "execution_count": 254
        }
      ]
    },
    {
      "cell_type": "code",
      "metadata": {
        "colab": {
          "base_uri": "https://localhost:8080/"
        },
        "id": "GrBQohsbTd3Z",
        "outputId": "8092e674-9302-4b3d-999e-85b2a9f8718e"
      },
      "source": [
        "x2 = np.linalg.solve(A,b)\n",
        "x2"
      ],
      "execution_count": 255,
      "outputs": [
        {
          "output_type": "execute_result",
          "data": {
            "text/plain": [
              "array([[ 0.21007435],\n",
              "       [-0.00941712],\n",
              "       [ 0.05507149]])"
            ]
          },
          "metadata": {
            "tags": []
          },
          "execution_count": 255
        }
      ]
    },
    {
      "cell_type": "code",
      "metadata": {
        "colab": {
          "base_uri": "https://localhost:8080/"
        },
        "id": "3B5KpWipTzL1",
        "outputId": "7e49760e-9738-48cf-ec0c-10b659ae060e"
      },
      "source": [
        "S = np.array([[1, 2], [2, 4]])\n",
        "S"
      ],
      "execution_count": 257,
      "outputs": [
        {
          "output_type": "execute_result",
          "data": {
            "text/plain": [
              "array([[1, 2],\n",
              "       [2, 4]])"
            ]
          },
          "metadata": {
            "tags": []
          },
          "execution_count": 257
        }
      ]
    },
    {
      "cell_type": "code",
      "metadata": {
        "colab": {
          "base_uri": "https://localhost:8080/"
        },
        "id": "H_bgNa9KUEAV",
        "outputId": "d9d488da-fba8-489b-c510-d6a1de835854"
      },
      "source": [
        "np.matmul(np.linalg.pinv(S), S)"
      ],
      "execution_count": 259,
      "outputs": [
        {
          "output_type": "execute_result",
          "data": {
            "text/plain": [
              "array([[0.2, 0.4],\n",
              "       [0.4, 0.8]])"
            ]
          },
          "metadata": {
            "tags": []
          },
          "execution_count": 259
        }
      ]
    }
  ]
}