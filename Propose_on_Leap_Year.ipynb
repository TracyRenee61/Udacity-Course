{
  "nbformat": 4,
  "nbformat_minor": 0,
  "metadata": {
    "colab": {
      "name": "Propose on Leap Year.ipynb",
      "provenance": []
    },
    "kernelspec": {
      "name": "python3",
      "display_name": "Python 3"
    },
    "language_info": {
      "name": "python"
    }
  },
  "cells": [
    {
      "cell_type": "markdown",
      "metadata": {
        "id": "eHTZgLbq9OT1"
      },
      "source": [
        "taken from this site:-\n",
        "https://docs.microsoft.com/en-us/office/troubleshoot/excel/determine-a-leap-year"
      ]
    },
    {
      "cell_type": "markdown",
      "metadata": {
        "id": "QIcfe9Zj9cV4"
      },
      "source": [
        "Import"
      ]
    },
    {
      "cell_type": "code",
      "metadata": {
        "id": "3jRFRIju9dmn"
      },
      "source": [
        "import numpy as np"
      ],
      "execution_count": 97,
      "outputs": []
    },
    {
      "cell_type": "markdown",
      "metadata": {
        "id": "REysQQtU9jZB"
      },
      "source": [
        "Enter data"
      ]
    },
    {
      "cell_type": "code",
      "metadata": {
        "colab": {
          "base_uri": "https://localhost:8080/"
        },
        "id": "Dky6Vgra-LSa",
        "outputId": "6fc3b964-5f10-46b1-a14f-0cfa11829f83"
      },
      "source": [
        "enter_year = input(\"Please enter the year that you would like to check to see if it is a leap year: \")\n",
        "enter_year = int(enter_year)"
      ],
      "execution_count": 98,
      "outputs": [
        {
          "output_type": "stream",
          "text": [
            "Please enter the year that you would like to check to see if it is a leap year: 2022\n"
          ],
          "name": "stdout"
        }
      ]
    },
    {
      "cell_type": "markdown",
      "metadata": {
        "id": "qKzuQZ5hSW7m"
      },
      "source": [
        "Compute"
      ]
    },
    {
      "cell_type": "code",
      "metadata": {
        "colab": {
          "base_uri": "https://localhost:8080/"
        },
        "id": "aDJuPv9-E_3F",
        "outputId": "1094684a-4401-4a45-8ea6-86762bdbc03a"
      },
      "source": [
        "if enter_year % 400 == 0:\n",
        "  print(\"The number you entered, \", enter_year, \", is a leap year.\")\n",
        "  print(\"You can ask a man to marry you this Valentine's Day\")\n",
        "elif enter_year % 4 == 0 and enter_year % 100 != 0:\n",
        "    print(\"The number you entered, \", enter_year, \", is a leap year.\")\n",
        "    print(\"You can ask a man to marry you this Valentine's Day\")\n",
        "else: \n",
        "  print(\"The number you entered, \", enter_year, \", is not a leap year.\")\n",
        "  print(\"You can\\'t ask a man to marry you this Valentine's Day\")\n"
      ],
      "execution_count": 99,
      "outputs": [
        {
          "output_type": "stream",
          "text": [
            "The number you entered,  2022 , is not a leap year.\n",
            "You can't ask a man to marry you this Valentine's Day\n"
          ],
          "name": "stdout"
        }
      ]
    }
  ]
}