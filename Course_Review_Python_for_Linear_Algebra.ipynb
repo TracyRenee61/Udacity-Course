{
  "nbformat": 4,
  "nbformat_minor": 0,
  "metadata": {
    "colab": {
      "name": "Course Review -  Python for Linear Algebra.ipynb",
      "provenance": []
    },
    "kernelspec": {
      "name": "python3",
      "display_name": "Python 3"
    },
    "language_info": {
      "name": "python"
    }
  },
  "cells": [
    {
      "cell_type": "markdown",
      "metadata": {
        "id": "OZPsqTK73VQ7"
      },
      "source": [
        "tutorial taken from:-\n",
        "https://www.youtube.com/watch?v=JSjWltL9-7M&t=4960s"
      ]
    },
    {
      "cell_type": "markdown",
      "metadata": {
        "id": "hKNVIctQC_DC"
      },
      "source": [
        "Mean and Square Root of Lists"
      ]
    },
    {
      "cell_type": "code",
      "metadata": {
        "colab": {
          "base_uri": "https://localhost:8080/"
        },
        "id": "wU21t4pIqoGV",
        "outputId": "2787a842-e549-4f90-db4a-06df072a6807"
      },
      "source": [
        "import numpy as np\n",
        "\n",
        "numlist = [1, 2, 3, 4, 4]\n",
        "\n",
        "print(\"Mean of numlist: \", np.mean(numlist))\n",
        "print(\"Square root of 4: \",np.sqrt(4))\n"
      ],
      "execution_count": null,
      "outputs": [
        {
          "output_type": "stream",
          "text": [
            "Mean of numlist:  2.8\n",
            "Square root of 4:  2.0\n"
          ],
          "name": "stdout"
        }
      ]
    },
    {
      "cell_type": "markdown",
      "metadata": {
        "id": "iIz9oDWJ5xZv"
      },
      "source": [
        "Create list with only 7 numeric items"
      ]
    },
    {
      "cell_type": "code",
      "metadata": {
        "colab": {
          "base_uri": "https://localhost:8080/"
        },
        "id": "6GnTMszQyk2w",
        "outputId": "7057163e-db8b-4455-c6bf-b3231ea027d7"
      },
      "source": [
        "#create numpy array\n",
        "funout = np.linspace(1, 10, 7)\n",
        "print(funout)"
      ],
      "execution_count": null,
      "outputs": [
        {
          "output_type": "stream",
          "text": [
            "[ 1.   2.5  4.   5.5  7.   8.5 10. ]\n"
          ],
          "name": "stdout"
        }
      ]
    },
    {
      "cell_type": "markdown",
      "metadata": {
        "id": "T0NRVfaW6DyJ"
      },
      "source": [
        "Plot a dot using Matplotlib"
      ]
    },
    {
      "cell_type": "code",
      "metadata": {
        "colab": {
          "base_uri": "https://localhost:8080/",
          "height": 265
        },
        "id": "Cb_xDiIR0oNo",
        "outputId": "0454f1c4-9efb-459d-f8ed-053850ad7109"
      },
      "source": [
        "import matplotlib.pyplot as plt\n",
        "import numpy as np\n",
        "\n",
        "plt.plot(1, 3, \"ro\")\n",
        "plt.show()"
      ],
      "execution_count": null,
      "outputs": [
        {
          "output_type": "display_data",
          "data": {
            "image/png": "[encoded data removed]",
            "text/plain": [
              "<Figure size 432x288 with 1 Axes>"
            ]
          },
          "metadata": {
            "tags": [],
            "needs_background": "light"
          }
        }
      ]
    },
    {
      "cell_type": "markdown",
      "metadata": {
        "id": "O0WDnntl6LtI"
      },
      "source": [
        "Plot a graph using matplotlib"
      ]
    },
    {
      "cell_type": "code",
      "metadata": {
        "colab": {
          "base_uri": "https://localhost:8080/",
          "height": 283
        },
        "id": "t2uc0DHx2PoK",
        "outputId": "5d7eaad0-d5d5-464d-9390-08648c3588bd"
      },
      "source": [
        "x = np.arange(-9, 10)\n",
        "y = x**2\n",
        "\n",
        "plt.plot(x, y, \"r\")\n",
        "plt.plot(x, y/2, \"gs\")\n",
        "plt.show"
      ],
      "execution_count": null,
      "outputs": [
        {
          "output_type": "execute_result",
          "data": {
            "text/plain": [
              "<function matplotlib.pyplot.show>"
            ]
          },
          "metadata": {
            "tags": []
          },
          "execution_count": 15
        },
        {
          "output_type": "display_data",
          "data": {
            "image/png": "[encoded data removed]",
            "text/plain": [
              "<Figure size 432x288 with 1 Axes>"
            ]
          },
          "metadata": {
            "tags": [],
            "needs_background": "light"
          }
        }
      ]
    },
    {
      "cell_type": "markdown",
      "metadata": {
        "id": "Dt3meZLo6YPP"
      },
      "source": [
        "Plot two lines on a graph using matplotlib"
      ]
    },
    {
      "cell_type": "code",
      "metadata": {
        "colab": {
          "base_uri": "https://localhost:8080/",
          "height": 265
        },
        "id": "bBZNi7GZ3qzm",
        "outputId": "4abda798-4c42-4c11-919c-3a68db534435"
      },
      "source": [
        "import matplotlib.pyplot as plt\n",
        "\n",
        "plt.plot([-2, 3], [-4,1], label=\"first line\")\n",
        "plt.plot([-2, 3], [1, -4], label=\"second line\")\n",
        "plt.legend()\n",
        "plt.show()"
      ],
      "execution_count": null,
      "outputs": [
        {
          "output_type": "display_data",
          "data": {
            "image/png": "[encoded data removed]",
            "text/plain": [
              "<Figure size 432x288 with 1 Axes>"
            ]
          },
          "metadata": {
            "tags": [],
            "needs_background": "light"
          }
        }
      ]
    },
    {
      "cell_type": "markdown",
      "metadata": {
        "id": "vlXxDROjC46w"
      },
      "source": [
        "Create a matrix, plot it, and put an X in the centre"
      ]
    },
    {
      "cell_type": "code",
      "metadata": {
        "colab": {
          "base_uri": "https://localhost:8080/"
        },
        "id": "kzGUxB1T9Q4I",
        "outputId": "49d8299d-b1cb-4f49-e502-f1bd436e432f"
      },
      "source": [
        "#create matrix\n",
        "M = np.random.randint(0, 10, size=(4, 5))\n",
        "print(M)"
      ],
      "execution_count": null,
      "outputs": [
        {
          "output_type": "stream",
          "text": [
            "[[4 9 0 9 8]\n",
            " [4 9 0 9 9]\n",
            " [2 0 4 1 6]\n",
            " [1 3 3 8 8]]\n"
          ],
          "name": "stdout"
        }
      ]
    },
    {
      "cell_type": "code",
      "metadata": {
        "colab": {
          "base_uri": "https://localhost:8080/",
          "height": 269
        },
        "id": "O9HrLc4d9-kX",
        "outputId": "1ab83ee7-58e0-4aa3-d117-09f220c0addd"
      },
      "source": [
        "#draw a red cross across the matrix\n",
        "plt.plot([-1, 5], [4, -1], \"r\")\n",
        "plt.plot([-1, 5], [-1, 4], \"r\")\n",
        "\n",
        "plt.imshow(M)\n",
        "plt.show()"
      ],
      "execution_count": null,
      "outputs": [
        {
          "output_type": "display_data",
          "data": {
            "image/png": "[encoded data removed]",
            "text/plain": [
              "<Figure size 432x288 with 1 Axes>"
            ]
          },
          "metadata": {
            "tags": [],
            "needs_background": "light"
          }
        }
      ]
    },
    {
      "cell_type": "markdown",
      "metadata": {
        "id": "S4wDnGQqCxfr"
      },
      "source": [
        "Create a vector and multiply it"
      ]
    },
    {
      "cell_type": "code",
      "metadata": {
        "colab": {
          "base_uri": "https://localhost:8080/"
        },
        "id": "R7FjwZO8DFeM",
        "outputId": "c4e45427-7c4b-4639-f896-cc25264d6eee"
      },
      "source": [
        "import matplotlib.pyplot as plt\n",
        "import numpy as np\n",
        "\n",
        "vec = np.array([3, 4, 5, 2])\n",
        "s = 3\n",
        "\n",
        "print(vec * s)"
      ],
      "execution_count": null,
      "outputs": [
        {
          "output_type": "stream",
          "text": [
            "[ 9 12 15  6]\n"
          ],
          "name": "stdout"
        }
      ]
    },
    {
      "cell_type": "markdown",
      "metadata": {
        "id": "GLXw9LPx69zS"
      },
      "source": [
        "Create a 2d array and multiply it"
      ]
    },
    {
      "cell_type": "code",
      "metadata": {
        "id": "QHalaYg3Kyu7",
        "colab": {
          "base_uri": "https://localhost:8080/",
          "height": 265
        },
        "outputId": "e1e2dae5-6398-4299-df12-1fbe958b2b0b"
      },
      "source": [
        "import matplotlib.pyplot as plt\n",
        "import numpy as np\n",
        "\n",
        "vec2d = np.array([1,2])\n",
        "\n",
        "s1 = 2\n",
        "s2 = .5\n",
        "s3 = -1\n",
        "\n",
        "plt.plot([0, vec2d[0]],[0, vec2d[1]], 'bs-',label='v')\n",
        "plt.plot([0, s1*vec2d[0]],[0, s1*vec2d[1]], 'ro-', label='v*s1')\n",
        "plt.plot([0, s2*vec2d[0]],[0, s2*vec2d[1]], 'kp-', label='v*s2')\n",
        "plt.plot([0, s3*vec2d[0]],[0, s3*vec2d[1]], 'g*-', label='v*s3')\n",
        "\n",
        "plt.axis('square')\n",
        "plt.xlim(-5,5)\n",
        "plt.ylim(-5,5)\n",
        "plt.grid()\n",
        "plt.legend()\n",
        "plt.show()"
      ],
      "execution_count": 3,
      "outputs": [
        {
          "output_type": "display_data",
          "data": {
            "image/png": "[encoded data removed]",
            "text/plain": [
              "<Figure size 432x288 with 1 Axes>"
            ]
          },
          "metadata": {
            "tags": [],
            "needs_background": "light"
          }
        }
      ]
    },
    {
      "cell_type": "markdown",
      "metadata": {
        "id": "IDwguO4tQPFD"
      },
      "source": [
        "Assignment for plotting vectors using Matplotlib"
      ]
    },
    {
      "cell_type": "code",
      "metadata": {
        "colab": {
          "base_uri": "https://localhost:8080/",
          "height": 265
        },
        "id": "0BMlAxstQTcm",
        "outputId": "f25c9b12-c946-4a66-e046-92e4af20c2c0"
      },
      "source": [
        "import numpy as np\n",
        "import matplotlib.pyplot as plt\n",
        "\n",
        "vec1 = np.random.randint(1,10,2)\n",
        "vec2 = np.random.randint(1,10,2)\n",
        "\n",
        "plt.plot([0, vec1[0]], [0, vec1[1]], 'bs-', label='vec1')\n",
        "plt.plot([0, vec2[0]], [0, vec2[1]], 'ro-', label='vec2')\n",
        "plt.plot([0, vec1[0]+vec2[0]], [0, vec1[1]]+vec2[1], 'kp-', label='vec1+v2')\n",
        "plt.plot([0, vec1[0]-vec2[0]], [0, vec1[1]]-vec2[1], 'g*-', label='vec1-v2')\n",
        "plt.plot([0, vec1[0]*4 + vec2[0]/2], [0, vec1[1]*4+ vec2[1]/2], 'ms-', label='vec1*4 + vec2/2')\n",
        "\n",
        "plt.axis('square')\n",
        "plt.xlim(-10,45)\n",
        "plt.ylim(-10,45)\n",
        "plt.grid()\n",
        "plt.legend()\n",
        "plt.show()"
      ],
      "execution_count": null,
      "outputs": [
        {
          "output_type": "display_data",
          "data": {
            "image/png": "[encoded data removed]",
            "text/plain": [
              "<Figure size 432x288 with 1 Axes>"
            ]
          },
          "metadata": {
            "tags": [],
            "needs_background": "light"
          }
        }
      ]
    },
    {
      "cell_type": "markdown",
      "metadata": {
        "id": "OzwzQSBQnRQv"
      },
      "source": [
        "Calculate Dot products"
      ]
    },
    {
      "cell_type": "code",
      "metadata": {
        "colab": {
          "base_uri": "https://localhost:8080/"
        },
        "id": "sLU9malAnTkw",
        "outputId": "fe66824f-c09d-43a5-c2b2-705659b29c13"
      },
      "source": [
        "import numpy as np\n",
        "\n",
        "v1 = np.array([5, 6, 2])\n",
        "v2 = np.array([3, 0, 5])\n",
        "\n",
        "np.dot(v1, v2)"
      ],
      "execution_count": null,
      "outputs": [
        {
          "output_type": "execute_result",
          "data": {
            "text/plain": [
              "25"
            ]
          },
          "metadata": {
            "tags": []
          },
          "execution_count": 16
        }
      ]
    },
    {
      "cell_type": "code",
      "metadata": {
        "colab": {
          "base_uri": "https://localhost:8080/"
        },
        "id": "1d4vVDfookkI",
        "outputId": "ce9dc7b5-310d-4eff-a191-f31aa9487533"
      },
      "source": [
        "v3 = np.array([-4, 3, 1])\n",
        "np.dot(v2, v3)"
      ],
      "execution_count": null,
      "outputs": [
        {
          "output_type": "execute_result",
          "data": {
            "text/plain": [
              "-7"
            ]
          },
          "metadata": {
            "tags": []
          },
          "execution_count": 17
        }
      ]
    },
    {
      "cell_type": "code",
      "metadata": {
        "colab": {
          "base_uri": "https://localhost:8080/"
        },
        "id": "-QlYqs9Jo4cj",
        "outputId": "cb2c03fe-1094-44fd-a1db-5a29abdcd699"
      },
      "source": [
        "v4 = np.array([0, 0, 0])\n",
        "np.dot(v3, v4)"
      ],
      "execution_count": null,
      "outputs": [
        {
          "output_type": "execute_result",
          "data": {
            "text/plain": [
              "0"
            ]
          },
          "metadata": {
            "tags": []
          },
          "execution_count": 18
        }
      ]
    },
    {
      "cell_type": "code",
      "metadata": {
        "colab": {
          "base_uri": "https://localhost:8080/"
        },
        "id": "S8Fj9HB8pYSj",
        "outputId": "9b227ebd-9c38-4aa1-dbe7-706c8dd3b69b"
      },
      "source": [
        "#create orthogonal vector\n",
        "v3 = np.array([-4, 3, 1])\n",
        "v5 = np.array([2, 3, -1])\n",
        "np.dot(v3, v5)"
      ],
      "execution_count": null,
      "outputs": [
        {
          "output_type": "execute_result",
          "data": {
            "text/plain": [
              "0"
            ]
          },
          "metadata": {
            "tags": []
          },
          "execution_count": 19
        }
      ]
    },
    {
      "cell_type": "markdown",
      "metadata": {
        "id": "BOOL5MhlrCFW"
      },
      "source": [
        "Assignment create vectors and plot them on matplotlib"
      ]
    },
    {
      "cell_type": "code",
      "metadata": {
        "colab": {
          "base_uri": "https://localhost:8080/"
        },
        "id": "1ZJsTddXrEnR",
        "outputId": "79207813-b002-4b05-8d89-9fadd146d010"
      },
      "source": [
        "import numpy as np\n",
        "\n",
        "#create an orthogonal vector\n",
        "v1 = np.array([-1, -3, 5])\n",
        "v2 = np.array([1, 3, 2])\n",
        "np.dot(v1, v2)"
      ],
      "execution_count": null,
      "outputs": [
        {
          "output_type": "execute_result",
          "data": {
            "text/plain": [
              "0"
            ]
          },
          "metadata": {
            "tags": []
          },
          "execution_count": 1
        }
      ]
    },
    {
      "cell_type": "code",
      "metadata": {
        "colab": {
          "base_uri": "https://localhost:8080/"
        },
        "id": "IJRICcO1kMtQ",
        "outputId": "10f8a963-9370-4720-e742-fb5a09bd2b64"
      },
      "source": [
        "v3 = np.array([3, 2 , 5])\n",
        "np.dot(v2, v3)"
      ],
      "execution_count": null,
      "outputs": [
        {
          "output_type": "execute_result",
          "data": {
            "text/plain": [
              "19"
            ]
          },
          "metadata": {
            "tags": []
          },
          "execution_count": 3
        }
      ]
    },
    {
      "cell_type": "code",
      "metadata": {
        "colab": {
          "base_uri": "https://localhost:8080/",
          "height": 269
        },
        "id": "N9y5R0mQk7kj",
        "outputId": "6a09227e-d256-4c24-9229-4e4c2aa82867"
      },
      "source": [
        "import matplotlib.pyplot as plt\n",
        "\n",
        "plt.plot([0, v1[0]], [0, v1[1]], 'bs-', label='v1')\n",
        "plt.plot([0, v2[0]], [0, v2[1]], 'ro-', label='v2')\n",
        "plt.plot([0, v3[0]], [0, v3[1]], 'kp-', label='v3')\n",
        "\n",
        "plt.axis('square')\n",
        "plt.xlim(-10,10)\n",
        "plt.ylim(-10,10)\n",
        "plt.grid()\n",
        "plt.legend()\n",
        "plt.show()"
      ],
      "execution_count": null,
      "outputs": [
        {
          "output_type": "display_data",
          "data": {
            "image/png": "[encoded data removed]",
            "text/plain": [
              "<Figure size 432x288 with 1 Axes>"
            ]
          },
          "metadata": {
            "tags": [],
            "needs_background": "light"
          }
        }
      ]
    },
    {
      "cell_type": "markdown",
      "metadata": {
        "id": "vbsqCJXWncX2"
      },
      "source": [
        "Types of matrixes"
      ]
    },
    {
      "cell_type": "code",
      "metadata": {
        "colab": {
          "base_uri": "https://localhost:8080/"
        },
        "id": "EvzGkUyingBj",
        "outputId": "fc4f5b07-204c-4239-9ca8-3306a17084b9"
      },
      "source": [
        "#produce identity matrix\n",
        "import numpy as np\n",
        "\n",
        "np.eye(3)"
      ],
      "execution_count": null,
      "outputs": [
        {
          "output_type": "execute_result",
          "data": {
            "text/plain": [
              "array([[1., 0., 0.],\n",
              "       [0., 1., 0.],\n",
              "       [0., 0., 1.]])"
            ]
          },
          "metadata": {
            "tags": []
          },
          "execution_count": 7
        }
      ]
    },
    {
      "cell_type": "code",
      "metadata": {
        "colab": {
          "base_uri": "https://localhost:8080/"
        },
        "id": "XAUI7gJZn3Qd",
        "outputId": "be01a2ed-dc6d-4fca-a380-4307d73cc8df"
      },
      "source": [
        "#matrix of all zeros\n",
        "import numpy as np\n",
        "\n",
        "np.zeros((3,4))"
      ],
      "execution_count": null,
      "outputs": [
        {
          "output_type": "execute_result",
          "data": {
            "text/plain": [
              "array([[0., 0., 0., 0.],\n",
              "       [0., 0., 0., 0.],\n",
              "       [0., 0., 0., 0.]])"
            ]
          },
          "metadata": {
            "tags": []
          },
          "execution_count": 9
        }
      ]
    },
    {
      "cell_type": "code",
      "metadata": {
        "colab": {
          "base_uri": "https://localhost:8080/"
        },
        "id": "2OmxJedpohdI",
        "outputId": "c00eab3a-e5ae-4d72-f4e3-cbff7ef2aabf"
      },
      "source": [
        "#full matrix\n",
        "import numpy as np\n",
        "\n",
        "np.full((5, 2), 7)"
      ],
      "execution_count": null,
      "outputs": [
        {
          "output_type": "execute_result",
          "data": {
            "text/plain": [
              "array([[7, 7],\n",
              "       [7, 7],\n",
              "       [7, 7],\n",
              "       [7, 7],\n",
              "       [7, 7]])"
            ]
          },
          "metadata": {
            "tags": []
          },
          "execution_count": 11
        }
      ]
    },
    {
      "cell_type": "code",
      "metadata": {
        "colab": {
          "base_uri": "https://localhost:8080/"
        },
        "id": "oVbjaHXFpGob",
        "outputId": "57051239-030f-4aab-9112-abab0939b099"
      },
      "source": [
        "#create your own matrix\n",
        "import numpy as np\n",
        "\n",
        "M = np.array([[1, 2, 3], [4, 5, 6], [7, 8, 9]])\n",
        "M"
      ],
      "execution_count": null,
      "outputs": [
        {
          "output_type": "execute_result",
          "data": {
            "text/plain": [
              "array([[1, 2, 3],\n",
              "       [4, 5, 6],\n",
              "       [7, 8, 9]])"
            ]
          },
          "metadata": {
            "tags": []
          },
          "execution_count": 16
        }
      ]
    },
    {
      "cell_type": "markdown",
      "metadata": {
        "id": "F_B4Ux50qvQB"
      },
      "source": [
        "Assignment to create matrixes"
      ]
    },
    {
      "cell_type": "code",
      "metadata": {
        "colab": {
          "base_uri": "https://localhost:8080/"
        },
        "id": "VlsWxLdfqxwU",
        "outputId": "74705db1-d090-4f07-cf8c-ced0e2586c94"
      },
      "source": [
        "import numpy as np\n",
        "\n",
        "#create matrix\n",
        "m1 = np.random.rand(2)\n",
        "m1"
      ],
      "execution_count": null,
      "outputs": [
        {
          "output_type": "execute_result",
          "data": {
            "text/plain": [
              "array([0.06121514, 0.38804397])"
            ]
          },
          "metadata": {
            "tags": []
          },
          "execution_count": 17
        }
      ]
    },
    {
      "cell_type": "code",
      "metadata": {
        "colab": {
          "base_uri": "https://localhost:8080/"
        },
        "id": "luFjQ05CrwDq",
        "outputId": "8a54f3a9-587f-4288-a089-f2397ff2ac98"
      },
      "source": [
        "m2 = np.random.rand(2)\n",
        "m2"
      ],
      "execution_count": null,
      "outputs": [
        {
          "output_type": "execute_result",
          "data": {
            "text/plain": [
              "array([0.35742188, 0.35997047])"
            ]
          },
          "metadata": {
            "tags": []
          },
          "execution_count": 18
        }
      ]
    },
    {
      "cell_type": "code",
      "metadata": {
        "colab": {
          "base_uri": "https://localhost:8080/"
        },
        "id": "eDK8FeDar39U",
        "outputId": "762a7249-9c09-4e00-dbae-930586791bae"
      },
      "source": [
        "m3 = np.random.rand(3, 2)\n",
        "m3"
      ],
      "execution_count": null,
      "outputs": [
        {
          "output_type": "execute_result",
          "data": {
            "text/plain": [
              "array([[0.93158625, 0.95632956],\n",
              "       [0.78706145, 0.16539414],\n",
              "       [0.14426043, 0.78476671]])"
            ]
          },
          "metadata": {
            "tags": []
          },
          "execution_count": 19
        }
      ]
    },
    {
      "cell_type": "code",
      "metadata": {
        "colab": {
          "base_uri": "https://localhost:8080/"
        },
        "id": "LtPxdxO4sI3K",
        "outputId": "23690d71-8d88-4d18-c4cf-84d9913c0327"
      },
      "source": [
        "#multiply the matrixes\n",
        "m_prod = m1 * m2 * m3\n",
        "m_prod"
      ],
      "execution_count": null,
      "outputs": [
        {
          "output_type": "execute_result",
          "data": {
            "text/plain": [
              "array([[0.02038276, 0.13358429],\n",
              "       [0.01722061, 0.02310298],\n",
              "       [0.00315636, 0.10961964]])"
            ]
          },
          "metadata": {
            "tags": []
          },
          "execution_count": 20
        }
      ]
    },
    {
      "cell_type": "code",
      "metadata": {
        "colab": {
          "base_uri": "https://localhost:8080/"
        },
        "id": "FiiTQ_F1s0Y0",
        "outputId": "f55caa8a-0ae1-46ae-bd33-0664e35309f0"
      },
      "source": [
        "#add the matrixes\n",
        "m_add = m1 + m2 + m3\n",
        "m3"
      ],
      "execution_count": null,
      "outputs": [
        {
          "output_type": "execute_result",
          "data": {
            "text/plain": [
              "array([[0.93158625, 0.95632956],\n",
              "       [0.78706145, 0.16539414],\n",
              "       [0.14426043, 0.78476671]])"
            ]
          },
          "metadata": {
            "tags": []
          },
          "execution_count": 21
        }
      ]
    },
    {
      "cell_type": "markdown",
      "metadata": {
        "id": "JctQx1l7tdOd"
      },
      "source": [
        "Transposing a vector"
      ]
    },
    {
      "cell_type": "code",
      "metadata": {
        "colab": {
          "base_uri": "https://localhost:8080/"
        },
        "id": "_L2uwL55tgDt",
        "outputId": "06cf5eb7-ec1d-4908-ef36-cfe0acfec67a"
      },
      "source": [
        "import numpy as np\n",
        "\n",
        "v1 = np.array([2, 3, -1], ndmin=2)\n",
        "\n",
        "print(v1)\n",
        "print(\" \")\n",
        "\n",
        "#transpose vector\n",
        "print(v1.T)"
      ],
      "execution_count": 4,
      "outputs": [
        {
          "output_type": "stream",
          "text": [
            "[[ 2  3 -1]]\n",
            " \n",
            "[[ 2]\n",
            " [ 3]\n",
            " [-1]]\n"
          ],
          "name": "stdout"
        }
      ]
    },
    {
      "cell_type": "markdown",
      "metadata": {
        "id": "5IxjVinkxuwi"
      },
      "source": [
        "Transpose matrix"
      ]
    },
    {
      "cell_type": "code",
      "metadata": {
        "colab": {
          "base_uri": "https://localhost:8080/"
        },
        "id": "e3lYXB3mxsl7",
        "outputId": "ee3884fa-1a18-48f2-fc7a-96ae6ae003b1"
      },
      "source": [
        "import numpy as np\n",
        "\n",
        "M = np.round(np.random.randn(3,3))\n",
        "\n",
        "print(M)\n",
        "print(\" \")\n",
        "\n",
        "#transpose matrix\n",
        "print(M.T)"
      ],
      "execution_count": null,
      "outputs": [
        {
          "output_type": "stream",
          "text": [
            "[[ 0. -0. -0.]\n",
            " [ 0.  0.  1.]\n",
            " [-0. -1. -0.]]\n",
            " \n",
            "[[ 0.  0. -0.]\n",
            " [-0.  0. -1.]\n",
            " [-0.  1. -0.]]\n"
          ],
          "name": "stdout"
        }
      ]
    },
    {
      "cell_type": "markdown",
      "metadata": {
        "id": "oA_cGPNQ2EdC"
      },
      "source": [
        "Transpose matrix twice"
      ]
    },
    {
      "cell_type": "code",
      "metadata": {
        "colab": {
          "base_uri": "https://localhost:8080/"
        },
        "id": "68S0l0l72Ha6",
        "outputId": "809f9344-cda5-4c6f-e66b-ed01dbfa008b"
      },
      "source": [
        "import numpy as np\n",
        "\n",
        "m1 = np.round(np.random.randn(3,3))\n",
        "\n",
        "print(m1)\n",
        "print(\" \")\n",
        "\n",
        "m_trans = m1.T\n",
        "print(m_trans)\n",
        "print(\" \")\n",
        "\n",
        "m_2trans = m_trans.T\n",
        "print(m_2trans)"
      ],
      "execution_count": null,
      "outputs": [
        {
          "output_type": "stream",
          "text": [
            "[[ 1. -2. -1.]\n",
            " [ 1. -0. -1.]\n",
            " [-1. -0.  1.]]\n",
            " \n",
            "[[ 1.  1. -1.]\n",
            " [-2. -0. -0.]\n",
            " [-1. -1.  1.]]\n",
            " \n",
            "[[ 1. -2. -1.]\n",
            " [ 1. -0. -1.]\n",
            " [-1. -0.  1.]]\n"
          ],
          "name": "stdout"
        }
      ]
    },
    {
      "cell_type": "markdown",
      "metadata": {
        "id": "Tw4HMQsr3lCR"
      },
      "source": [
        "Transpose rectangular matrix"
      ]
    },
    {
      "cell_type": "code",
      "metadata": {
        "colab": {
          "base_uri": "https://localhost:8080/"
        },
        "id": "0EDzw08Z3o3c",
        "outputId": "ebae30d4-7d8b-4728-f0ed-faf27a557af3"
      },
      "source": [
        "import numpy as np\n",
        "\n",
        "m2 = np.round(np.random.randn(3,4))\n",
        "print(m2)\n",
        "print(\" \")\n",
        "\n",
        "m2_trans = m2.T\n",
        "print(m2_trans)\n",
        "print(\" \")\n",
        "\n",
        "m2_2trans = m2_trans.T\n",
        "print(m2_2trans)"
      ],
      "execution_count": null,
      "outputs": [
        {
          "output_type": "stream",
          "text": [
            "[[ 1.  0.  0. -1.]\n",
            " [ 1. -2. -1. -1.]\n",
            " [-1. -1. -0. -0.]]\n",
            " \n",
            "[[ 1.  1. -1.]\n",
            " [ 0. -2. -1.]\n",
            " [ 0. -1. -0.]\n",
            " [-1. -1. -0.]]\n",
            " \n",
            "[[ 1.  0.  0. -1.]\n",
            " [ 1. -2. -1. -1.]\n",
            " [-1. -1. -0. -0.]]\n"
          ],
          "name": "stdout"
        }
      ]
    },
    {
      "cell_type": "markdown",
      "metadata": {
        "id": "eUxA-Z7bFGmi"
      },
      "source": [
        "Multiplying matrixes"
      ]
    },
    {
      "cell_type": "code",
      "metadata": {
        "colab": {
          "base_uri": "https://localhost:8080/"
        },
        "id": "kYhLccKvFLP-",
        "outputId": "4b52e6bb-dc3b-4aaa-df24-8d63fb58e0ee"
      },
      "source": [
        "import numpy as np\n",
        "\n",
        "M1 = np.random.randn(4,5)\n",
        "M2 = np.random.randn(4,5)\n",
        "\n",
        "#must transpose one of the matrixes for matmul to work\n",
        "print(np.matmul(M1, M2.T))\n",
        "print(\" \")\n",
        "\n",
        "#another way to multiply matrixes\n",
        "print(M1@M2.T)\n",
        "print(\" \")\n",
        "\n",
        "#shows these two ways to multiply matrixes are the same\n",
        "print(np.matmul(M1, M2.T) - M1@M2.T)"
      ],
      "execution_count": null,
      "outputs": [
        {
          "output_type": "stream",
          "text": [
            "[[-0.34856491  2.35900019 -0.18762196 -0.05235407]\n",
            " [-0.59348205  0.81124055  0.35619048  1.15730898]\n",
            " [ 0.09419483  1.95118524 -1.86152331 -0.37605466]\n",
            " [ 1.04859599 -4.85229619  2.21599763  1.03219689]]\n",
            " \n",
            "[[-0.34856491  2.35900019 -0.18762196 -0.05235407]\n",
            " [-0.59348205  0.81124055  0.35619048  1.15730898]\n",
            " [ 0.09419483  1.95118524 -1.86152331 -0.37605466]\n",
            " [ 1.04859599 -4.85229619  2.21599763  1.03219689]]\n",
            " \n",
            "[[0. 0. 0. 0.]\n",
            " [0. 0. 0. 0.]\n",
            " [0. 0. 0. 0.]\n",
            " [0. 0. 0. 0.]]\n"
          ],
          "name": "stdout"
        }
      ]
    },
    {
      "cell_type": "markdown",
      "metadata": {
        "id": "Xnl5aNm5lHDr"
      },
      "source": [
        "Assignment to create matrixes"
      ]
    },
    {
      "cell_type": "code",
      "metadata": {
        "colab": {
          "base_uri": "https://localhost:8080/"
        },
        "id": "BCmj86_ilJpM",
        "outputId": "f0342073-ba0f-4c31-acac-d04e31c5c42b"
      },
      "source": [
        "import numpy as np\n",
        "\n",
        "m1 = np.random.randn(3,3)\n",
        "m2 = np.identity(3, dtype=float)\n",
        "print(m1 * m2)"
      ],
      "execution_count": null,
      "outputs": [
        {
          "output_type": "stream",
          "text": [
            "[[ 1.2056263   0.          0.        ]\n",
            " [ 0.         -1.49559871 -0.        ]\n",
            " [ 0.          0.         -0.27885029]]\n"
          ],
          "name": "stdout"
        }
      ]
    },
    {
      "cell_type": "code",
      "metadata": {
        "colab": {
          "base_uri": "https://localhost:8080/"
        },
        "id": "kDTCN3num6Ai",
        "outputId": "ee53b406-8571-4c92-b739-69b493e69638"
      },
      "source": [
        "m3 = np.zeros(3, dtype=float)\n",
        "print(m1 * m3)"
      ],
      "execution_count": null,
      "outputs": [
        {
          "output_type": "stream",
          "text": [
            "[[ 0.  0.  0.]\n",
            " [ 0. -0. -0.]\n",
            " [ 0.  0. -0.]]\n"
          ],
          "name": "stdout"
        }
      ]
    },
    {
      "cell_type": "code",
      "metadata": {
        "colab": {
          "base_uri": "https://localhost:8080/"
        },
        "id": "Blp8RbNRnVak",
        "outputId": "1c1a8252-8229-47f5-b63d-8e68f0a33e3d"
      },
      "source": [
        "m4 = m1.T\n",
        "print(m1 * m4)"
      ],
      "execution_count": null,
      "outputs": [
        {
          "output_type": "stream",
          "text": [
            "[[ 1.45353477  3.67139966  0.00500643]\n",
            " [ 3.67139966  2.23681551 -0.75465822]\n",
            " [ 0.00500643 -0.75465822  0.07775748]]\n"
          ],
          "name": "stdout"
        }
      ]
    },
    {
      "cell_type": "markdown",
      "metadata": {
        "id": "NSp_1xQMp9wx"
      },
      "source": [
        "You cannot divide a matrix but must multiply by the reciprical"
      ]
    },
    {
      "cell_type": "code",
      "metadata": {
        "colab": {
          "base_uri": "https://localhost:8080/"
        },
        "id": "aY2k1L7sqFjR",
        "outputId": "8989863e-da9a-4ed8-e975-ed13bd087350"
      },
      "source": [
        "import numpy as np\n",
        "\n",
        "A = np.random.randn(4,4)\n",
        "\n",
        "Ainv = np.linalg.inv(A)\n",
        "\n",
        "AinvA = A@Ainv\n",
        "\n",
        "print(A)\n",
        "print(\" \")\n",
        "print(Ainv)\n",
        "print(\" \")\n",
        "#print(AinvA)"
      ],
      "execution_count": null,
      "outputs": [
        {
          "output_type": "stream",
          "text": [
            "[[-0.15895366  0.21783392  0.3030984   3.02653019]\n",
            " [-0.66278343  0.79729107 -0.51006614  1.42909957]\n",
            " [ 0.75203664  0.27800294  1.01730871 -0.04902196]\n",
            " [-0.91266865 -0.237635   -0.17364626 -1.27773362]]\n",
            " \n",
            "[[-0.36620723 -0.15809152 -0.14743523 -1.03858752]\n",
            " [-0.57380644  1.12405846  0.71248376 -0.12927452]\n",
            " [ 0.44237161 -0.19367103  0.89013354  0.79706736]\n",
            " [ 0.30817548 -0.06981127 -0.14816854 -0.12506624]]\n",
            " \n",
            "[[ 1.00000000e+00 -8.87664918e-17 -5.64721216e-17 -8.98782835e-17]\n",
            " [-5.25433624e-17  1.00000000e+00  6.04865099e-17  1.02490373e-16]\n",
            " [ 6.61178096e-17  8.15221000e-18  1.00000000e+00  4.22852131e-17]\n",
            " [ 3.47958419e-18 -4.80399094e-18  2.69274530e-18  1.00000000e+00]]\n"
          ],
          "name": "stdout"
        }
      ]
    },
    {
      "cell_type": "code",
      "metadata": {
        "colab": {
          "base_uri": "https://localhost:8080/",
          "height": 166
        },
        "id": "BWIxlHlArvAC",
        "outputId": "5a6aaa6a-6781-4e23-9a7c-a6fa8e499fd7"
      },
      "source": [
        "#plot matrixes using matplotlib\n",
        "import matplotlib.pyplot as plt\n",
        "\n",
        "fig,ax = plt.subplots(1, 3, figsize=(6,5))\n",
        "ax[0].imshow(A)\n",
        "ax[0].set_title('A')\n",
        "\n",
        "ax[1].imshow(Ainv)\n",
        "ax[1].set_title('A$^{-1}$')\n",
        "\n",
        "ax[2].imshow(AinvA)\n",
        "ax[2].set_title('A$^{-1}$A')\n",
        "\n",
        "plt.show()\n"
      ],
      "execution_count": null,
      "outputs": [
        {
          "output_type": "display_data",
          "data": {
            "image/png": "[encoded data removed]",
            "text/plain": [
              "<Figure size 432x360 with 3 Axes>"
            ]
          },
          "metadata": {
            "tags": [],
            "needs_background": "light"
          }
        }
      ]
    },
    {
      "cell_type": "markdown",
      "metadata": {
        "id": "d9QsK__8wiVQ"
      },
      "source": [
        "Assignment Create 3d matrix"
      ]
    },
    {
      "cell_type": "code",
      "metadata": {
        "colab": {
          "base_uri": "https://localhost:8080/"
        },
        "id": "BnNlE9DYwkUx",
        "outputId": "bd343e22-1deb-452f-d835-e672b8525e7e"
      },
      "source": [
        "import numpy as np\n",
        "\n",
        "#create vectors\n",
        "v1 = np.random.randint(1,10,3)\n",
        "\n",
        "v2 = np.diag(v1)\n",
        "\n",
        "v2_inv = np.linalg.inv(v2)\n",
        "v2_inv"
      ],
      "execution_count": null,
      "outputs": [
        {
          "output_type": "execute_result",
          "data": {
            "text/plain": [
              "array([[0.5       , 0.        , 0.        ],\n",
              "       [0.        , 0.16666667, 0.        ],\n",
              "       [0.        , 0.        , 0.5       ]])"
            ]
          },
          "metadata": {
            "tags": []
          },
          "execution_count": 22
        }
      ]
    },
    {
      "cell_type": "code",
      "metadata": {
        "colab": {
          "base_uri": "https://localhost:8080/",
          "height": 405
        },
        "id": "u9V0ukObxwTP",
        "outputId": "40bf40ec-2ce1-471d-bbe3-a4e29f996fbf"
      },
      "source": [
        "import numpy as np\n",
        "\n",
        "#create matrixes\n",
        "m1 = np.random.randn(2,3)\n",
        "\n",
        "m1_inv = np.linalg.inv(m1)\n",
        "m1_inv"
      ],
      "execution_count": null,
      "outputs": [
        {
          "output_type": "error",
          "ename": "LinAlgError",
          "evalue": "ignored",
          "traceback": [
            "\u001b[0;31m---------------------------------------------------------------------------\u001b[0m",
            "\u001b[0;31mLinAlgError\u001b[0m                               Traceback (most recent call last)",
            "\u001b[0;32m<ipython-input-27-9d1037902d3d>\u001b[0m in \u001b[0;36m<module>\u001b[0;34m()\u001b[0m\n\u001b[1;32m      3\u001b[0m \u001b[0mm1\u001b[0m \u001b[0;34m=\u001b[0m \u001b[0mnp\u001b[0m\u001b[0;34m.\u001b[0m\u001b[0mrandom\u001b[0m\u001b[0;34m.\u001b[0m\u001b[0mrandn\u001b[0m\u001b[0;34m(\u001b[0m\u001b[0;36m2\u001b[0m\u001b[0;34m,\u001b[0m\u001b[0;36m3\u001b[0m\u001b[0;34m)\u001b[0m\u001b[0;34m\u001b[0m\u001b[0;34m\u001b[0m\u001b[0m\n\u001b[1;32m      4\u001b[0m \u001b[0;34m\u001b[0m\u001b[0m\n\u001b[0;32m----> 5\u001b[0;31m \u001b[0mm1_inv\u001b[0m \u001b[0;34m=\u001b[0m \u001b[0mnp\u001b[0m\u001b[0;34m.\u001b[0m\u001b[0mlinalg\u001b[0m\u001b[0;34m.\u001b[0m\u001b[0minv\u001b[0m\u001b[0;34m(\u001b[0m\u001b[0mm1\u001b[0m\u001b[0;34m)\u001b[0m\u001b[0;34m\u001b[0m\u001b[0;34m\u001b[0m\u001b[0m\n\u001b[0m\u001b[1;32m      6\u001b[0m \u001b[0mm1_inv\u001b[0m\u001b[0;34m\u001b[0m\u001b[0;34m\u001b[0m\u001b[0m\n",
            "\u001b[0;32m<__array_function__ internals>\u001b[0m in \u001b[0;36minv\u001b[0;34m(*args, **kwargs)\u001b[0m\n",
            "\u001b[0;32m/usr/local/lib/python3.7/dist-packages/numpy/linalg/linalg.py\u001b[0m in \u001b[0;36minv\u001b[0;34m(a)\u001b[0m\n\u001b[1;32m    539\u001b[0m     \u001b[0ma\u001b[0m\u001b[0;34m,\u001b[0m \u001b[0mwrap\u001b[0m \u001b[0;34m=\u001b[0m \u001b[0m_makearray\u001b[0m\u001b[0;34m(\u001b[0m\u001b[0ma\u001b[0m\u001b[0;34m)\u001b[0m\u001b[0;34m\u001b[0m\u001b[0;34m\u001b[0m\u001b[0m\n\u001b[1;32m    540\u001b[0m     \u001b[0m_assert_stacked_2d\u001b[0m\u001b[0;34m(\u001b[0m\u001b[0ma\u001b[0m\u001b[0;34m)\u001b[0m\u001b[0;34m\u001b[0m\u001b[0;34m\u001b[0m\u001b[0m\n\u001b[0;32m--> 541\u001b[0;31m     \u001b[0m_assert_stacked_square\u001b[0m\u001b[0;34m(\u001b[0m\u001b[0ma\u001b[0m\u001b[0;34m)\u001b[0m\u001b[0;34m\u001b[0m\u001b[0;34m\u001b[0m\u001b[0m\n\u001b[0m\u001b[1;32m    542\u001b[0m     \u001b[0mt\u001b[0m\u001b[0;34m,\u001b[0m \u001b[0mresult_t\u001b[0m \u001b[0;34m=\u001b[0m \u001b[0m_commonType\u001b[0m\u001b[0;34m(\u001b[0m\u001b[0ma\u001b[0m\u001b[0;34m)\u001b[0m\u001b[0;34m\u001b[0m\u001b[0;34m\u001b[0m\u001b[0m\n\u001b[1;32m    543\u001b[0m \u001b[0;34m\u001b[0m\u001b[0m\n",
            "\u001b[0;32m/usr/local/lib/python3.7/dist-packages/numpy/linalg/linalg.py\u001b[0m in \u001b[0;36m_assert_stacked_square\u001b[0;34m(*arrays)\u001b[0m\n\u001b[1;32m    202\u001b[0m         \u001b[0mm\u001b[0m\u001b[0;34m,\u001b[0m \u001b[0mn\u001b[0m \u001b[0;34m=\u001b[0m \u001b[0ma\u001b[0m\u001b[0;34m.\u001b[0m\u001b[0mshape\u001b[0m\u001b[0;34m[\u001b[0m\u001b[0;34m-\u001b[0m\u001b[0;36m2\u001b[0m\u001b[0;34m:\u001b[0m\u001b[0;34m]\u001b[0m\u001b[0;34m\u001b[0m\u001b[0;34m\u001b[0m\u001b[0m\n\u001b[1;32m    203\u001b[0m         \u001b[0;32mif\u001b[0m \u001b[0mm\u001b[0m \u001b[0;34m!=\u001b[0m \u001b[0mn\u001b[0m\u001b[0;34m:\u001b[0m\u001b[0;34m\u001b[0m\u001b[0;34m\u001b[0m\u001b[0m\n\u001b[0;32m--> 204\u001b[0;31m             \u001b[0;32mraise\u001b[0m \u001b[0mLinAlgError\u001b[0m\u001b[0;34m(\u001b[0m\u001b[0;34m'Last 2 dimensions of the array must be square'\u001b[0m\u001b[0;34m)\u001b[0m\u001b[0;34m\u001b[0m\u001b[0;34m\u001b[0m\u001b[0m\n\u001b[0m\u001b[1;32m    205\u001b[0m \u001b[0;34m\u001b[0m\u001b[0m\n\u001b[1;32m    206\u001b[0m \u001b[0;32mdef\u001b[0m \u001b[0m_assert_finite\u001b[0m\u001b[0;34m(\u001b[0m\u001b[0;34m*\u001b[0m\u001b[0marrays\u001b[0m\u001b[0;34m)\u001b[0m\u001b[0;34m:\u001b[0m\u001b[0;34m\u001b[0m\u001b[0;34m\u001b[0m\u001b[0m\n",
            "\u001b[0;31mLinAlgError\u001b[0m: Last 2 dimensions of the array must be square"
          ]
        }
      ]
    }
  ]
}