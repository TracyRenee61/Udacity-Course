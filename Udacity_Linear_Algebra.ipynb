{
  "nbformat": 4,
  "nbformat_minor": 0,
  "metadata": {
    "colab": {
      "name": "Udacity Linear Algebra.ipynb",
      "provenance": []
    },
    "kernelspec": {
      "name": "python3",
      "display_name": "Python 3"
    },
    "language_info": {
      "name": "python"
    }
  },
  "cells": [
    {
      "cell_type": "markdown",
      "metadata": {
        "id": "UALLz9REm8Uz"
      },
      "source": [
        "Add vectors"
      ]
    },
    {
      "cell_type": "code",
      "metadata": {
        "colab": {
          "base_uri": "https://localhost:8080/"
        },
        "id": "hloVB2Wsmyqt",
        "outputId": "d34662df-e540-4582-8e0f-488ad820fe2b"
      },
      "source": [
        "import numpy as np\n",
        "from numpy import array\n",
        "\n",
        "a = array([8.218, -9.341])\n",
        "b = array([-1.129, 2.111])\n",
        "\n",
        "c = a + b\n",
        "print(c)"
      ],
      "execution_count": null,
      "outputs": [
        {
          "output_type": "stream",
          "text": [
            "[ 7.089 -7.23 ]\n"
          ],
          "name": "stdout"
        }
      ]
    },
    {
      "cell_type": "markdown",
      "metadata": {
        "id": "HRiVAuQ0qr-E"
      },
      "source": [
        "Subtract vectors"
      ]
    },
    {
      "cell_type": "code",
      "metadata": {
        "colab": {
          "base_uri": "https://localhost:8080/"
        },
        "id": "-DNC6j2lqveu",
        "outputId": "4bbff387-a99e-4f8f-e724-882d63d73408"
      },
      "source": [
        "import numpy as np\n",
        "from numpy import array\n",
        "\n",
        "d = array([7.119, 8.215])\n",
        "e = array([-8.223, 0.878])\n",
        "\n",
        "f = d - e\n",
        "print(f)"
      ],
      "execution_count": null,
      "outputs": [
        {
          "output_type": "stream",
          "text": [
            "[15.342  7.337]\n"
          ],
          "name": "stdout"
        }
      ]
    },
    {
      "cell_type": "markdown",
      "metadata": {
        "id": "8ZqtqTegrpGg"
      },
      "source": [
        "Scalar multiply"
      ]
    },
    {
      "cell_type": "code",
      "metadata": {
        "colab": {
          "base_uri": "https://localhost:8080/"
        },
        "id": "RHrDASrDrtqz",
        "outputId": "e9d90d87-66f4-408e-d320-4467b73deb17"
      },
      "source": [
        "import numpy as np\n",
        "from numpy import array\n",
        "\n",
        "g = 7.41\n",
        "h = array([1.671, 1.012, -0.318])\n",
        "\n",
        "i = g * h\n",
        "print(i)"
      ],
      "execution_count": null,
      "outputs": [
        {
          "output_type": "stream",
          "text": [
            "[12.38211  7.49892 -2.35638]\n"
          ],
          "name": "stdout"
        }
      ]
    },
    {
      "cell_type": "markdown",
      "metadata": {
        "id": "WEiWVel1g0dD"
      },
      "source": [
        "Coding magnitude and normalisation  of vector"
      ]
    },
    {
      "cell_type": "code",
      "metadata": {
        "colab": {
          "base_uri": "https://localhost:8080/"
        },
        "id": "PT6NJ9k4hNB5",
        "outputId": "fad85fa2-c32d-490c-81d0-c3b06d804854"
      },
      "source": [
        "import numpy as np\n",
        "import math\n",
        "\n",
        "# function defination to compute magnitude o f the vector\n",
        "def magnitude(vector): \n",
        "    return math.sqrt(sum(pow(element, 2) for element in vector))\n",
        "\n",
        "# displaying the original vector\n",
        "v = np.array([1.996, 3.108, -4.554])\n",
        "print('Vector:', v)\n",
        "\n",
        "# computing and displaying the magnitude of the vector\n",
        "print('Magnitude of the Vector:', magnitude(v))\n",
        "\n",
        "#normalise vector\n",
        "normalized_v = v/np.linalg.norm(v)\n",
        "print(\"Normalised Vector: \", normalized_v)\n"
      ],
      "execution_count": null,
      "outputs": [
        {
          "output_type": "stream",
          "text": [
            "Vector: [ 1.996  3.108 -4.554]\n",
            "Magnitude of the Vector: 5.863667453053592\n",
            "Normalised Vector:  [ 0.3404013   0.5300437  -0.77664704]\n"
          ],
          "name": "stdout"
        }
      ]
    },
    {
      "cell_type": "markdown",
      "metadata": {
        "id": "yxfXypW0lKBE"
      },
      "source": [
        "Normalise vector"
      ]
    },
    {
      "cell_type": "code",
      "metadata": {
        "colab": {
          "base_uri": "https://localhost:8080/"
        },
        "id": "9GBuLGBUmXz5",
        "outputId": "60e152e9-ed89-4ab5-b30f-c9df86eae71c"
      },
      "source": [
        "import numpy as np\n",
        "\n",
        "v = np.array([1.996, 3.108, -4.554])\n",
        "normalized_v = v/np.linalg.norm(v)\n",
        "print(normalized_v)"
      ],
      "execution_count": null,
      "outputs": [
        {
          "output_type": "stream",
          "text": [
            "[ 0.3404013   0.5300437  -0.77664704]\n"
          ],
          "name": "stdout"
        }
      ]
    },
    {
      "cell_type": "markdown",
      "metadata": {
        "id": "OFpF6Uu00Ajb"
      },
      "source": [
        "Code dot product"
      ]
    },
    {
      "cell_type": "code",
      "metadata": {
        "colab": {
          "base_uri": "https://localhost:8080/"
        },
        "id": "H2FJxUIv0EYs",
        "outputId": "e6032b90-ba2c-44e9-a26b-b74e8dfd3e9b"
      },
      "source": [
        "a = [-2.118, 4.827]\n",
        "b = [0, 0]\n",
        "dotproduct=0\n",
        "for a,b in zip(a,b):\n",
        "    dotproduct = dotproduct+a*b\n",
        "print('Dot product is:', dotproduct)"
      ],
      "execution_count": null,
      "outputs": [
        {
          "output_type": "stream",
          "text": [
            "Dot product is: 0.0\n"
          ],
          "name": "stdout"
        }
      ]
    },
    {
      "cell_type": "markdown",
      "metadata": {
        "id": "fyOnbHqKo0se"
      },
      "source": [
        "Another code for dot product"
      ]
    },
    {
      "cell_type": "code",
      "metadata": {
        "colab": {
          "base_uri": "https://localhost:8080/"
        },
        "id": "sjm2tu2so4tw",
        "outputId": "a16f9a20-deb0-4e06-c88a-20839a6d689f"
      },
      "source": [
        "import numpy as np\n",
        "\n",
        "a = [-7.579, -7.88]\n",
        "b = [22.737, 23.64]\n",
        "\n",
        "print(\"Dot product: \", np.dot(b, a))"
      ],
      "execution_count": null,
      "outputs": [
        {
          "output_type": "stream",
          "text": [
            "Dot product:  -358.606923\n"
          ],
          "name": "stdout"
        }
      ]
    },
    {
      "cell_type": "markdown",
      "metadata": {
        "id": "jR5Rpl2v6v5b"
      },
      "source": [
        "Angle between two vectors in Radians"
      ]
    },
    {
      "cell_type": "code",
      "metadata": {
        "colab": {
          "base_uri": "https://localhost:8080/"
        },
        "id": "yNz6-Clt65-N",
        "outputId": "42f1f813-bada-4fff-d131-1c7e4b63f218"
      },
      "source": [
        "import numpy as np\n",
        "\n",
        "vector1 = [3.183,-7.627]\n",
        "vector2 = [-2.668,5.319]\n",
        "\n",
        "unit_vector1 = vector1 / np.linalg.norm(vector1)\n",
        "unit_vector2 = vector2 / np.linalg.norm(vector2)\n",
        "\n",
        "dot_product = np.dot(unit_vector1, unit_vector2)\n",
        "\n",
        "angle = np.arccos(dot_product) #angle in radian\n",
        "print(\"Angle in radians:\", angle)"
      ],
      "execution_count": null,
      "outputs": [
        {
          "output_type": "stream",
          "text": [
            "Angle in radians: 3.0720263098372476\n"
          ],
          "name": "stdout"
        }
      ]
    },
    {
      "cell_type": "markdown",
      "metadata": {
        "id": "mINna7Lp9bde"
      },
      "source": [
        "Angle between two vectors in degrees"
      ]
    },
    {
      "cell_type": "code",
      "metadata": {
        "colab": {
          "base_uri": "https://localhost:8080/"
        },
        "id": "Fykl6tlN9jIA",
        "outputId": "7584da35-284c-4951-f079-6d7f779357cc"
      },
      "source": [
        "import numpy as np\n",
        "import math\n",
        "\n",
        "vector1 = [7.35,0.221, 5.188]\n",
        "vector2 = [2.751,8.259, 3.985]\n",
        "\n",
        "unit_vector1 = vector1 / np.linalg.norm(vector1)\n",
        "unit_vector2 = vector2 / np.linalg.norm(vector2)\n",
        "\n",
        "dot_product = np.dot(unit_vector1, unit_vector2)\n",
        "\n",
        "angle = np.arccos(dot_product) #angle in radian\n",
        "print(\"Angle in radians: \", angle)\n",
        "print(\"Angle in Degrees: \", math.degrees(angle))"
      ],
      "execution_count": null,
      "outputs": [
        {
          "output_type": "stream",
          "text": [
            "Angle in radians:  1.0520113648417708\n",
            "Angle in Degrees:  60.27581120523091\n"
          ],
          "name": "stdout"
        }
      ]
    },
    {
      "cell_type": "markdown",
      "metadata": {
        "id": "joOz9AFNaUGg"
      },
      "source": [
        "Determine if two vectors are orthogonal"
      ]
    },
    {
      "cell_type": "code",
      "metadata": {
        "colab": {
          "base_uri": "https://localhost:8080/"
        },
        "id": "8Z4wdK_AaaIB",
        "outputId": "a57ae2e5-e98b-4e91-87ad-126ab564738f"
      },
      "source": [
        "import numpy as np\n",
        "\n",
        "v1 = [[2.118, 4.827]]\n",
        "v2 = [[0, 0,]]\n",
        "\n",
        "# Transpose of v1\n",
        "transposeOfV1 = np.transpose(v1)\n",
        "\n",
        "# Matrix multiplication of both vectors\n",
        "result = np.dot(v2, transposeOfV1)\n",
        "print(\"Result  = \", result)"
      ],
      "execution_count": null,
      "outputs": [
        {
          "output_type": "stream",
          "text": [
            "Result  =  [[0.]]\n"
          ],
          "name": "stdout"
        }
      ]
    },
    {
      "cell_type": "markdown",
      "metadata": {
        "id": "wqGc6x40mCXn"
      },
      "source": [
        "Coding vector projections"
      ]
    },
    {
      "cell_type": "code",
      "metadata": {
        "colab": {
          "base_uri": "https://localhost:8080/"
        },
        "id": "SvEody3xmFc8",
        "outputId": "72354717-8bb5-4383-9eac-9f0e562c33b0"
      },
      "source": [
        "import numpy as np\n",
        "  \n",
        "u = np.array([3.009, -6.172, 3.692, -2.51])   # vector u\n",
        "v = np.array([6.404, -9.144, 2.759, 8.718])   # vector v:\n",
        "  \n",
        "# Task: Project vector u on vector v\n",
        "  \n",
        "# finding norm of the vector v\n",
        "v_norm = np.sqrt(sum(v**2))    \n",
        "  \n",
        "# Apply the formula as mentioned above\n",
        "# for projecting a vector onto another vector\n",
        "# find dot product using np.dot()\n",
        "proj_of_u_on_v = (np.dot(u, v)/v_norm**2)*v\n",
        "  \n",
        "print(\"Projection of Vector u on Vector v is: \", proj_of_u_on_v)"
      ],
      "execution_count": null,
      "outputs": [
        {
          "output_type": "stream",
          "text": [
            "Projection of Vector u on Vector v is:  [ 1.96851617 -2.81076075  0.84808496  2.67981323]\n"
          ],
          "name": "stdout"
        }
      ]
    },
    {
      "cell_type": "markdown",
      "metadata": {
        "id": "Hdne3PHQn8W7"
      },
      "source": [
        "Compute a vector onto a plane"
      ]
    },
    {
      "cell_type": "code",
      "metadata": {
        "colab": {
          "base_uri": "https://localhost:8080/"
        },
        "id": "JnjGB6w3oBJ3",
        "outputId": "84794a30-6ba2-4fa1-d4bb-406114fdd290"
      },
      "source": [
        "# import numpy to perform operations on vector\n",
        "import numpy as np\n",
        "  \n",
        "# vector u \n",
        "u = np.array([3.009, -6.172, 3.692, -2.51])       \n",
        "  \n",
        "# vector n: n is orthogonal vector to Plane P\n",
        "n = np.array([6.404, -9.144, 2.759, 8.718])       \n",
        "   \n",
        "# Task: Project vector u on Plane P\n",
        "  \n",
        "# finding norm of the vector n \n",
        "n_norm = np.sqrt(sum(n**2))    \n",
        "   \n",
        "# Apply the formula as mentioned above\n",
        "# for projecting a vector onto the orthogonal vector n\n",
        "# find dot product using np.dot()\n",
        "proj_of_u_on_n = (np.dot(u, n)/n_norm**2)*n\n",
        "  \n",
        "# subtract proj_of_u_on_n from u: \n",
        "# this is the projection of u on Plane P\n",
        "print(\"Projection of Vector u on Plane P is: \", u - proj_of_u_on_n)\n"
      ],
      "execution_count": null,
      "outputs": [
        {
          "output_type": "stream",
          "text": [
            "Projection of Vector u on Plane P is:  [ 1.04048383 -3.36123925  2.84391504 -5.18981323]\n"
          ],
          "name": "stdout"
        }
      ]
    },
    {
      "cell_type": "markdown",
      "metadata": {
        "id": "kahPIqT8n8PK"
      },
      "source": [
        "Coding cross products"
      ]
    },
    {
      "cell_type": "code",
      "metadata": {
        "colab": {
          "base_uri": "https://localhost:8080/"
        },
        "id": "XP4vwm_zKp_6",
        "outputId": "9993928e-01dd-4b49-f53d-73dbfe9a38f1"
      },
      "source": [
        "import numpy as np\n",
        "\n",
        "v = np.array([8.462, 7.893, -8.187])\n",
        "\n",
        "w = np.array([6.984, -5.975, 4.778])\n",
        "\n",
        "product = np.cross(v, w)\n",
        "print(product)"
      ],
      "execution_count": null,
      "outputs": [
        {
          "output_type": "stream",
          "text": [
            "[ -11.204571  -97.609444 -105.685162]\n"
          ],
          "name": "stdout"
        }
      ]
    },
    {
      "cell_type": "markdown",
      "metadata": {
        "id": "PaHDuqLqOei-"
      },
      "source": [
        "Area of parallelogram"
      ]
    },
    {
      "cell_type": "code",
      "metadata": {
        "colab": {
          "base_uri": "https://localhost:8080/"
        },
        "id": "SPin0hLqOiGg",
        "outputId": "53ef1251-39fe-422e-beb1-db9975271150"
      },
      "source": [
        "import numpy as np\n",
        "\n",
        "v = np.array([-8.897, -9.838, 5.031])\n",
        "\n",
        "w = ([-4.268, -1.861, -8.866])\n",
        "\n",
        "product = np.cross(v, w)\n",
        "\n",
        "area = np.linalg.norm(product)\n",
        "print(\" Area of parallelogram: \", area)"
      ],
      "execution_count": null,
      "outputs": [
        {
          "output_type": "stream",
          "text": [
            " Area of parallelogram:  141.58541061735346\n"
          ],
          "name": "stdout"
        }
      ]
    },
    {
      "cell_type": "markdown",
      "metadata": {
        "id": "O5cWgAAlVhl0"
      },
      "source": [
        "Area of triangle"
      ]
    },
    {
      "cell_type": "code",
      "metadata": {
        "colab": {
          "base_uri": "https://localhost:8080/"
        },
        "id": "sH-nPFx2VmzO",
        "outputId": "fc1dd718-c067-4d01-d24b-af179c7d4599"
      },
      "source": [
        "import numpy as np\n",
        "\n",
        "v = np.array([1.5, 9.547, 3.691])\n",
        "\n",
        "w = ([-6.007, 0.124, 5.772])\n",
        "\n",
        "product = np.cross(v, w)\n",
        "\n",
        "area = (np.linalg.norm(product)) / 2\n",
        "print(\" Area of parallelogram: \", area)"
      ],
      "execution_count": null,
      "outputs": [
        {
          "output_type": "stream",
          "text": [
            " Area of parallelogram:  42.56493739941894\n"
          ],
          "name": "stdout"
        }
      ]
    },
    {
      "cell_type": "markdown",
      "metadata": {
        "id": "dGHct9AfgqCE"
      },
      "source": [
        "Check for parallel lines"
      ]
    },
    {
      "cell_type": "code",
      "metadata": {
        "colab": {
          "base_uri": "https://localhost:8080/"
        },
        "id": "x3PNitBngtgH",
        "outputId": "5bcfddf0-748e-4988-a9ec-6911b040fcb5"
      },
      "source": [
        "def parallel_lines(line1, line2):\n",
        "  return line1[0]/line1[1] == line2[0]/line2[1]\n",
        "\n",
        "#x + y = b, x + y = b\n",
        "print(parallel_lines([4.046, 2.836, 1,21], [10.115, 7.09, 3.025]))\n",
        "#x + y = b, x - y = b\n",
        "print(parallel_lines([7.204, 3.182, 8.68], [8.17, 4.114, 9.883]))  \n",
        "#third set of vectors\n",
        "print(parallel_lines([1.182, 5.562, 6.744], [1.773, 8.343, 9.525]))"
      ],
      "execution_count": null,
      "outputs": [
        {
          "output_type": "stream",
          "text": [
            "True\n",
            "False\n",
            "True\n"
          ],
          "name": "stdout"
        }
      ]
    },
    {
      "cell_type": "markdown",
      "metadata": {
        "id": "snvK3aIRkxyF"
      },
      "source": [
        "Find intersection between two lines"
      ]
    },
    {
      "cell_type": "code",
      "metadata": {
        "colab": {
          "base_uri": "https://localhost:8080/"
        },
        "id": "hT6uJsnjnRBV",
        "outputId": "a5a2e8e7-8bb1-47e3-e60d-a20e262a139e"
      },
      "source": [
        "#ax + by = c\n",
        "a1 = 7.204\n",
        "a2 = 8.17\n",
        "\n",
        "b1 = 3.182\n",
        "b2 = 4.114\n",
        "\n",
        "c1 = 8.68\n",
        "c2 = 9.883\n",
        "\n",
        "#determinant = a1 b2 - a2 b1\n",
        "determinant = (a1 * b2) - (a2 * b1)\n",
        "\n",
        "if determinant == 0:\n",
        "  print(\"These two lines are parallel.\")\n",
        "else:\n",
        "  #x = (c1b2 - c2b1)/determinant\n",
        "  x = ((c1 * b2) - (c2 * b1)) / determinant\n",
        "  #y = (a1c2 - a2c1)/determinant\n",
        "  y = ((a1 * c2) - (a2 * c1))/ determinant\n",
        "  print(\"Point of intersection: \", x, y)"
      ],
      "execution_count": null,
      "outputs": [
        {
          "output_type": "stream",
          "text": [
            "Point of intersection:  1.1707263874894385 0.07733724215150517\n"
          ],
          "name": "stdout"
        }
      ]
    },
    {
      "cell_type": "markdown",
      "metadata": {
        "id": "LsXozAK8Q-Kq"
      },
      "source": [
        "Draw planes"
      ]
    },
    {
      "cell_type": "code",
      "metadata": {
        "colab": {
          "base_uri": "https://localhost:8080/",
          "height": 248
        },
        "id": "zoLnMaLPRAqf",
        "outputId": "3466aa47-42be-442d-972b-e223deb67d02"
      },
      "source": [
        "#a x + b y + c z + d = 0\n",
        "\n",
        "import numpy as np\n",
        "import matplotlib.pyplot as plt\n",
        "from mpl_toolkits.mplot3d import Axes3D\n",
        "\n",
        "a1,b1,c1,d1 = -0.412, 3.806, 0.728, 3.46\n",
        "a2,b2,c2,d2 = 1.03, -9.515, -1.82, -8.65\n",
        "\n",
        "x = np.linspace(-1,1,10)\n",
        "y = np.linspace(-1,1,10)\n",
        "\n",
        "X1,Y1 = np.meshgrid(x,y)\n",
        "Z1 = (d1 - a1*X1 - b1*Y1) / c1\n",
        "\n",
        "X2,Y2 = np.meshgrid(x,y)\n",
        "Z2 = (d2 - a2*X2 - b2*Y2) / c2\n",
        "\n",
        "\n",
        "fig = plt.figure()\n",
        "ax = fig.gca(projection='3d')\n",
        "\n",
        "surf1 = ax.plot_surface(X1, Y1, Z1)\n",
        "surf2 = ax.plot_surface(X2, Y2, Z2)"
      ],
      "execution_count": null,
      "outputs": [
        {
          "output_type": "display_data",
          "data": {
            "image/png": "[encoded data removed]",
            "text/plain": [
              "<Figure size 432x288 with 1 Axes>"
            ]
          },
          "metadata": {
            "tags": [],
            "needs_background": "light"
          }
        }
      ]
    },
    {
      "cell_type": "markdown",
      "metadata": {
        "id": "nP6KMSjDd0lS"
      },
      "source": [
        "Find out if planes are parallel"
      ]
    },
    {
      "cell_type": "code",
      "metadata": {
        "colab": {
          "base_uri": "https://localhost:8080/"
        },
        "id": "m8ehZyQzd58p",
        "outputId": "8adaa25f-74d2-4c5e-d414-32917d616027"
      },
      "source": [
        "#planes are either parrallel or perpendicular, otherwise they intersect at some point\n",
        "\n",
        "import numpy as np\n",
        "\n",
        "#ax + by + cz + d = 0\n",
        "\n",
        "a = ([-0.412, 3.806, 0.728, 3.46])\n",
        "b = ([1.03, -9.515, -1.82, -8.65])\n",
        "\n",
        "if (a[0]/b[0]) == (a[1]/b[1]) == (a[2]/b[2]):\n",
        "  print(\"These planes are parrallel.\")\n",
        "else: print(\"These planes are not parallel.\")\n",
        "\n",
        "#find out of two planes are equal\n",
        "a = ([-0.412, 3.806, 0.728, 3.46])\n",
        "b = ([1.03, -9.515, -1.82, -8.65])\n",
        "\n",
        "if (a[0]/b[0]) == (a[1]/b[1]) == (a[2]/b[2]) == (a[3]/b[3]):\n",
        "  print(\"These planes are equal.\")\n",
        "else: print(\"These planes are not equal.\")\n",
        "print(\" \")\n"
      ],
      "execution_count": null,
      "outputs": [
        {
          "output_type": "stream",
          "text": [
            "These planes are parrallel.\n",
            "These planes are equal.\n",
            " \n"
          ],
          "name": "stdout"
        }
      ]
    },
    {
      "cell_type": "markdown",
      "metadata": {
        "id": "oySZhm8rxDdH"
      },
      "source": [
        "Draw planes used for Gaussain elimination (3 equations)"
      ]
    },
    {
      "cell_type": "code",
      "metadata": {
        "colab": {
          "base_uri": "https://localhost:8080/",
          "height": 248
        },
        "id": "nOT6VhxSxCGI",
        "outputId": "3b70e183-3e39-4539-c165-3d5354a91eaa"
      },
      "source": [
        "#a x + b y + c z + d = 0\n",
        "\n",
        "import numpy as np\n",
        "import matplotlib.pyplot as plt\n",
        "from mpl_toolkits.mplot3d import Axes3D\n",
        "\n",
        "a = ([-1, 1, 1, -2])\n",
        "b = ([1, -4, 4, 21])\n",
        "c = ([7, -5, -11, 0])\n",
        "\n",
        "a1,b1,c1,d1 = -0.412, 3.806, 0.728, 3.46\n",
        "a2,b2,c2,d2 = 1.03, -9.515, -1.82, -8.65\n",
        "\n",
        "x = np.linspace(-1,1,10)\n",
        "y = np.linspace(-1,1,10)\n",
        "\n",
        "X1,Y1 = np.meshgrid(x,y)\n",
        "Z1 = (a[3] - a[0]*X1 - a[1]*Y1) / a[2]\n",
        "\n",
        "X2,Y2 = np.meshgrid(x,y)\n",
        "Z2 = (b[3] - b[0]*X2 - b[1]*Y2) / b[2]\n",
        "\n",
        "X3,Y3 = np.meshgrid(x,y)\n",
        "Z3 = (c[3] - c[0]*X2 - c[1]*Y2) / c[2]\n",
        "\n",
        "\n",
        "fig = plt.figure()\n",
        "ax = fig.gca(projection='3d')\n",
        "\n",
        "surf1 = ax.plot_surface(X1, Y1, Z1)\n",
        "surf2 = ax.plot_surface(X2, Y2, Z2)\n",
        "surf3 = ax.plot_surface(X3, Y3, Z3)"
      ],
      "execution_count": null,
      "outputs": [
        {
          "output_type": "display_data",
          "data": {
            "image/png": "[encoded data removed]",
            "text/plain": [
              "<Figure size 432x288 with 1 Axes>"
            ]
          },
          "metadata": {
            "tags": [],
            "needs_background": "light"
          }
        }
      ]
    },
    {
      "cell_type": "markdown",
      "metadata": {
        "id": "e4xjt97gKWuW"
      },
      "source": [
        "Gaussain Elimination Practice"
      ]
    },
    {
      "cell_type": "markdown",
      "metadata": {
        "id": "5SGuA9XcTx_G"
      },
      "source": [
        "taken from: https://programmersought.com/article/68423771443/"
      ]
    },
    {
      "cell_type": "code",
      "metadata": {
        "id": "DH_1XZVDKZ4n",
        "colab": {
          "base_uri": "https://localhost:8080/"
        },
        "outputId": "b15f11cc-9378-48cf-9960-921a14846f8e"
      },
      "source": [
        "import numpy as np\n",
        "\n",
        "#x, y, z\n",
        "a = np.matrix([[-1,1,1],[1,-4,4],[7,-5,-11]])\n",
        "\n",
        "#d\n",
        "c = np.matrix([[-2,21,0]]).T\n",
        "\n",
        "result = (a**-1 * c).T\n",
        "print(result)"
      ],
      "execution_count": null,
      "outputs": [
        {
          "output_type": "stream",
          "text": [
            "[[ 1. -3.  2.]]\n"
          ],
          "name": "stdout"
        }
      ]
    },
    {
      "cell_type": "markdown",
      "metadata": {
        "id": "aREM93JN4YHD"
      },
      "source": [
        "Gaussian elimination practice (2 equations)"
      ]
    },
    {
      "cell_type": "code",
      "metadata": {
        "colab": {
          "base_uri": "https://localhost:8080/",
          "height": 405
        },
        "id": "gXOev22v4dut",
        "outputId": "30d8ea45-29db-47ce-9a4a-3d175303c1f9"
      },
      "source": [
        "import numpy as np\n",
        "\n",
        "a = ([5.262, 2.739, -9.878, -3.441])\n",
        "b = ([5.111, 6.358, 7.638, -2.152])\n",
        "\n",
        "A = np.matrix([[a[0], a[1], a[2]], [b[0], b[1], b[2]]])\n",
        "\n",
        "C = np.matrix([[a[3], b[3]]]).T\n",
        "\n",
        "result = A**-1 * C\n",
        "print(result)"
      ],
      "execution_count": 21,
      "outputs": [
        {
          "output_type": "error",
          "ename": "LinAlgError",
          "evalue": "ignored",
          "traceback": [
            "\u001b[0;31m---------------------------------------------------------------------------\u001b[0m",
            "\u001b[0;31mLinAlgError\u001b[0m                               Traceback (most recent call last)",
            "\u001b[0;32m<ipython-input-21-8b274042e1ff>\u001b[0m in \u001b[0;36m<module>\u001b[0;34m()\u001b[0m\n\u001b[1;32m      8\u001b[0m \u001b[0mC\u001b[0m \u001b[0;34m=\u001b[0m \u001b[0mnp\u001b[0m\u001b[0;34m.\u001b[0m\u001b[0mmatrix\u001b[0m\u001b[0;34m(\u001b[0m\u001b[0;34m[\u001b[0m\u001b[0;34m[\u001b[0m\u001b[0ma\u001b[0m\u001b[0;34m[\u001b[0m\u001b[0;36m3\u001b[0m\u001b[0;34m]\u001b[0m\u001b[0;34m,\u001b[0m \u001b[0mb\u001b[0m\u001b[0;34m[\u001b[0m\u001b[0;36m3\u001b[0m\u001b[0;34m]\u001b[0m\u001b[0;34m]\u001b[0m\u001b[0;34m]\u001b[0m\u001b[0;34m)\u001b[0m\u001b[0;34m.\u001b[0m\u001b[0mT\u001b[0m\u001b[0;34m\u001b[0m\u001b[0;34m\u001b[0m\u001b[0m\n\u001b[1;32m      9\u001b[0m \u001b[0;34m\u001b[0m\u001b[0m\n\u001b[0;32m---> 10\u001b[0;31m \u001b[0mresult\u001b[0m \u001b[0;34m=\u001b[0m \u001b[0mA\u001b[0m\u001b[0;34m**\u001b[0m\u001b[0;34m-\u001b[0m\u001b[0;36m1\u001b[0m \u001b[0;34m*\u001b[0m \u001b[0mC\u001b[0m\u001b[0;34m\u001b[0m\u001b[0;34m\u001b[0m\u001b[0m\n\u001b[0m\u001b[1;32m     11\u001b[0m \u001b[0mprint\u001b[0m\u001b[0;34m(\u001b[0m\u001b[0mresult\u001b[0m\u001b[0;34m)\u001b[0m\u001b[0;34m\u001b[0m\u001b[0;34m\u001b[0m\u001b[0m\n",
            "\u001b[0;32m/usr/local/lib/python3.7/dist-packages/numpy/matrixlib/defmatrix.py\u001b[0m in \u001b[0;36m__pow__\u001b[0;34m(self, other)\u001b[0m\n\u001b[1;32m    229\u001b[0m \u001b[0;34m\u001b[0m\u001b[0m\n\u001b[1;32m    230\u001b[0m     \u001b[0;32mdef\u001b[0m \u001b[0m__pow__\u001b[0m\u001b[0;34m(\u001b[0m\u001b[0mself\u001b[0m\u001b[0;34m,\u001b[0m \u001b[0mother\u001b[0m\u001b[0;34m)\u001b[0m\u001b[0;34m:\u001b[0m\u001b[0;34m\u001b[0m\u001b[0;34m\u001b[0m\u001b[0m\n\u001b[0;32m--> 231\u001b[0;31m         \u001b[0;32mreturn\u001b[0m \u001b[0mmatrix_power\u001b[0m\u001b[0;34m(\u001b[0m\u001b[0mself\u001b[0m\u001b[0;34m,\u001b[0m \u001b[0mother\u001b[0m\u001b[0;34m)\u001b[0m\u001b[0;34m\u001b[0m\u001b[0;34m\u001b[0m\u001b[0m\n\u001b[0m\u001b[1;32m    232\u001b[0m \u001b[0;34m\u001b[0m\u001b[0m\n\u001b[1;32m    233\u001b[0m     \u001b[0;32mdef\u001b[0m \u001b[0m__ipow__\u001b[0m\u001b[0;34m(\u001b[0m\u001b[0mself\u001b[0m\u001b[0;34m,\u001b[0m \u001b[0mother\u001b[0m\u001b[0;34m)\u001b[0m\u001b[0;34m:\u001b[0m\u001b[0;34m\u001b[0m\u001b[0;34m\u001b[0m\u001b[0m\n",
            "\u001b[0;32m<__array_function__ internals>\u001b[0m in \u001b[0;36mmatrix_power\u001b[0;34m(*args, **kwargs)\u001b[0m\n",
            "\u001b[0;32m/usr/local/lib/python3.7/dist-packages/numpy/linalg/linalg.py\u001b[0m in \u001b[0;36mmatrix_power\u001b[0;34m(a, n)\u001b[0m\n\u001b[1;32m    619\u001b[0m     \u001b[0ma\u001b[0m \u001b[0;34m=\u001b[0m \u001b[0masanyarray\u001b[0m\u001b[0;34m(\u001b[0m\u001b[0ma\u001b[0m\u001b[0;34m)\u001b[0m\u001b[0;34m\u001b[0m\u001b[0;34m\u001b[0m\u001b[0m\n\u001b[1;32m    620\u001b[0m     \u001b[0m_assert_stacked_2d\u001b[0m\u001b[0;34m(\u001b[0m\u001b[0ma\u001b[0m\u001b[0;34m)\u001b[0m\u001b[0;34m\u001b[0m\u001b[0;34m\u001b[0m\u001b[0m\n\u001b[0;32m--> 621\u001b[0;31m     \u001b[0m_assert_stacked_square\u001b[0m\u001b[0;34m(\u001b[0m\u001b[0ma\u001b[0m\u001b[0;34m)\u001b[0m\u001b[0;34m\u001b[0m\u001b[0;34m\u001b[0m\u001b[0m\n\u001b[0m\u001b[1;32m    622\u001b[0m \u001b[0;34m\u001b[0m\u001b[0m\n\u001b[1;32m    623\u001b[0m     \u001b[0;32mtry\u001b[0m\u001b[0;34m:\u001b[0m\u001b[0;34m\u001b[0m\u001b[0;34m\u001b[0m\u001b[0m\n",
            "\u001b[0;32m/usr/local/lib/python3.7/dist-packages/numpy/linalg/linalg.py\u001b[0m in \u001b[0;36m_assert_stacked_square\u001b[0;34m(*arrays)\u001b[0m\n\u001b[1;32m    202\u001b[0m         \u001b[0mm\u001b[0m\u001b[0;34m,\u001b[0m \u001b[0mn\u001b[0m \u001b[0;34m=\u001b[0m \u001b[0ma\u001b[0m\u001b[0;34m.\u001b[0m\u001b[0mshape\u001b[0m\u001b[0;34m[\u001b[0m\u001b[0;34m-\u001b[0m\u001b[0;36m2\u001b[0m\u001b[0;34m:\u001b[0m\u001b[0;34m]\u001b[0m\u001b[0;34m\u001b[0m\u001b[0;34m\u001b[0m\u001b[0m\n\u001b[1;32m    203\u001b[0m         \u001b[0;32mif\u001b[0m \u001b[0mm\u001b[0m \u001b[0;34m!=\u001b[0m \u001b[0mn\u001b[0m\u001b[0;34m:\u001b[0m\u001b[0;34m\u001b[0m\u001b[0;34m\u001b[0m\u001b[0m\n\u001b[0;32m--> 204\u001b[0;31m             \u001b[0;32mraise\u001b[0m \u001b[0mLinAlgError\u001b[0m\u001b[0;34m(\u001b[0m\u001b[0;34m'Last 2 dimensions of the array must be square'\u001b[0m\u001b[0;34m)\u001b[0m\u001b[0;34m\u001b[0m\u001b[0;34m\u001b[0m\u001b[0m\n\u001b[0m\u001b[1;32m    205\u001b[0m \u001b[0;34m\u001b[0m\u001b[0m\n\u001b[1;32m    206\u001b[0m \u001b[0;32mdef\u001b[0m \u001b[0m_assert_finite\u001b[0m\u001b[0;34m(\u001b[0m\u001b[0;34m*\u001b[0m\u001b[0marrays\u001b[0m\u001b[0;34m)\u001b[0m\u001b[0;34m:\u001b[0m\u001b[0;34m\u001b[0m\u001b[0;34m\u001b[0m\u001b[0m\n",
            "\u001b[0;31mLinAlgError\u001b[0m: Last 2 dimensions of the array must be square"
          ]
        }
      ]
    },
    {
      "cell_type": "markdown",
      "metadata": {
        "id": "HZCM2xNoniJZ"
      },
      "source": [
        "Gaussian elimination practice (4 equations)"
      ]
    },
    {
      "cell_type": "code",
      "metadata": {
        "colab": {
          "base_uri": "https://localhost:8080/",
          "height": 405
        },
        "id": "pDnIOk-Znq9G",
        "outputId": "c2c27064-2f39-4338-bca4-6902738a2586"
      },
      "source": [
        "import numpy as np\n",
        "\n",
        "a = ([5.262, 2.739, -9.878, -3.441])\n",
        "b = ([5.111, 6.358, 7.638, -2.152])\n",
        "c = ([2.016, -9.924, -1.367, -9.278])\n",
        "d = ([2.167, 13.543, -18.883, -10.567])\n",
        "\n",
        "A = np.matrix([[a[0], a[1], a[2]], [b[0], b[1], b[2]], [c[0], c[1], c[2]], [d[0], d[1], d[2]]])\n",
        "\n",
        "C = np.matrix([[a[3], b[3], c[3], d[3]]]).T\n",
        "\n",
        "result = A**-1 * C\n",
        "print(result)"
      ],
      "execution_count": 18,
      "outputs": [
        {
          "output_type": "error",
          "ename": "LinAlgError",
          "evalue": "ignored",
          "traceback": [
            "\u001b[0;31m---------------------------------------------------------------------------\u001b[0m",
            "\u001b[0;31mLinAlgError\u001b[0m                               Traceback (most recent call last)",
            "\u001b[0;32m<ipython-input-18-4d4ef24052ee>\u001b[0m in \u001b[0;36m<module>\u001b[0;34m()\u001b[0m\n\u001b[1;32m     10\u001b[0m \u001b[0mC\u001b[0m \u001b[0;34m=\u001b[0m \u001b[0mnp\u001b[0m\u001b[0;34m.\u001b[0m\u001b[0mmatrix\u001b[0m\u001b[0;34m(\u001b[0m\u001b[0;34m[\u001b[0m\u001b[0;34m[\u001b[0m\u001b[0ma\u001b[0m\u001b[0;34m[\u001b[0m\u001b[0;36m3\u001b[0m\u001b[0;34m]\u001b[0m\u001b[0;34m,\u001b[0m \u001b[0mb\u001b[0m\u001b[0;34m[\u001b[0m\u001b[0;36m3\u001b[0m\u001b[0;34m]\u001b[0m\u001b[0;34m,\u001b[0m \u001b[0mc\u001b[0m\u001b[0;34m[\u001b[0m\u001b[0;36m3\u001b[0m\u001b[0;34m]\u001b[0m\u001b[0;34m,\u001b[0m \u001b[0md\u001b[0m\u001b[0;34m[\u001b[0m\u001b[0;36m3\u001b[0m\u001b[0;34m]\u001b[0m\u001b[0;34m]\u001b[0m\u001b[0;34m]\u001b[0m\u001b[0;34m)\u001b[0m\u001b[0;34m.\u001b[0m\u001b[0mT\u001b[0m\u001b[0;34m\u001b[0m\u001b[0;34m\u001b[0m\u001b[0m\n\u001b[1;32m     11\u001b[0m \u001b[0;34m\u001b[0m\u001b[0m\n\u001b[0;32m---> 12\u001b[0;31m \u001b[0mresult\u001b[0m \u001b[0;34m=\u001b[0m \u001b[0mA\u001b[0m\u001b[0;34m**\u001b[0m\u001b[0;34m-\u001b[0m\u001b[0;36m1\u001b[0m \u001b[0;34m*\u001b[0m \u001b[0mC\u001b[0m\u001b[0;34m\u001b[0m\u001b[0;34m\u001b[0m\u001b[0m\n\u001b[0m\u001b[1;32m     13\u001b[0m \u001b[0mprint\u001b[0m\u001b[0;34m(\u001b[0m\u001b[0mresult\u001b[0m\u001b[0;34m)\u001b[0m\u001b[0;34m\u001b[0m\u001b[0;34m\u001b[0m\u001b[0m\n",
            "\u001b[0;32m/usr/local/lib/python3.7/dist-packages/numpy/matrixlib/defmatrix.py\u001b[0m in \u001b[0;36m__pow__\u001b[0;34m(self, other)\u001b[0m\n\u001b[1;32m    229\u001b[0m \u001b[0;34m\u001b[0m\u001b[0m\n\u001b[1;32m    230\u001b[0m     \u001b[0;32mdef\u001b[0m \u001b[0m__pow__\u001b[0m\u001b[0;34m(\u001b[0m\u001b[0mself\u001b[0m\u001b[0;34m,\u001b[0m \u001b[0mother\u001b[0m\u001b[0;34m)\u001b[0m\u001b[0;34m:\u001b[0m\u001b[0;34m\u001b[0m\u001b[0;34m\u001b[0m\u001b[0m\n\u001b[0;32m--> 231\u001b[0;31m         \u001b[0;32mreturn\u001b[0m \u001b[0mmatrix_power\u001b[0m\u001b[0;34m(\u001b[0m\u001b[0mself\u001b[0m\u001b[0;34m,\u001b[0m \u001b[0mother\u001b[0m\u001b[0;34m)\u001b[0m\u001b[0;34m\u001b[0m\u001b[0;34m\u001b[0m\u001b[0m\n\u001b[0m\u001b[1;32m    232\u001b[0m \u001b[0;34m\u001b[0m\u001b[0m\n\u001b[1;32m    233\u001b[0m     \u001b[0;32mdef\u001b[0m \u001b[0m__ipow__\u001b[0m\u001b[0;34m(\u001b[0m\u001b[0mself\u001b[0m\u001b[0;34m,\u001b[0m \u001b[0mother\u001b[0m\u001b[0;34m)\u001b[0m\u001b[0;34m:\u001b[0m\u001b[0;34m\u001b[0m\u001b[0;34m\u001b[0m\u001b[0m\n",
            "\u001b[0;32m<__array_function__ internals>\u001b[0m in \u001b[0;36mmatrix_power\u001b[0;34m(*args, **kwargs)\u001b[0m\n",
            "\u001b[0;32m/usr/local/lib/python3.7/dist-packages/numpy/linalg/linalg.py\u001b[0m in \u001b[0;36mmatrix_power\u001b[0;34m(a, n)\u001b[0m\n\u001b[1;32m    619\u001b[0m     \u001b[0ma\u001b[0m \u001b[0;34m=\u001b[0m \u001b[0masanyarray\u001b[0m\u001b[0;34m(\u001b[0m\u001b[0ma\u001b[0m\u001b[0;34m)\u001b[0m\u001b[0;34m\u001b[0m\u001b[0;34m\u001b[0m\u001b[0m\n\u001b[1;32m    620\u001b[0m     \u001b[0m_assert_stacked_2d\u001b[0m\u001b[0;34m(\u001b[0m\u001b[0ma\u001b[0m\u001b[0;34m)\u001b[0m\u001b[0;34m\u001b[0m\u001b[0;34m\u001b[0m\u001b[0m\n\u001b[0;32m--> 621\u001b[0;31m     \u001b[0m_assert_stacked_square\u001b[0m\u001b[0;34m(\u001b[0m\u001b[0ma\u001b[0m\u001b[0;34m)\u001b[0m\u001b[0;34m\u001b[0m\u001b[0;34m\u001b[0m\u001b[0m\n\u001b[0m\u001b[1;32m    622\u001b[0m \u001b[0;34m\u001b[0m\u001b[0m\n\u001b[1;32m    623\u001b[0m     \u001b[0;32mtry\u001b[0m\u001b[0;34m:\u001b[0m\u001b[0;34m\u001b[0m\u001b[0;34m\u001b[0m\u001b[0m\n",
            "\u001b[0;32m/usr/local/lib/python3.7/dist-packages/numpy/linalg/linalg.py\u001b[0m in \u001b[0;36m_assert_stacked_square\u001b[0;34m(*arrays)\u001b[0m\n\u001b[1;32m    202\u001b[0m         \u001b[0mm\u001b[0m\u001b[0;34m,\u001b[0m \u001b[0mn\u001b[0m \u001b[0;34m=\u001b[0m \u001b[0ma\u001b[0m\u001b[0;34m.\u001b[0m\u001b[0mshape\u001b[0m\u001b[0;34m[\u001b[0m\u001b[0;34m-\u001b[0m\u001b[0;36m2\u001b[0m\u001b[0;34m:\u001b[0m\u001b[0;34m]\u001b[0m\u001b[0;34m\u001b[0m\u001b[0;34m\u001b[0m\u001b[0m\n\u001b[1;32m    203\u001b[0m         \u001b[0;32mif\u001b[0m \u001b[0mm\u001b[0m \u001b[0;34m!=\u001b[0m \u001b[0mn\u001b[0m\u001b[0;34m:\u001b[0m\u001b[0;34m\u001b[0m\u001b[0;34m\u001b[0m\u001b[0m\n\u001b[0;32m--> 204\u001b[0;31m             \u001b[0;32mraise\u001b[0m \u001b[0mLinAlgError\u001b[0m\u001b[0;34m(\u001b[0m\u001b[0;34m'Last 2 dimensions of the array must be square'\u001b[0m\u001b[0;34m)\u001b[0m\u001b[0;34m\u001b[0m\u001b[0;34m\u001b[0m\u001b[0m\n\u001b[0m\u001b[1;32m    205\u001b[0m \u001b[0;34m\u001b[0m\u001b[0m\n\u001b[1;32m    206\u001b[0m \u001b[0;32mdef\u001b[0m \u001b[0m_assert_finite\u001b[0m\u001b[0;34m(\u001b[0m\u001b[0;34m*\u001b[0m\u001b[0marrays\u001b[0m\u001b[0;34m)\u001b[0m\u001b[0;34m:\u001b[0m\u001b[0;34m\u001b[0m\u001b[0;34m\u001b[0m\u001b[0m\n",
            "\u001b[0;31mLinAlgError\u001b[0m: Last 2 dimensions of the array must be square"
          ]
        }
      ]
    },
    {
      "cell_type": "markdown",
      "metadata": {
        "id": "wRIHzZB50Y1X"
      },
      "source": [
        "Gaussain elimination practice (another way) 3 equations"
      ]
    },
    {
      "cell_type": "code",
      "metadata": {
        "colab": {
          "base_uri": "https://localhost:8080/"
        },
        "id": "GEdncyir0URV",
        "outputId": "f04f1513-2aed-45dc-d0e2-ba45359c8a96"
      },
      "source": [
        "import numpy as np\n",
        "\n",
        "a = ([8.631, 5.112, -1.816, -5.113])\n",
        "b = ([4.315, 11.132, -5.27, 6.775])\n",
        "c = ([-2.158, 3.01, -1.727, -0.831])\n",
        "\n",
        "A = np.matrix([[a[0], a[1], a[2]], [b[0], b[1], b[2]], [c[0], c[1], c[2]]])\n",
        "\n",
        "C = np.matrix([[a[3], b[3], c[3]]]).T\n",
        "\n",
        "result = A**-1 * C\n",
        "print(result)"
      ],
      "execution_count": 8,
      "outputs": [
        {
          "output_type": "stream",
          "text": [
            "[[-9.23950575e+14]\n",
            " [ 5.17302034e+15]\n",
            " [ 1.01706292e+16]]\n"
          ],
          "name": "stdout"
        }
      ]
    },
    {
      "cell_type": "markdown",
      "metadata": {
        "id": "xvUS5vnA0HDj"
      },
      "source": [
        "Plot planes "
      ]
    },
    {
      "cell_type": "code",
      "metadata": {
        "colab": {
          "base_uri": "https://localhost:8080/",
          "height": 248
        },
        "id": "7JiCzc050Fb9",
        "outputId": "57b97de0-5919-4e03-9ef5-aaaf8266974a"
      },
      "source": [
        "#a x + b y + c z + d = 0\n",
        "\n",
        "import numpy as np\n",
        "import matplotlib.pyplot as plt\n",
        "from mpl_toolkits.mplot3d import Axes3D\n",
        "\n",
        "a = ([0, 1, -1, 2])\n",
        "b = ([1, -1, 1, 2])\n",
        "c = ([3, -4, 1, 1])\n",
        "\n",
        "x = np.linspace(-1,1,10)\n",
        "y = np.linspace(-1,1,10)\n",
        "\n",
        "X1,Y1 = np.meshgrid(x,y)\n",
        "Z1 = (a[3] - a[0]*X1 - a[1]*Y1) / a[2]\n",
        "\n",
        "X2,Y2 = np.meshgrid(x,y)\n",
        "Z2 = (b[3] - b[0]*X2 - b[1]*Y2) / b[2]\n",
        "\n",
        "X3,Y3 = np.meshgrid(x,y)\n",
        "Z3 = (c[3] - c[0]*X2 - c[1]*Y2) / c[2]\n",
        "\n",
        "\n",
        "fig = plt.figure()\n",
        "ax = fig.gca(projection='3d')\n",
        "\n",
        "surf1 = ax.plot_surface(X1, Y1, Z1)\n",
        "surf2 = ax.plot_surface(X2, Y2, Z2)\n",
        "surf3 = ax.plot_surface(X3, Y3, Z3)"
      ],
      "execution_count": 15,
      "outputs": [
        {
          "output_type": "display_data",
          "data": {
            "image/png": "[encoded data removed]",
            "text/plain": [
              "<Figure size 432x288 with 1 Axes>"
            ]
          },
          "metadata": {
            "tags": [],
            "needs_background": "light"
          }
        }
      ]
    },
    {
      "cell_type": "markdown",
      "metadata": {
        "id": "WA_atfDPrulO"
      },
      "source": [
        "Plot planes (4 equations)"
      ]
    },
    {
      "cell_type": "code",
      "metadata": {
        "colab": {
          "base_uri": "https://localhost:8080/",
          "height": 248
        },
        "id": "7tHnZ3Cpr4K3",
        "outputId": "871dc73a-a427-40db-edf0-c77a050eb4d0"
      },
      "source": [
        "#a x + b y + c z + d = 0\n",
        "\n",
        "import numpy as np\n",
        "import matplotlib.pyplot as plt\n",
        "from mpl_toolkits.mplot3d import Axes3D\n",
        "\n",
        "a = ([5.262, 2.739, -9.878, -3.441])\n",
        "b = ([5.111, 6.358, 7.638, -2.152])\n",
        "c = ([2.016, -9.924, -1.367, -9.278])\n",
        "d = ([2.167, 13.543, -18.883, -10.567])\n",
        "\n",
        "x = np.linspace(-1,1,10)\n",
        "y = np.linspace(-1,1,10)\n",
        "\n",
        "X1,Y1 = np.meshgrid(x,y)\n",
        "Z1 = (a[3] - a[0]*X1 - a[1]*Y1) / a[2]\n",
        "\n",
        "X2,Y2 = np.meshgrid(x,y)\n",
        "Z2 = (b[3] - b[0]*X2 - b[1]*Y2) / b[2]\n",
        "\n",
        "X3,Y3 = np.meshgrid(x,y)\n",
        "Z3 = (c[3] - c[0]*X2 - c[1]*Y2) / c[2]\n",
        "\n",
        "X4,Y4 = np.meshgrid(x,y)\n",
        "Z4 = (d[3] - d[0]*X2 - d[1]*Y2) / d[2]\n",
        "\n",
        "\n",
        "fig = plt.figure()\n",
        "ax = fig.gca(projection='3d')\n",
        "\n",
        "surf1 = ax.plot_surface(X1, Y1, Z1)\n",
        "surf2 = ax.plot_surface(X2, Y2, Z2)\n",
        "surf3 = ax.plot_surface(X3, Y3, Z3)\n",
        "surf4 = ax.plot_surface(X4, Y4, Z4)"
      ],
      "execution_count": 19,
      "outputs": [
        {
          "output_type": "display_data",
          "data": {
            "image/png": "[encoded data removed]",
            "text/plain": [
              "<Figure size 432x288 with 1 Axes>"
            ]
          },
          "metadata": {
            "tags": [],
            "needs_background": "light"
          }
        }
      ]
    },
    {
      "cell_type": "markdown",
      "metadata": {
        "id": "MIaSl6aPHDFq"
      },
      "source": [
        "Solve a linear system of equations with numpy and scipy (2 equations)"
      ]
    },
    {
      "cell_type": "code",
      "metadata": {
        "colab": {
          "base_uri": "https://localhost:8080/"
        },
        "id": "nMGBmnVrHMXv",
        "outputId": "ce7320fe-5008-428e-ecb4-1deda6863888"
      },
      "source": [
        "#ax + by + cz = d\n",
        "\n",
        "import numpy as np\n",
        "from scipy import linalg\n",
        "\n",
        "A = np.array([[0.786, 0.786,  0.588], [-0.138, -0.138, 0.244]], float)\n",
        "A.resize(3 * 3)\n",
        "#A.reshape(3, 3)\n",
        "A = np.reshape(A, (3, 3))\n",
        "\n",
        "print(A)\n",
        "\n",
        "B = np.array([[0.714, 0.319]], float)\n",
        "B.resize(1 * 3)\n",
        "#B.reshape(1, 3)\n",
        "B = np.reshape(B, (1, 3))\n",
        "B = B.T\n",
        "\n",
        "print(B)\n",
        "\n",
        "X = np.linalg.lstsq(A, B, rcond=None)[0]\n",
        "print(X)\n",
        "\n",
        "#X = linalg.solve(A, B)\n",
        "#print(X)\n"
      ],
      "execution_count": 48,
      "outputs": [
        {
          "output_type": "stream",
          "text": [
            "[[ 0.786  0.786  0.588]\n",
            " [-0.138 -0.138  0.244]\n",
            " [ 0.     0.     0.   ]]\n",
            "[[0.714]\n",
            " [0.319]\n",
            " [0.   ]]\n",
            "[[-0.02446799]\n",
            " [-0.02446799]\n",
            " [ 1.27970014]]\n"
          ],
          "name": "stdout"
        }
      ]
    },
    {
      "cell_type": "markdown",
      "metadata": {
        "id": "0cYX11LlQDhU"
      },
      "source": [
        "Solve linear equations with numpy and scipy"
      ]
    },
    {
      "cell_type": "code",
      "metadata": {
        "colab": {
          "base_uri": "https://localhost:8080/"
        },
        "id": "Gk8qXyZfQKf7",
        "outputId": "4511de7a-c4b6-401f-aac1-446e6699a208"
      },
      "source": [
        "#ax + by + cz = d\n",
        "#equation taken from wikipedia\n",
        "\n",
        "import numpy as np\n",
        "from scipy import linalg\n",
        "\n",
        "A = np.array([[8.631, 5.112, -1.816], [4.315, 11.132, -5.27], [-2.158, 3.01, -1.27]])\n",
        "\n",
        "print(A)\n",
        "\n",
        "B = np.array([[-5.113, -6.775, -0.831]])\n",
        "B = B.T\n",
        "\n",
        "print(B)\n",
        "\n",
        "X = linalg.solve(A, B)\n",
        "print(X)\n"
      ],
      "execution_count": 49,
      "outputs": [
        {
          "output_type": "stream",
          "text": [
            "[[ 8.631  5.112 -1.816]\n",
            " [ 4.315 11.132 -5.27 ]\n",
            " [-2.158  3.01  -1.27 ]]\n",
            "[[-5.113]\n",
            " [-6.775]\n",
            " [-0.831]]\n",
            "[[-0.30104715]\n",
            " [-0.49191354]\n",
            " [ 0.        ]]\n"
          ],
          "name": "stdout"
        }
      ]
    },
    {
      "cell_type": "markdown",
      "metadata": {
        "id": "7krmxn_5R4Gv"
      },
      "source": [
        "Solve equation with numpy and scipy (4 equations)"
      ]
    },
    {
      "cell_type": "code",
      "metadata": {
        "colab": {
          "base_uri": "https://localhost:8080/"
        },
        "id": "TAbxLpfsR8X3",
        "outputId": "e28e790b-3f43-4aa4-bc1a-dd1a84654f12"
      },
      "source": [
        "#ax + by + cz = d\n",
        "\n",
        "import numpy as np\n",
        "from scipy import linalg\n",
        "\n",
        "A = np.array([[0.935, 1.76,  -9.365], [0.187, 0.352, -1.873], [0.374, 0.704, -3.746], [-0.561, -1.056, 5.619]], float)\n",
        "A.resize(4 * 4)\n",
        "A = np.reshape(A, (4, 4))\n",
        "\n",
        "print(A)\n",
        "\n",
        "B = np.array([[-9.955, -1.991, -3.982, 5.973]], float)\n",
        "B.resize(1 * 4)\n",
        "B = np.reshape(B, (1, 4))\n",
        "B = B.T\n",
        "\n",
        "print(B)\n",
        "\n",
        "X = np.linalg.lstsq(A, B, rcond=None)[0]\n",
        "print(X)\n",
        "\n",
        "#X = linalg.solve(A, B)\n",
        "#print(X)\n"
      ],
      "execution_count": 51,
      "outputs": [
        {
          "output_type": "stream",
          "text": [
            "[[ 0.935  1.76  -9.365  0.187]\n",
            " [ 0.352 -1.873  0.374  0.704]\n",
            " [-3.746 -0.561 -1.056  5.619]\n",
            " [ 0.     0.     0.     0.   ]]\n",
            "[[-9.955]\n",
            " [-1.991]\n",
            " [-3.982]\n",
            " [ 5.973]]\n",
            "[[-0.32748067]\n",
            " [ 1.01825424]\n",
            " [ 1.20972894]\n",
            " [-0.59797619]]\n"
          ],
          "name": "stdout"
        }
      ]
    },
    {
      "cell_type": "markdown",
      "metadata": {
        "id": "LyM1DVaHcDNG"
      },
      "source": [
        "Vectors in Python Exercise"
      ]
    },
    {
      "cell_type": "code",
      "metadata": {
        "colab": {
          "base_uri": "https://localhost:8080/"
        },
        "id": "DUMOjKWjcHyU",
        "outputId": "b36ab6a0-ef59-44d3-f7b6-efcf8a438f41"
      },
      "source": [
        "import numpy as np\n",
        "\n",
        "#create x0\n",
        "x0 = [5, 2, 10, 0]\n",
        "\n",
        "#assert statement\n",
        "assert x0 == [5, 2, 10, 0]\n",
        "\n",
        "#xdelta\n",
        "xdelta = [3, 5, 2, 5]\n",
        "\n",
        "#assert statement\n",
        "assert xdelta == [3, 5, 2, 5]\n",
        "\n",
        "#another way to add vectors\n",
        "print(np.add(x0, xdelta))"
      ],
      "execution_count": 28,
      "outputs": [
        {
          "output_type": "stream",
          "text": [
            "[ 8  7 12  5]\n"
          ],
          "name": "stdout"
        }
      ]
    },
    {
      "cell_type": "code",
      "metadata": {
        "colab": {
          "base_uri": "https://localhost:8080/"
        },
        "id": "iGocjqMidG6N",
        "outputId": "e90bdf63-22da-4aff-e229-156285be978d"
      },
      "source": [
        "#add the contents of x0 to xdelta using for loop\n",
        "\n",
        "x1 = []\n",
        "\n",
        "for x in range(len(x0)):\n",
        "  addx = 0\n",
        "  addx = x0[x] + xdelta[x]\n",
        "  x1.append(addx)\n",
        "print(x1)\n",
        "\n",
        "#assert statement\n",
        "assert x1 == [8, 7, 12, 5]"
      ],
      "execution_count": 7,
      "outputs": [
        {
          "output_type": "stream",
          "text": [
            "[8, 7, 12, 5]\n"
          ],
          "name": "stdout"
        }
      ]
    },
    {
      "cell_type": "code",
      "metadata": {
        "colab": {
          "base_uri": "https://localhost:8080/"
        },
        "id": "3ZGA-xdseHOq",
        "outputId": "836186b4-e350-46ee-f340-a4327d5479f0"
      },
      "source": [
        "#convert meters to feet\n",
        "meters_to_feet = 1.0 / 0.3048\n",
        "\n",
        "x1feet = []\n",
        "for x in range(len(x1)):\n",
        "  multx = 0\n",
        "  multx = meters_to_feet * x1[x]\n",
        "  x1feet.append(multx)\n",
        "print(x1feet)"
      ],
      "execution_count": 29,
      "outputs": [
        {
          "output_type": "stream",
          "text": [
            "[26.246719160104984, 22.96587926509186, 39.370078740157474, 16.404199475065614]\n"
          ],
          "name": "stdout"
        }
      ]
    },
    {
      "cell_type": "code",
      "metadata": {
        "colab": {
          "base_uri": "https://localhost:8080/"
        },
        "id": "zaLHmcf0f_Kb",
        "outputId": "223f6bbd-6cc3-4b92-d640-47ce18fe9ca0"
      },
      "source": [
        "#dot product\n",
        "x2 = ((np.dot(x1,  [1, 0, 2, 0]), (np.dot(x1, [0, 1, 0, 2])), 12, 5))\n",
        "print(x2)"
      ],
      "execution_count": 23,
      "outputs": [
        {
          "output_type": "stream",
          "text": [
            "(32, 17, 12, 5)\n"
          ],
          "name": "stdout"
        }
      ]
    },
    {
      "cell_type": "markdown",
      "metadata": {
        "id": "Y0n8pPWd2b11"
      },
      "source": [
        "Find dot product"
      ]
    },
    {
      "cell_type": "code",
      "metadata": {
        "colab": {
          "base_uri": "https://localhost:8080/"
        },
        "id": "YDaTGdVI2eNl",
        "outputId": "5d7512cf-5f9b-42f1-e762-45d90247b3a2"
      },
      "source": [
        "import numpy as np\n",
        "\n",
        "a = [3,2,4]\n",
        "b = [2,5,9]\n",
        "\n",
        "print(np.dot(a, b))"
      ],
      "execution_count": 44,
      "outputs": [
        {
          "output_type": "stream",
          "text": [
            "52\n"
          ],
          "name": "stdout"
        }
      ]
    },
    {
      "cell_type": "code",
      "metadata": {
        "colab": {
          "base_uri": "https://localhost:8080/"
        },
        "id": "xiXxWMjD279i",
        "outputId": "9ed6bfee-e701-43e3-fb16-1b6f024799a4"
      },
      "source": [
        "#another way to compute dot product\n",
        "\n",
        "a = [3,2,4]\n",
        "b = [2,5,9]\n",
        "\n",
        "def dot_product(a, b):\n",
        "    if len(a) != len(b):\n",
        "        print(\"Error! Vectors must have the same length!\")\n",
        "        return None\n",
        "    \n",
        "    n = len(a)\n",
        "\n",
        "    total = 0\n",
        "    \n",
        "    for i in range(n): \n",
        "        a_i = a[i]\n",
        "        b_i = b[i]\n",
        "        total = total + a_i * b_i\n",
        "        \n",
        "    return total\n",
        "\n",
        "    \n",
        "a_dot_b = dot_product(a,b)\n",
        "print(a_dot_b)\n"
      ],
      "execution_count": 45,
      "outputs": [
        {
          "output_type": "stream",
          "text": [
            "52\n"
          ],
          "name": "stdout"
        }
      ]
    },
    {
      "cell_type": "markdown",
      "metadata": {
        "id": "m31uUFn5bMLn"
      },
      "source": [
        "Multiply each cell in a matrix by 5"
      ]
    },
    {
      "cell_type": "code",
      "metadata": {
        "colab": {
          "base_uri": "https://localhost:8080/"
        },
        "id": "gI20GeDOsbAD",
        "outputId": "7e9b8e3c-51bf-4de7-9fa2-4ea8e9ac685f"
      },
      "source": [
        "import numpy as np\n",
        "\n",
        "m = [[8, 7, 1, 2, 3], [1, 5, 2, 9, 0], [8, 2, 2, 4, 1]]\n",
        "\n",
        "r = []\n",
        "\n",
        "for row in range(np.shape(m)[0]):\n",
        "    for column in range(np.shape(m)[1]):\n",
        "        mult_sc = 5 * m[row][column]\n",
        "        r.append(mult_sc)     \n",
        "print(r)"
      ],
      "execution_count": 1,
      "outputs": [
        {
          "output_type": "stream",
          "text": [
            "[40, 35, 5, 10, 15, 5, 25, 10, 45, 0, 40, 10, 10, 20, 5]\n"
          ],
          "name": "stdout"
        }
      ]
    },
    {
      "cell_type": "markdown",
      "metadata": {
        "id": "rczOrjrP4lqn"
      },
      "source": [
        "Create function to print matrix as a string"
      ]
    },
    {
      "cell_type": "code",
      "metadata": {
        "colab": {
          "base_uri": "https://localhost:8080/"
        },
        "id": "BBa0AA0ybPpY",
        "outputId": "628652df-9056-4257-9aed-008094494d95"
      },
      "source": [
        "import numpy as np\n",
        "\n",
        "def matrix_print(matrix):\n",
        "    row_list = \" \"\n",
        "    for row in range(np.shape(matrix)[0]):\n",
        "        for cell in range(np.shape(matrix)[1]):\n",
        "            cell_list = str(matrix[row][cell])\n",
        "            row_list = row_list + \" \" + cell_list\n",
        "        print(row_list)\n",
        "        row_list= \" \"\n",
        "    return\n",
        "\n",
        "\n",
        "m = [\n",
        "    [8, 7, 1, 2, 3],\n",
        "    [1, 5, 2, 9, 5],\n",
        "    [8, 2, 2, 4, 1]\n",
        "]\n",
        "\n",
        "matrix_print(m)"
      ],
      "execution_count": 3,
      "outputs": [
        {
          "output_type": "stream",
          "text": [
            "  8 7 1 2 3\n",
            "  1 5 2 9 5\n",
            "  8 2 2 4 1\n"
          ],
          "name": "stdout"
        }
      ]
    },
    {
      "cell_type": "markdown",
      "metadata": {
        "id": "qeRVdyce-syj"
      },
      "source": [
        "Add two matrices together"
      ]
    },
    {
      "cell_type": "code",
      "metadata": {
        "colab": {
          "base_uri": "https://localhost:8080/"
        },
        "id": "VbmsOgiX-xbX",
        "outputId": "c416287b-de38-4c39-babc-6ffcc68db245"
      },
      "source": [
        "import numpy as np\n",
        "\n",
        "def matrix_addition(matrixA, matrixB):\n",
        "\n",
        "    matrixSum = []\n",
        "    row = []\n",
        "  \n",
        "    for rows in range(np.shape(matrixA)[0]):\n",
        "        for cell in range(np.shape(matrixA)[1]):\n",
        "            cell_sum = matrixA[rows][cell] + matrixB[rows][cell]\n",
        "            row.append(cell_sum)\n",
        "        print(row)\n",
        "        matrixSum.append(row)\n",
        "        row = []\n",
        "    \n",
        "    return matrixSum\n",
        "\n",
        "A = [\n",
        "    [2,5,1], \n",
        "    [6,9,7.4], \n",
        "    [2,1,1], \n",
        "    [8,5,3], \n",
        "    [2,1,6], \n",
        "    [5,3,1]\n",
        "]\n",
        "\n",
        "B = [\n",
        "    [7, 19, 5.1], \n",
        "    [6.5,9.2,7.4], \n",
        "    [2.8,1.5,12], \n",
        "    [8,5,3], \n",
        "    [2,1,6], \n",
        "    [2,33,1]\n",
        "]\n",
        "\n",
        "matrix_addition(A, B)"
      ],
      "execution_count": 9,
      "outputs": [
        {
          "output_type": "stream",
          "text": [
            "[9, 24, 6.1]\n",
            "[12.5, 18.2, 14.8]\n",
            "[4.8, 2.5, 13]\n",
            "[16, 10, 6]\n",
            "[4, 2, 12]\n",
            "[7, 36, 2]\n"
          ],
          "name": "stdout"
        },
        {
          "output_type": "execute_result",
          "data": {
            "text/plain": [
              "[[9, 24, 6.1],\n",
              " [12.5, 18.2, 14.8],\n",
              " [4.8, 2.5, 13],\n",
              " [16, 10, 6],\n",
              " [4, 2, 12],\n",
              " [7, 36, 2]]"
            ]
          },
          "metadata": {
            "tags": []
          },
          "execution_count": 9
        }
      ]
    },
    {
      "cell_type": "markdown",
      "metadata": {
        "id": "nXiqlvNmARYy"
      },
      "source": [
        "An easier way to add matrices"
      ]
    },
    {
      "cell_type": "code",
      "metadata": {
        "colab": {
          "base_uri": "https://localhost:8080/"
        },
        "id": "M60mZieEAVz4",
        "outputId": "7032d39f-8ce2-46da-903c-c847f56c0550"
      },
      "source": [
        "import numpy as np\n",
        "\n",
        "A = [\n",
        "    [2,5,1], \n",
        "    [6,9,7.4], \n",
        "    [2,1,1], \n",
        "    [8,5,3], \n",
        "    [2,1,6], \n",
        "    [5,3,1]\n",
        "]\n",
        "\n",
        "B = [\n",
        "    [7, 19, 5.1], \n",
        "    [6.5,9.2,7.4], \n",
        "    [2.8,1.5,12], \n",
        "    [8,5,3], \n",
        "    [2,1,6], \n",
        "    [2,33,1]\n",
        "]\n",
        "\n",
        "print(np.add(A, B))\n",
        "\n"
      ],
      "execution_count": 10,
      "outputs": [
        {
          "output_type": "stream",
          "text": [
            "[[ 9.  24.   6.1]\n",
            " [12.5 18.2 14.8]\n",
            " [ 4.8  2.5 13. ]\n",
            " [16.  10.   6. ]\n",
            " [ 4.   2.  12. ]\n",
            " [ 7.  36.   2. ]]\n"
          ],
          "name": "stdout"
        }
      ]
    },
    {
      "cell_type": "markdown",
      "metadata": {
        "id": "xvcBIh6zFREO"
      },
      "source": [
        "How to multiply two matrices\n",
        "taken from:- https://www.programiz.com/python-programming/examples/multiply-matrix"
      ]
    },
    {
      "cell_type": "code",
      "metadata": {
        "colab": {
          "base_uri": "https://localhost:8080/"
        },
        "id": "eUREsoLcFVKW",
        "outputId": "72270b7d-cb96-4614-b150-95cf1d18aee3"
      },
      "source": [
        "import numpy as np\n",
        "\n",
        "\n",
        "mat1 = []\n",
        "mat2 = []\n",
        "result = []\n",
        "\n",
        "A = ([\n",
        "      [1, 2, 3],\n",
        "      [4, 5, 6],\n",
        "      [7, 8, 9],\n",
        "])\n",
        "\n",
        "B = ([\n",
        "      [9, 8, 7],\n",
        "      [6, 5, 4],\n",
        "     [3, 2, 1],\n",
        "     ])\n",
        "\n",
        "# result is 3x3\n",
        "result = [[0,0,0],\n",
        "         [0,0,0],\n",
        "         [0,0,0]]\n",
        "\n",
        "# iterate through rows of A\n",
        "for i in range(len(A)):\n",
        "   # iterate through columns of B\n",
        "   for j in range(len(B[0])):\n",
        "       # iterate through rows of B\n",
        "       for k in range(len(B)):\n",
        "           result[i][j] = result[i][j] + A[i][k] * B[k][j]\n",
        "\n",
        "for r in result:\n",
        "   print(r)"
      ],
      "execution_count": 3,
      "outputs": [
        {
          "output_type": "stream",
          "text": [
            "[30, 24, 18]\n",
            "[84, 69, 54]\n",
            "[138, 114, 90]\n"
          ],
          "name": "stdout"
        }
      ]
    },
    {
      "cell_type": "markdown",
      "metadata": {
        "id": "CTxBDAaaHCtC"
      },
      "source": [
        "An easy way to multiply matrices"
      ]
    },
    {
      "cell_type": "code",
      "metadata": {
        "colab": {
          "base_uri": "https://localhost:8080/"
        },
        "id": "0wO-f-2IHIJw",
        "outputId": "a8c1466e-f30e-443a-84ba-1770e0960822"
      },
      "source": [
        "A = ([\n",
        "      [1, 2, 3, 4],\n",
        "      [2, 3, 4, 5],\n",
        "      [3, 4, 5, 6],\n",
        "      [4, 5, 6, 7]])\n",
        "\n",
        "B = ([\n",
        "      [4, 3, 2, 1],\n",
        "      [5, 4, 3, 2],\n",
        "      [6, 5, 4, 3],\n",
        "      [7, 6, 5, 4]\n",
        "])\n",
        "\n",
        "print(np.dot(A, B))"
      ],
      "execution_count": 12,
      "outputs": [
        {
          "output_type": "stream",
          "text": [
            "[[ 60  50  40  30]\n",
            " [ 82  68  54  40]\n",
            " [104  86  68  50]\n",
            " [126 104  82  60]]\n"
          ],
          "name": "stdout"
        }
      ]
    },
    {
      "cell_type": "code",
      "metadata": {
        "colab": {
          "base_uri": "https://localhost:8080/"
        },
        "id": "FmctjjmTTYud",
        "outputId": "3d57062b-a4f2-4788-d83b-ffd05f12028e"
      },
      "source": [
        "import numpy as np\n",
        "\n",
        "A = ([\n",
        "      [1, 2, 3],\n",
        "      [4, 5, 6],\n",
        "      [7, 8, 9],\n",
        "])\n",
        "\n",
        "B = ([\n",
        "      [9, 8, 7],\n",
        "      [6, 5, 4],\n",
        "     [3, 2, 1],\n",
        "     ])\n",
        "\n",
        "print(np.dot(A, B))"
      ],
      "execution_count": 29,
      "outputs": [
        {
          "output_type": "stream",
          "text": [
            "[[ 30  24  18]\n",
            " [ 84  69  54]\n",
            " [138 114  90]]\n"
          ],
          "name": "stdout"
        }
      ]
    },
    {
      "cell_type": "markdown",
      "metadata": {
        "id": "l2et9Wc4MdKH"
      },
      "source": [
        "Transpose a matrix\n",
        "taken from:- https://www.programiz.com/python-programming/examples/transpose-matrix"
      ]
    },
    {
      "cell_type": "code",
      "metadata": {
        "colab": {
          "base_uri": "https://localhost:8080/"
        },
        "id": "YYWg4osLMgwz",
        "outputId": "a6667237-e382-4398-fe1b-d86397928512"
      },
      "source": [
        "import numpy as np\n",
        "\n",
        "A = ([\n",
        "      [1, 2, 3],\n",
        "      [4, 5, 6],\n",
        "      [7, 8, 9],\n",
        "])\n",
        "\n",
        "# Program to transpose a matrix using a nested loop\n",
        "\n",
        "result = [[0,0,0],\n",
        "         [0,0,0],\n",
        "          [0,0,0]]\n",
        "\n",
        "# iterate through rows\n",
        "for i in range(len(A)):\n",
        "   # iterate through columns\n",
        "   for j in range(len(A[0])):\n",
        "       result[j][i] = A[i][j]\n",
        "\n",
        "for r in result:\n",
        "   print(r)\n"
      ],
      "execution_count": 4,
      "outputs": [
        {
          "output_type": "stream",
          "text": [
            "[1, 4, 7]\n",
            "[2, 5, 8]\n",
            "[3, 6, 9]\n"
          ],
          "name": "stdout"
        }
      ]
    },
    {
      "cell_type": "markdown",
      "metadata": {
        "id": "pStMxrQhNmud"
      },
      "source": [
        "Another way to transpose"
      ]
    },
    {
      "cell_type": "code",
      "metadata": {
        "colab": {
          "base_uri": "https://localhost:8080/"
        },
        "id": "UW0Ot5p4Nqn2",
        "outputId": "02013a30-0532-490e-89c0-2d1189605ff0"
      },
      "source": [
        "#Program to transpose a matrix using list comprehension\n",
        "import numpy as np\n",
        "\n",
        "A = ([\n",
        "      [1, 2, 3],\n",
        "      [4, 5, 6],\n",
        "      [7, 8, 9],\n",
        "])\n",
        "\n",
        "result = [[A[j][i] for j in range(len(A))] for i in range(len(A[0]))]\n",
        "\n",
        "for r in result:\n",
        "   print(r)"
      ],
      "execution_count": 5,
      "outputs": [
        {
          "output_type": "stream",
          "text": [
            "[1, 4, 7]\n",
            "[2, 5, 8]\n",
            "[3, 6, 9]\n"
          ],
          "name": "stdout"
        }
      ]
    },
    {
      "cell_type": "markdown",
      "metadata": {
        "id": "CGyR7TMeODc9"
      },
      "source": [
        "Super easy way to transpose a matrix through numpy"
      ]
    },
    {
      "cell_type": "code",
      "metadata": {
        "colab": {
          "base_uri": "https://localhost:8080/"
        },
        "id": "at7ZUiFpOIXG",
        "outputId": "3a09c4d2-d41d-4ebd-837b-ff231657bb21"
      },
      "source": [
        "import numpy as np\n",
        "\n",
        "A = np.array([\n",
        "      [1, 2, 3],\n",
        "      [4, 5, 6],\n",
        "      [7, 8, 9],\n",
        "])\n",
        "\n",
        "print(A.transpose())"
      ],
      "execution_count": 10,
      "outputs": [
        {
          "output_type": "stream",
          "text": [
            "[[1 4 7]\n",
            " [2 5 8]\n",
            " [3 6 9]]\n"
          ],
          "name": "stdout"
        }
      ]
    },
    {
      "cell_type": "code",
      "metadata": {
        "colab": {
          "base_uri": "https://localhost:8080/"
        },
        "id": "y5vgrAjNPApJ",
        "outputId": "1707f57d-d7e8-47db-ad78-6f0e1fb19ef1"
      },
      "source": [
        "import numpy as np\n",
        "\n",
        "A = np.array([\n",
        "      [1, 2, 3],\n",
        "      [4, 5, 6],\n",
        "      [7, 8, 9],\n",
        "])\n",
        "\n",
        "print(A.T)"
      ],
      "execution_count": 11,
      "outputs": [
        {
          "output_type": "stream",
          "text": [
            "[[1 4 7]\n",
            " [2 5 8]\n",
            " [3 6 9]]\n"
          ],
          "name": "stdout"
        }
      ]
    },
    {
      "cell_type": "markdown",
      "metadata": {
        "id": "NIDNKDLBSiM2"
      },
      "source": [
        "Create identity matrix from scratch\n",
        "taken from:- https://www.codevscolor.com/python-print-identity-matrix"
      ]
    },
    {
      "cell_type": "code",
      "metadata": {
        "colab": {
          "base_uri": "https://localhost:8080/"
        },
        "id": "4nsNS10LSmxC",
        "outputId": "caca73af-3413-48ba-d06c-05811af6cf17"
      },
      "source": [
        "import numpy as np\n",
        "\n",
        "size = int(input(\"Enter the size of the matrix : \"))\n",
        "\n",
        "for i in range(0,size):\n",
        "  for j in range(0,size):\n",
        "    if(i==j):\n",
        "      print(\"1\",end = \" \")\n",
        "    else:\n",
        "      print(\"0\",end = \" \")\n",
        "  print()\n"
      ],
      "execution_count": 12,
      "outputs": [
        {
          "output_type": "stream",
          "text": [
            "Enter the size of the matrix : 5\n",
            "1 0 0 0 0 \n",
            "0 1 0 0 0 \n",
            "0 0 1 0 0 \n",
            "0 0 0 1 0 \n",
            "0 0 0 0 1 \n"
          ],
          "name": "stdout"
        }
      ]
    },
    {
      "cell_type": "markdown",
      "metadata": {
        "id": "wxot2md9S525"
      },
      "source": [
        "Super easy way to create identity matrix using numpy"
      ]
    },
    {
      "cell_type": "code",
      "metadata": {
        "colab": {
          "base_uri": "https://localhost:8080/"
        },
        "id": "ClMYYL9STARC",
        "outputId": "532ee178-e925-4890-e79b-eb56dabdaa3b"
      },
      "source": [
        "import numpy as np\n",
        "\n",
        "print(np.identity(5))"
      ],
      "execution_count": 13,
      "outputs": [
        {
          "output_type": "stream",
          "text": [
            "[[1. 0. 0. 0. 0.]\n",
            " [0. 1. 0. 0. 0.]\n",
            " [0. 0. 1. 0. 0.]\n",
            " [0. 0. 0. 1. 0.]\n",
            " [0. 0. 0. 0. 1.]]\n"
          ],
          "name": "stdout"
        }
      ]
    },
    {
      "cell_type": "markdown",
      "metadata": {
        "id": "ywiw8qizTzYz"
      },
      "source": [
        "Multiply with identity matrix"
      ]
    },
    {
      "cell_type": "code",
      "metadata": {
        "colab": {
          "base_uri": "https://localhost:8080/"
        },
        "id": "Ndy7SPTFT3V9",
        "outputId": "f6b2d03e-0051-4799-f207-37be4920f53b"
      },
      "source": [
        "import numpy as np\n",
        "\n",
        "mat1 = []\n",
        "mat2 = []\n",
        "result = []\n",
        "\n",
        "I = np.identity(3,int)\n",
        "print(I)\n",
        "print(\" \")\n",
        "\n",
        "A = ([\n",
        "      [1, 2, 3],\n",
        "      [4, 5, 6],\n",
        "      [7, 8, 9],\n",
        "])\n",
        "\n",
        "# result is 3x3\n",
        "result = [[0,0,0],\n",
        "         [0,0,0],\n",
        "         [0,0,0]]\n",
        "\n",
        "\n",
        "# iterate through rows of A\n",
        "for i in range(len(I)):\n",
        "   # iterate through columns of I\n",
        "   for j in range(len(A[0])):\n",
        "       # iterate through rows of I\n",
        "       for k in range(len(A)):\n",
        "           result[i][j] = result[i][j] + I[i][k] * A[k][j]\n",
        "\n",
        "for r in result:\n",
        "   print(r)\n",
        "\n",
        "\n"
      ],
      "execution_count": 21,
      "outputs": [
        {
          "output_type": "stream",
          "text": [
            "[[1 0 0]\n",
            " [0 1 0]\n",
            " [0 0 1]]\n",
            " \n",
            "[1, 2, 3]\n",
            "[4, 5, 6]\n",
            "[7, 8, 9]\n"
          ],
          "name": "stdout"
        }
      ]
    },
    {
      "cell_type": "markdown",
      "metadata": {
        "id": "2vmKXubbgZ9o"
      },
      "source": [
        "Multiply Identity matrix with numpy"
      ]
    },
    {
      "cell_type": "code",
      "metadata": {
        "colab": {
          "base_uri": "https://localhost:8080/"
        },
        "id": "apQYH4smge4P",
        "outputId": "c40377bb-5066-4a06-f6bb-3bc334231829"
      },
      "source": [
        "import numpy as np\n",
        "\n",
        "I = np.identity(3,int)\n",
        "print(I)\n",
        "print(\" \")\n",
        "\n",
        "A = ([\n",
        "      [1, 2, 3],\n",
        "      [4, 5, 6],\n",
        "      [7, 8, 9],\n",
        "])\n",
        "\n",
        "print(np.dot(A, I))"
      ],
      "execution_count": 22,
      "outputs": [
        {
          "output_type": "stream",
          "text": [
            "[[1 0 0]\n",
            " [0 1 0]\n",
            " [0 0 1]]\n",
            " \n",
            "[[1 2 3]\n",
            " [4 5 6]\n",
            " [7 8 9]]\n"
          ],
          "name": "stdout"
        }
      ]
    },
    {
      "cell_type": "markdown",
      "metadata": {
        "id": "7USSbWM8g9XH"
      },
      "source": [
        "Another easy way to multiply the Identity matrix"
      ]
    },
    {
      "cell_type": "code",
      "metadata": {
        "colab": {
          "base_uri": "https://localhost:8080/"
        },
        "id": "4buGKahEhHEX",
        "outputId": "77589a99-bcb1-4471-d06f-063bd8780095"
      },
      "source": [
        "import numpy as np\n",
        "\n",
        "I = np.identity(3,int)\n",
        "print(I)\n",
        "print(\" \")\n",
        "\n",
        "A = ([\n",
        "      [1, 2, 3],\n",
        "      [4, 5, 6],\n",
        "      [7, 8, 9],\n",
        "])\n",
        "\n",
        "print(np.matmul(A, I))"
      ],
      "execution_count": 23,
      "outputs": [
        {
          "output_type": "stream",
          "text": [
            "[[1 0 0]\n",
            " [0 1 0]\n",
            " [0 0 1]]\n",
            " \n",
            "[[1 2 3]\n",
            " [4 5 6]\n",
            " [7 8 9]]\n"
          ],
          "name": "stdout"
        }
      ]
    },
    {
      "cell_type": "markdown",
      "metadata": {
        "id": "kB-jYeaih2Xe"
      },
      "source": [
        "Calculate inverse of a matrix"
      ]
    },
    {
      "cell_type": "code",
      "metadata": {
        "colab": {
          "base_uri": "https://localhost:8080/"
        },
        "id": "MzLDGGcBh6cy",
        "outputId": "42f53845-710c-490c-9742-539ef966ac0b"
      },
      "source": [
        "import numpy as np\n",
        "\n",
        "a = 5\n",
        "\n",
        "inv_a = a**-1\n",
        "\n",
        "print(inv_a)\n"
      ],
      "execution_count": 24,
      "outputs": [
        {
          "output_type": "stream",
          "text": [
            "0.2\n"
          ],
          "name": "stdout"
        }
      ]
    },
    {
      "cell_type": "markdown",
      "metadata": {
        "id": "JcSkk_dglUgQ"
      },
      "source": [
        "Inverse matrix using numpy"
      ]
    },
    {
      "cell_type": "code",
      "metadata": {
        "colab": {
          "base_uri": "https://localhost:8080/"
        },
        "id": "Bz3axs_niMSM",
        "outputId": "3386cd5b-f6d6-4c34-91d0-e92302cd1397"
      },
      "source": [
        "import numpy as np\n",
        "\n",
        "A = np.matrix([[1, 2], \n",
        "               [3, 4]])\n",
        "\n",
        "print(np.linalg.inv(A))"
      ],
      "execution_count": 30,
      "outputs": [
        {
          "output_type": "stream",
          "text": [
            "[[-2.   1. ]\n",
            " [ 1.5 -0.5]]\n"
          ],
          "name": "stdout"
        }
      ]
    }
  ]
}