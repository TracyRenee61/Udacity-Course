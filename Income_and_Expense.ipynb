{
  "nbformat": 4,
  "nbformat_minor": 0,
  "metadata": {
    "colab": {
      "name": "Income and Expense.ipynb",
      "provenance": []
    },
    "kernelspec": {
      "name": "python3",
      "display_name": "Python 3"
    },
    "language_info": {
      "name": "python"
    }
  },
  "cells": [
    {
      "cell_type": "markdown",
      "metadata": {
        "id": "fDGYwpwn42W2"
      },
      "source": [
        "This propgram will be used to help a person to track their income, costs,expenses, taxes and financial costs"
      ]
    },
    {
      "cell_type": "markdown",
      "metadata": {
        "id": "VBpJc_iS5Vk-"
      },
      "source": [
        "Import libraries"
      ]
    },
    {
      "cell_type": "code",
      "metadata": {
        "id": "_CJH8WnB4u63"
      },
      "source": [
        "import pandas as pd\n",
        "import datetime\n",
        "from datetime import datetime\n",
        "import os.path as path\n",
        "import matplotlib.pyplot as plt\n",
        "import seaborn"
      ],
      "execution_count": 34,
      "outputs": []
    },
    {
      "cell_type": "markdown",
      "metadata": {
        "id": "dC4z7Kan9W9F"
      },
      "source": [
        "Look for file and create if not there"
      ]
    },
    {
      "cell_type": "code",
      "metadata": {
        "id": "_4xTsoRj9WIV"
      },
      "source": [
        "if path.exists('income.csv'):\n",
        "   income = pd.read_csv('income.csv', header=0)\n",
        "else:\n",
        "   columns = ['date','type_trans','amount', 'add_or_subtract']\n",
        "   income = pd.DataFrame(columns=columns)"
      ],
      "execution_count": 35,
      "outputs": []
    },
    {
      "cell_type": "markdown",
      "metadata": {
        "id": "V7yPeoxo-HkK"
      },
      "source": [
        "While loop"
      ]
    },
    {
      "cell_type": "code",
      "metadata": {
        "colab": {
          "base_uri": "https://localhost:8080/"
        },
        "id": "xpHvE3E4-JvD",
        "outputId": "2b12860d-1723-4820-a872-ff8ee0eb2798"
      },
      "source": [
        "action = ''\n",
        "\n",
        "while action != 'Q':\n",
        "  action = str(input(\"Enter what you want to do with the dataframe: 'A' for add, 'D' for delete, 'P' for print, 'S' for sort, or 'Q' for quit: \")).upper()\n",
        "  if action == 'A':\n",
        "    date = input('Enter date of transaction (i.e. 2021,7,1): ')\n",
        "    year, month, day = map(int, date.split(','))\n",
        "    trans_date = datetime(year, month, day)\n",
        "    trans_date = str(trans_date)\n",
        "    trans_date = trans_date[:10]\n",
        "    transaction = str(input(\"Enter the type of transaction: 'I' for income, 'C' for cost, 'E' for expense, 'T' for tax, 'F' for finance: \")).upper()\n",
        "    if transaction == 'I': type_tran = 'income'\n",
        "    elif transaction == 'C': type_tran = 'cost_of_sale'\n",
        "    elif transaction == 'E': type_tran = 'expense_of_bus'\n",
        "    elif transaction == 'T': type_tran = 'tax'\n",
        "    elif transaction == 'F': type_tran = 'finance'\n",
        "    else: continue\n",
        "    amount = input(\"Please enter the amount of this transaction, such as XXX.XX: \")\n",
        "    amount = float(amount)\n",
        "    calculate = str(input(\"Enter whether this amount should be added or subtracted: 'A' for add or 'S' for subtract\")).upper()\n",
        "    if calculate == 'A': calculate = 'add'\n",
        "    if calculate == 'S': \n",
        "      calculate = 'subtract'\n",
        "      amount = 0 - amount\n",
        "    income = income.append({'date': trans_date, 'type_trans': type_tran, 'amount': amount, 'add_or_subtract': calculate}, ignore_index=True)\n",
        "  elif action == 'D':\n",
        "    del_no = input(\"Please enter the index number of the transaction you would like to delete: \")\n",
        "    del_no = int(del_no)\n",
        "    income.drop([del_no], inplace=True)\n",
        "  elif action == 'P': print(income)\n",
        "  elif action == 'S':\n",
        "    sorted = input(\"Please enter how you want the list sorted: 'D' for date or 'T' for transaction type \").upper()\n",
        "    if sorted == 'D': income = income.sort_values(by='date')\n",
        "    elif sorted == 'T': income = income.sort_values(by='type_trans')\n",
        "  elif action == 'Q': break\n",
        "  else: continue\n"
      ],
      "execution_count": 36,
      "outputs": [
        {
          "output_type": "stream",
          "text": [
            "Enter what you want to do with the dataframe: 'A' for add, 'D' for delete, 'P' for print, 'S' for sort, or 'Q' for quit: a\n",
            "Enter date of transaction (i.e. 2021,7,1): 2021,4,11\n",
            "Enter the type of transaction: 'I' for income, 'C' for cost, 'E' for expense, 'T' for tax, 'F' for finance: t\n",
            "Please enter the amount of this transaction, such as XXX.XX: 25\n",
            "Enter whether this amount should be added or subtracted: 'A' for add or 'S' for subtracts\n",
            "Enter what you want to do with the dataframe: 'A' for add, 'D' for delete, 'P' for print, 'S' for sort, or 'Q' for quit: q\n"
          ],
          "name": "stdout"
        }
      ]
    },
    {
      "cell_type": "markdown",
      "metadata": {
        "id": "CnP_b72zYoE9"
      },
      "source": [
        "Analyse dataframe"
      ]
    },
    {
      "cell_type": "code",
      "metadata": {
        "colab": {
          "base_uri": "https://localhost:8080/",
          "height": 349
        },
        "id": "TzpSDhoRY0xV",
        "outputId": "3e6f0ccf-5848-41ea-c189-201dff747084"
      },
      "source": [
        "income.groupby('type_trans').type_trans.count().plot.bar(ylim=0)\n",
        "plt.show()"
      ],
      "execution_count": 37,
      "outputs": [
        {
          "output_type": "display_data",
          "data": {
            "image/png": "[encoded data removed]",
            "text/plain": [
              "<Figure size 432x288 with 1 Axes>"
            ]
          },
          "metadata": {
            "tags": [],
            "needs_background": "light"
          }
        }
      ]
    },
    {
      "cell_type": "markdown",
      "metadata": {
        "id": "uyspFCuKQKWJ"
      },
      "source": [
        "Prepare income statement"
      ]
    },
    {
      "cell_type": "code",
      "metadata": {
        "colab": {
          "base_uri": "https://localhost:8080/"
        },
        "id": "Wz0jF65PR9Or",
        "outputId": "13c241a8-1b1e-44d3-9170-82edea8d306c"
      },
      "source": [
        "print(income)\n",
        "\n",
        "revenue = income.loc[income['type_trans'] == 'income', 'amount'].sum()\n",
        "cost_of_sales = income.loc[income['type_trans'] == 'cost_of_sale', 'amount'].sum() \n",
        "gross_income = revenue + cost_of_sales\n",
        "expenses =  income.loc[income['type_trans'] == 'expense_of_bus', 'amount'].sum()\n",
        "fin_costs = income.loc[income['type_trans'] == 'finance', 'amount'].sum() \n",
        "taxation = income.loc[income['type_trans'] == 'tax', 'amount'].sum()\n",
        "net_income = revenue + cost_of_sales + expenses + fin_costs + taxation\n"
      ],
      "execution_count": 38,
      "outputs": [
        {
          "output_type": "stream",
          "text": [
            "         date      type_trans  amount add_or_subtract\n",
            "0  2021-04-07          income   100.0             add\n",
            "1  2021-04-07    cost_of_sale   -75.0        subtract\n",
            "2  2021-04-07             tax   -20.0        subtract\n",
            "3  2021-04-07         finance   -10.0        subtract\n",
            "4  2021-04-07  expense_of_bus    -5.0        subtract\n",
            "5  2021-04-08          income  1000.0             add\n",
            "6  2021-04-09    cost_of_sale  -500.0        subtract\n",
            "7  2021-04-11          income   250.0             add\n",
            "8  2021-04-11             tax   -25.0        subtract\n"
          ],
          "name": "stdout"
        }
      ]
    },
    {
      "cell_type": "markdown",
      "metadata": {
        "id": "Y59pMt00WAxt"
      },
      "source": [
        "Print income statement"
      ]
    },
    {
      "cell_type": "code",
      "metadata": {
        "colab": {
          "base_uri": "https://localhost:8080/"
        },
        "id": "PlFtTsGtWF83",
        "outputId": "99e11035-121f-4704-c727-6bca7ff641d7"
      },
      "source": [
        "print(\"Revenue         \",          revenue)\n",
        "print(\"Cost of sales   \",    cost_of_sales)\n",
        "print(\"______________________________________________\")\n",
        "print(\"Gross income    \",     gross_income)\n",
        "print(\"Expenses        \",         expenses)\n",
        "print(\"Finance costs   \",    fin_costs)\n",
        "print(\"Taxation        \",         taxation)\n",
        "print(\"______________________________________________\")\n",
        "print(\"Net income      \",       net_income)"
      ],
      "execution_count": 39,
      "outputs": [
        {
          "output_type": "stream",
          "text": [
            "Revenue          1350.0\n",
            "Cost of sales    -575.0\n",
            "______________________________________________\n",
            "Gross income     775.0\n",
            "Expenses         -5.0\n",
            "Finance costs    -10.0\n",
            "Taxation         -45.0\n",
            "______________________________________________\n",
            "Net income       715.0\n"
          ],
          "name": "stdout"
        }
      ]
    },
    {
      "cell_type": "markdown",
      "metadata": {
        "id": "NBB_cD_9-WIk"
      },
      "source": [
        "Convert file to csv"
      ]
    },
    {
      "cell_type": "code",
      "metadata": {
        "colab": {
          "base_uri": "https://localhost:8080/"
        },
        "id": "NkzqSNtu-aR-",
        "outputId": "0d992737-0284-4e6f-bc3e-34f2a1ee3066"
      },
      "source": [
        "income.to_csv('income.csv', index = False)\n",
        "income = pd.read_csv('income.csv')\n",
        "print(income)"
      ],
      "execution_count": 40,
      "outputs": [
        {
          "output_type": "stream",
          "text": [
            "         date      type_trans  amount add_or_subtract\n",
            "0  2021-04-07          income   100.0             add\n",
            "1  2021-04-07    cost_of_sale   -75.0        subtract\n",
            "2  2021-04-07             tax   -20.0        subtract\n",
            "3  2021-04-07         finance   -10.0        subtract\n",
            "4  2021-04-07  expense_of_bus    -5.0        subtract\n",
            "5  2021-04-08          income  1000.0             add\n",
            "6  2021-04-09    cost_of_sale  -500.0        subtract\n",
            "7  2021-04-11          income   250.0             add\n",
            "8  2021-04-11             tax   -25.0        subtract\n"
          ],
          "name": "stdout"
        }
      ]
    }
  ]
}