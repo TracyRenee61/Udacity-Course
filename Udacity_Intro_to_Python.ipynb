{
  "nbformat": 4,
  "nbformat_minor": 0,
  "metadata": {
    "colab": {
      "name": "Udacity - Intro to Python.ipynb",
      "provenance": []
    },
    "kernelspec": {
      "name": "python3",
      "display_name": "Python 3"
    },
    "language_info": {
      "name": "python"
    }
  },
  "cells": [
    {
      "cell_type": "code",
      "metadata": {
        "colab": {
          "base_uri": "https://localhost:8080/"
        },
        "id": "2Neud8n1yTPX",
        "outputId": "911d2623-7052-4f0b-907b-f5fbf9de541d"
      },
      "source": [
        "names = ['Reginald', 'Krystal', 'Lavoy', 'Matthew', 'Stacey']\n",
        "assignments = [1, 3, 2, 4, 3]\n",
        "grades = [79, 84, 63, 96, 73]\n",
        "project_grade = [90, 95, 75, 100, 87]\n",
        "\n",
        "message = \"Hi {},\\n\\nThis is a reminder that you have {} assignments left to \\\n",
        "submit before you can graduate. You're current grade is {} and can increase \\\n",
        "to {} if you submit all assignments before the due date.\\n\\n\"\n",
        "\n",
        "for i in range(len(names)):\n",
        "  print(message.format(names[i], assignments[i], grades[i], project_grade[i]))\n",
        "\n"
      ],
      "execution_count": null,
      "outputs": [
        {
          "output_type": "stream",
          "text": [
            "Hi Reginald,\n",
            "\n",
            "This is a reminder that you have 1 assignments left to submit before you can graduate. You're current grade is 79 and can increase to 90 if you submit all assignments before the due date.\n",
            "\n",
            "\n",
            "Hi Krystal,\n",
            "\n",
            "This is a reminder that you have 3 assignments left to submit before you can graduate. You're current grade is 84 and can increase to 95 if you submit all assignments before the due date.\n",
            "\n",
            "\n",
            "Hi Lavoy,\n",
            "\n",
            "This is a reminder that you have 2 assignments left to submit before you can graduate. You're current grade is 63 and can increase to 75 if you submit all assignments before the due date.\n",
            "\n",
            "\n",
            "Hi Matthew,\n",
            "\n",
            "This is a reminder that you have 4 assignments left to submit before you can graduate. You're current grade is 96 and can increase to 100 if you submit all assignments before the due date.\n",
            "\n",
            "\n",
            "Hi Stacey,\n",
            "\n",
            "This is a reminder that you have 3 assignments left to submit before you can graduate. You're current grade is 73 and can increase to 87 if you submit all assignments before the due date.\n",
            "\n",
            "\n"
          ],
          "name": "stdout"
        }
      ]
    }
  ]
}