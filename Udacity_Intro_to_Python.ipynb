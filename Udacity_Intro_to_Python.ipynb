{
  "nbformat": 4,
  "nbformat_minor": 0,
  "metadata": {
    "colab": {
      "name": "Udacity - Intro to Python.ipynb",
      "provenance": []
    },
    "kernelspec": {
      "name": "python3",
      "display_name": "Python 3"
    },
    "language_info": {
      "name": "python"
    }
  },
  "cells": [
    {
      "cell_type": "code",
      "metadata": {
        "colab": {
          "base_uri": "https://localhost:8080/"
        },
        "id": "2Neud8n1yTPX",
        "outputId": "911d2623-7052-4f0b-907b-f5fbf9de541d"
      },
      "source": [
        "names = ['Reginald', 'Krystal', 'Lavoy', 'Matthew', 'Stacey']\n",
        "assignments = [1, 3, 2, 4, 3]\n",
        "grades = [79, 84, 63, 96, 73]\n",
        "project_grade = [90, 95, 75, 100, 87]\n",
        "\n",
        "message = \"Hi {},\\n\\nThis is a reminder that you have {} assignments left to \\\n",
        "submit before you can graduate. You're current grade is {} and can increase \\\n",
        "to {} if you submit all assignments before the due date.\\n\\n\"\n",
        "\n",
        "for i in range(len(names)):\n",
        "  print(message.format(names[i], assignments[i], grades[i], project_grade[i]))\n",
        "\n"
      ],
      "execution_count": null,
      "outputs": [
        {
          "output_type": "stream",
          "text": [
            "Hi Reginald,\n",
            "\n",
            "This is a reminder that you have 1 assignments left to submit before you can graduate. You're current grade is 79 and can increase to 90 if you submit all assignments before the due date.\n",
            "\n",
            "\n",
            "Hi Krystal,\n",
            "\n",
            "This is a reminder that you have 3 assignments left to submit before you can graduate. You're current grade is 84 and can increase to 95 if you submit all assignments before the due date.\n",
            "\n",
            "\n",
            "Hi Lavoy,\n",
            "\n",
            "This is a reminder that you have 2 assignments left to submit before you can graduate. You're current grade is 63 and can increase to 75 if you submit all assignments before the due date.\n",
            "\n",
            "\n",
            "Hi Matthew,\n",
            "\n",
            "This is a reminder that you have 4 assignments left to submit before you can graduate. You're current grade is 96 and can increase to 100 if you submit all assignments before the due date.\n",
            "\n",
            "\n",
            "Hi Stacey,\n",
            "\n",
            "This is a reminder that you have 3 assignments left to submit before you can graduate. You're current grade is 73 and can increase to 87 if you submit all assignments before the due date.\n",
            "\n",
            "\n"
          ],
          "name": "stdout"
        }
      ]
    },
    {
      "cell_type": "markdown",
      "metadata": {
        "id": "mBZu5k1X8ZZK"
      },
      "source": [
        "ZeroDivisionError"
      ]
    },
    {
      "cell_type": "code",
      "metadata": {
        "colab": {
          "base_uri": "https://localhost:8080/",
          "height": 275
        },
        "id": "ybteOzU38c37",
        "outputId": "e9613b3f-8e0c-4e1c-9aff-c1f83012f74d"
      },
      "source": [
        "chicken = int(input(\"Please enter number of pieces of fried chicken you have made: \"))\n",
        "picnic = int(input(\"Please enter the number of people attending the picnic: \"))\n",
        "\n",
        "total = chicken / picnic\n",
        "\n",
        "print(\"There will be {} pieces of chicken for each person attemding the picnic.\", format(total))"
      ],
      "execution_count": 3,
      "outputs": [
        {
          "output_type": "stream",
          "text": [
            "Please enter number of pieces of fried chicken you have made: 5\n",
            "Please enter the number of people attending the picnic: 0\n"
          ],
          "name": "stdout"
        },
        {
          "output_type": "error",
          "ename": "ZeroDivisionError",
          "evalue": "ignored",
          "traceback": [
            "\u001b[0;31m---------------------------------------------------------------------------\u001b[0m",
            "\u001b[0;31mZeroDivisionError\u001b[0m                         Traceback (most recent call last)",
            "\u001b[0;32m<ipython-input-3-f7d5018da43b>\u001b[0m in \u001b[0;36m<module>\u001b[0;34m()\u001b[0m\n\u001b[1;32m      2\u001b[0m \u001b[0mpicnic\u001b[0m \u001b[0;34m=\u001b[0m \u001b[0mint\u001b[0m\u001b[0;34m(\u001b[0m\u001b[0minput\u001b[0m\u001b[0;34m(\u001b[0m\u001b[0;34m\"Please enter the number of people attending the picnic: \"\u001b[0m\u001b[0;34m)\u001b[0m\u001b[0;34m)\u001b[0m\u001b[0;34m\u001b[0m\u001b[0;34m\u001b[0m\u001b[0m\n\u001b[1;32m      3\u001b[0m \u001b[0;34m\u001b[0m\u001b[0m\n\u001b[0;32m----> 4\u001b[0;31m \u001b[0mtotal\u001b[0m \u001b[0;34m=\u001b[0m \u001b[0mchicken\u001b[0m \u001b[0;34m/\u001b[0m \u001b[0mpicnic\u001b[0m\u001b[0;34m\u001b[0m\u001b[0;34m\u001b[0m\u001b[0m\n\u001b[0m\u001b[1;32m      5\u001b[0m \u001b[0;34m\u001b[0m\u001b[0m\n\u001b[1;32m      6\u001b[0m \u001b[0mprint\u001b[0m\u001b[0;34m(\u001b[0m\u001b[0;34m\"There will be {} pieces of chicken for each person attemding the picnic.\"\u001b[0m\u001b[0;34m,\u001b[0m \u001b[0mformat\u001b[0m\u001b[0;34m(\u001b[0m\u001b[0mtotal\u001b[0m\u001b[0;34m)\u001b[0m\u001b[0;34m)\u001b[0m\u001b[0;34m\u001b[0m\u001b[0;34m\u001b[0m\u001b[0m\n",
            "\u001b[0;31mZeroDivisionError\u001b[0m: division by zero"
          ]
        }
      ]
    },
    {
      "cell_type": "code",
      "metadata": {
        "colab": {
          "base_uri": "https://localhost:8080/"
        },
        "id": "V2wGMMhL9tX-",
        "outputId": "d4b8f116-681f-4348-ba7a-636b34072595"
      },
      "source": [
        "try:\n",
        "  chicken = int(input(\"Please enter number of pieces of fried chicken you have made: \"))\n",
        "  picnic = int(input(\"Please enter the number of people attending the picnic: \"))\n",
        "  \n",
        "  num_each = chicken // picnic \n",
        "  leftover = chicken % picnic\n",
        "except ZeroDivisionError:\n",
        "  num_each = 0\n",
        "  leftover = chicken\n",
        "\n",
        "print(\"There will be {} pieces of chicken for each person attending the picnic, with {} leftover.\".format(num_each, leftover))"
      ],
      "execution_count": 18,
      "outputs": [
        {
          "output_type": "stream",
          "text": [
            "Please enter number of pieces of fried chicken you have made: 6\n",
            "Please enter the number of people attending the picnic: 0\n",
            "There will be 0 pieces of chicken for each person attending the picnic, with 6 leftover.\n"
          ],
          "name": "stdout"
        }
      ]
    }
  ]
}